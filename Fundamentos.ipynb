{
 "cells": [
  {
   "cell_type": "markdown",
   "id": "435b9115",
   "metadata": {},
   "source": [
    "#Python distingue entre mayúsculas y minúsculas"
   ]
  },
  {
   "cell_type": "code",
   "execution_count": 2,
   "id": "e488ef70",
   "metadata": {},
   "outputs": [
    {
     "name": "stdout",
     "output_type": "stream",
     "text": [
      "el curso es:  backend Python\n"
     ]
    }
   ],
   "source": [
    "A = \"backend Python\"\n",
    "print(\"El curso es:\",A)"
   ]
  },
  {
   "cell_type": "markdown",
   "id": "679f4f63",
   "metadata": {},
   "source": [
    "#Palabras reservadas"
   ]
  },
  {
   "cell_type": "code",
   "execution_count": 3,
   "id": "eb0e67bd",
   "metadata": {},
   "outputs": [
    {
     "name": "stdout",
     "output_type": "stream",
     "text": [
      "\n",
      "Here is a list of the Python keywords.  Enter any keyword to get more help.\n",
      "\n",
      "False               class               from                or\n",
      "None                continue            global              pass\n",
      "True                def                 if                  raise\n",
      "and                 del                 import              return\n",
      "as                  elif                in                  try\n",
      "assert              else                is                  while\n",
      "async               except              lambda              with\n",
      "await               finally             nonlocal            yield\n",
      "break               for                 not                 \n",
      "\n"
     ]
    }
   ],
   "source": [
    "help(\"keywords\")"
   ]
  },
  {
   "cell_type": "markdown",
   "id": "bb748ce8",
   "metadata": {},
   "source": [
    "#Caracteres de escape en python"
   ]
  },
  {
   "cell_type": "code",
   "execution_count": 4,
   "id": "343442a2",
   "metadata": {},
   "outputs": [
    {
     "data": {
      "text/plain": [
       "\"'\""
      ]
     },
     "execution_count": 4,
     "metadata": {},
     "output_type": "execute_result"
    }
   ],
   "source": [
    "'\\'' # Single quote / comilla sencilla"
   ]
  },
  {
   "cell_type": "code",
   "execution_count": 5,
   "id": "d24e7d08",
   "metadata": {},
   "outputs": [
    {
     "data": {
      "text/plain": [
       "'\"'"
      ]
     },
     "execution_count": 5,
     "metadata": {},
     "output_type": "execute_result"
    }
   ],
   "source": [
    "\"\\\"\" #Double quote / comilla doble"
   ]
  },
  {
   "cell_type": "code",
   "execution_count": null,
   "id": "9f321745",
   "metadata": {},
   "outputs": [],
   "source": [
    "'\\n' #New line / salto de línea "
   ]
  },
  {
   "cell_type": "code",
   "execution_count": 6,
   "id": "51736203",
   "metadata": {},
   "outputs": [
    {
     "name": "stdout",
     "output_type": "stream",
     "text": [
      "Backend Python de EBAC\n"
     ]
    }
   ],
   "source": [
    "my_curse = \"Backend Python de EBAC\"\n",
    "print (my_curse)"
   ]
  },
  {
   "cell_type": "code",
   "execution_count": 8,
   "id": "5493fb5f",
   "metadata": {},
   "outputs": [
    {
     "name": "stdout",
     "output_type": "stream",
     "text": [
      "Backend Python\n",
      "de EBAC\n"
     ]
    }
   ],
   "source": [
    "my_curse = \"Backend Python\\nde EBAC\"\n",
    "print (my_curse)"
   ]
  },
  {
   "cell_type": "code",
   "execution_count": 9,
   "id": "8f0d286e",
   "metadata": {},
   "outputs": [
    {
     "name": "stdout",
     "output_type": "stream",
     "text": [
      "Backend\n",
      "Python\n",
      "de\n",
      "EBAC\n"
     ]
    }
   ],
   "source": [
    "my_curse = \"Backend\\nPython\\nde\\nEBAC\"\n",
    "print (my_curse)"
   ]
  },
  {
   "cell_type": "code",
   "execution_count": null,
   "id": "4645b7da",
   "metadata": {},
   "outputs": [],
   "source": [
    "'\\t' #tab"
   ]
  },
  {
   "cell_type": "code",
   "execution_count": 12,
   "id": "fb6f8fce",
   "metadata": {},
   "outputs": [
    {
     "name": "stdout",
     "output_type": "stream",
     "text": [
      "Backend Python de EBAC\n"
     ]
    }
   ],
   "source": [
    "my_curse = \"Backend Python de EBAC\"\n",
    "print (my_curse)"
   ]
  },
  {
   "cell_type": "code",
   "execution_count": 13,
   "id": "65c87d40",
   "metadata": {},
   "outputs": [
    {
     "name": "stdout",
     "output_type": "stream",
     "text": [
      "Backend Python\tde EBAC\n"
     ]
    }
   ],
   "source": [
    "my_curse = \"Backend Python\\tde EBAC\"\n",
    "print (my_curse)"
   ]
  },
  {
   "cell_type": "code",
   "execution_count": 14,
   "id": "4da5d2f3",
   "metadata": {},
   "outputs": [
    {
     "name": "stdout",
     "output_type": "stream",
     "text": [
      "Backend\tPython\tde\tEBAC\n"
     ]
    }
   ],
   "source": [
    "my_curse = \"Backend\\tPython\\tde\\tEBAC\"\n",
    "print (my_curse)"
   ]
  },
  {
   "cell_type": "code",
   "execution_count": 15,
   "id": "32efa877",
   "metadata": {},
   "outputs": [
    {
     "data": {
      "text/plain": [
       "'\\r'"
      ]
     },
     "execution_count": 15,
     "metadata": {},
     "output_type": "execute_result"
    }
   ],
   "source": [
    "'\\r' #Carriage return / retorno de carro"
   ]
  },
  {
   "cell_type": "code",
   "execution_count": 17,
   "id": "5240d5e8",
   "metadata": {},
   "outputs": [
    {
     "name": "stdout",
     "output_type": "stream",
     "text": [
      "Backend Python de EBAC\n"
     ]
    }
   ],
   "source": [
    "my_curse = \"Backend Python de EBAC\"\n",
    "print (my_curse)"
   ]
  },
  {
   "cell_type": "code",
   "execution_count": 18,
   "id": "6c3e6117",
   "metadata": {},
   "outputs": [
    {
     "name": "stdout",
     "output_type": "stream",
     "text": [
      "Backend\r",
      "Python de EBAC\n"
     ]
    }
   ],
   "source": [
    "my_curse = \"Backend\\rPython de EBAC\"\n",
    "print (my_curse)"
   ]
  },
  {
   "cell_type": "code",
   "execution_count": 19,
   "id": "bd6426d2",
   "metadata": {},
   "outputs": [
    {
     "name": "stdout",
     "output_type": "stream",
     "text": [
      "Backend\r",
      "Python\r",
      "de EBAC\n"
     ]
    }
   ],
   "source": [
    "my_curse = \"Backend\\rPython\\rde EBAC\"\n",
    "print (my_curse)"
   ]
  },
  {
   "cell_type": "code",
   "execution_count": null,
   "id": "ad38f99d",
   "metadata": {},
   "outputs": [],
   "source": [
    "'\\b' #Backspace / retorno"
   ]
  },
  {
   "cell_type": "code",
   "execution_count": 20,
   "id": "909a588a",
   "metadata": {},
   "outputs": [
    {
     "name": "stdout",
     "output_type": "stream",
     "text": [
      "Backend Python de EBAC\n"
     ]
    }
   ],
   "source": [
    "my_curse = \"Backend Python de EBAC\"\n",
    "print (my_curse)"
   ]
  },
  {
   "cell_type": "code",
   "execution_count": 22,
   "id": "de3f8487",
   "metadata": {},
   "outputs": [
    {
     "name": "stdout",
     "output_type": "stream",
     "text": [
      "Backend\bPython de EBAC\n"
     ]
    }
   ],
   "source": [
    "my_curse = \"Backend\\bPython de EBAC\"\n",
    "#Va a eliminar la 'd'\n",
    "print (my_curse)"
   ]
  },
  {
   "cell_type": "code",
   "execution_count": 23,
   "id": "2eeb823d",
   "metadata": {},
   "outputs": [
    {
     "name": "stdout",
     "output_type": "stream",
     "text": [
      "Backend\bPython\bde EBAC\n"
     ]
    }
   ],
   "source": [
    "my_curse = \"Backend\\bPython\\bde EBAC\"\n",
    "#Va a eliminar la 'd' y además la 'n'\n",
    "print (my_curse)"
   ]
  },
  {
   "cell_type": "code",
   "execution_count": null,
   "id": "7bc7f98c",
   "metadata": {},
   "outputs": [],
   "source": [
    "'\\ooo' #Octal"
   ]
  },
  {
   "cell_type": "code",
   "execution_count": 24,
   "id": "7fa37835",
   "metadata": {},
   "outputs": [
    {
     "name": "stdout",
     "output_type": "stream",
     "text": [
      "Hola\n"
     ]
    }
   ],
   "source": [
    "hello_spanish_octal = \"\\110\\157\\154\\141\"\n",
    "print(hello_spanish_octal)"
   ]
  },
  {
   "cell_type": "code",
   "execution_count": null,
   "id": "6742c1ea",
   "metadata": {},
   "outputs": [],
   "source": [
    "'\\xhh' #Hexadecimal"
   ]
  },
  {
   "cell_type": "code",
   "execution_count": 25,
   "id": "594211f4",
   "metadata": {},
   "outputs": [
    {
     "name": "stdout",
     "output_type": "stream",
     "text": [
      "Hola\n",
      "buenas\n"
     ]
    }
   ],
   "source": [
    "hello_spanish_hex = \"\\x48\\x6f\\x6c\\x61\\n\\x62\\x75\\x65\\x6e\\x61\\x73\"\n",
    "print(hello_spanish_hex)"
   ]
  },
  {
   "cell_type": "code",
   "execution_count": null,
   "id": "6a38dba9",
   "metadata": {},
   "outputs": [],
   "source": []
  }
 ],
 "metadata": {
  "kernelspec": {
   "display_name": "Python 3 (ipykernel)",
   "language": "python",
   "name": "python3"
  },
  "language_info": {
   "codemirror_mode": {
    "name": "ipython",
    "version": 3
   },
   "file_extension": ".py",
   "mimetype": "text/x-python",
   "name": "python",
   "nbconvert_exporter": "python",
   "pygments_lexer": "ipython3",
   "version": "3.10.2"
  }
 },
 "nbformat": 4,
 "nbformat_minor": 5
}
