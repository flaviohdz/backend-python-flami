{
 "cells": [
  {
   "cell_type": "markdown",
   "id": "7b01b1bb",
   "metadata": {},
   "source": [
    "# Panorama\n",
    "int - Integer / números enteros\n",
    "\n",
    "float - float / números con decimal\n",
    "\n",
    "complex - complex / complejos (números con una parte real y una imaginaria)\n",
    "\n",
    "bool - boolean / booleanos valores lógicos (true/false) (verdadero/falso)\n",
    "\n",
    "str - string / cadenas, textos"
   ]
  },
  {
   "cell_type": "markdown",
   "id": "8b3e94e0",
   "metadata": {},
   "source": [
    "# int - Integer / números enteros"
   ]
  },
  {
   "cell_type": "code",
   "execution_count": 1,
   "id": "3488568e",
   "metadata": {},
   "outputs": [
    {
     "name": "stdout",
     "output_type": "stream",
     "text": [
      "El valor de my_integer es: 10\n",
      "El tipo de dato de my_integer es: <class 'int'>\n"
     ]
    }
   ],
   "source": [
    "my_integer = 10\n",
    "print(\"El valor de my_integer es:\",my_integer)\n",
    "print(\"El tipo de dato de my_integer es:\",type(my_integer))"
   ]
  },
  {
   "cell_type": "code",
   "execution_count": 2,
   "id": "df632d02",
   "metadata": {},
   "outputs": [
    {
     "name": "stdout",
     "output_type": "stream",
     "text": [
      "El valor de my_integer es: 1023456\n",
      "El tipo de dato de my_integer es: <class 'int'>\n"
     ]
    }
   ],
   "source": [
    "my_integer = 1023456\n",
    "print(\"El valor de my_integer es:\",my_integer)\n",
    "print(\"El tipo de dato de my_integer es:\",type(my_integer))"
   ]
  },
  {
   "cell_type": "code",
   "execution_count": 3,
   "id": "0f8cac14",
   "metadata": {},
   "outputs": [
    {
     "ename": "SyntaxError",
     "evalue": "invalid decimal literal (529720983.py, line 2)",
     "output_type": "error",
     "traceback": [
      "\u001b[1;36m  Input \u001b[1;32mIn [3]\u001b[1;36m\u001b[0m\n\u001b[1;33m    my_integer = 10g\u001b[0m\n\u001b[1;37m                  ^\u001b[0m\n\u001b[1;31mSyntaxError\u001b[0m\u001b[1;31m:\u001b[0m invalid decimal literal\n"
     ]
    }
   ],
   "source": [
    "#error\n",
    "my_integer = 10g\n",
    "print(\"El valor de my_integer es:\",my_integer)\n",
    "print(\"El tipo de dato de my_integer es:\",type(my_integer))"
   ]
  },
  {
   "cell_type": "code",
   "execution_count": 4,
   "id": "97a2860e",
   "metadata": {},
   "outputs": [
    {
     "ename": "SyntaxError",
     "evalue": "invalid syntax (557512329.py, line 2)",
     "output_type": "error",
     "traceback": [
      "\u001b[1;36m  Input \u001b[1;32mIn [4]\u001b[1;36m\u001b[0m\n\u001b[1;33m    my_integer = 10@\u001b[0m\n\u001b[1;37m                    ^\u001b[0m\n\u001b[1;31mSyntaxError\u001b[0m\u001b[1;31m:\u001b[0m invalid syntax\n"
     ]
    }
   ],
   "source": [
    "#error\n",
    "my_integer = 10@\n",
    "print(\"El valor de my_integer es:\",my_integer)\n",
    "print(\"El tipo de dato de my_integer es:\",type(my_integer))"
   ]
  },
  {
   "cell_type": "markdown",
   "id": "bd5456d4",
   "metadata": {},
   "source": [
    "# float - float / números con decimal"
   ]
  },
  {
   "cell_type": "code",
   "execution_count": 6,
   "id": "0dd7f0f0",
   "metadata": {},
   "outputs": [
    {
     "name": "stdout",
     "output_type": "stream",
     "text": [
      "El valor de my_float es de: 1.123\n",
      "El tipo de dato de my_float es: <class 'float'>\n"
     ]
    }
   ],
   "source": [
    "my_float = 1.123\n",
    "print(\"El valor de my_float es de:\",my_float)\n",
    "print(\"El tipo de dato de my_float es:\",type(my_float))"
   ]
  },
  {
   "cell_type": "code",
   "execution_count": 7,
   "id": "341fe62b",
   "metadata": {},
   "outputs": [
    {
     "ename": "SyntaxError",
     "evalue": "invalid decimal literal (1433721292.py, line 2)",
     "output_type": "error",
     "traceback": [
      "\u001b[1;36m  Input \u001b[1;32mIn [7]\u001b[1;36m\u001b[0m\n\u001b[1;33m    my_float = 1.123g\u001b[0m\n\u001b[1;37m                   ^\u001b[0m\n\u001b[1;31mSyntaxError\u001b[0m\u001b[1;31m:\u001b[0m invalid decimal literal\n"
     ]
    }
   ],
   "source": [
    "#error\n",
    "my_float = 1.123g\n",
    "print(\"El valor de my_float es de:\",my_float)\n",
    "print(\"El tipo de dato de my_float es:\",type(my_float))"
   ]
  },
  {
   "cell_type": "code",
   "execution_count": 8,
   "id": "db2d22fa",
   "metadata": {},
   "outputs": [
    {
     "name": "stdout",
     "output_type": "stream",
     "text": [
      "El valor de my_float es de: 2000.0\n",
      "El tipo de dato de my_float es: <class 'float'>\n"
     ]
    }
   ],
   "source": [
    "#notación científica \n",
    "my_float = 2e3\n",
    "print(\"El valor de my_float es de:\",my_float)\n",
    "print(\"El tipo de dato de my_float es:\",type(my_float))"
   ]
  },
  {
   "cell_type": "code",
   "execution_count": 9,
   "id": "ebf9b3c0",
   "metadata": {},
   "outputs": [
    {
     "data": {
      "text/plain": [
       "1.1"
      ]
     },
     "execution_count": 9,
     "metadata": {},
     "output_type": "execute_result"
    }
   ],
   "source": [
    "1.1"
   ]
  },
  {
   "cell_type": "code",
   "execution_count": 10,
   "id": "c07e3471",
   "metadata": {},
   "outputs": [
    {
     "data": {
      "text/plain": [
       "1.1"
      ]
     },
     "execution_count": 10,
     "metadata": {},
     "output_type": "execute_result"
    }
   ],
   "source": [
    "1.1e0 # 1.1 * 10 ** 0"
   ]
  },
  {
   "cell_type": "code",
   "execution_count": 11,
   "id": "d1a3ada5",
   "metadata": {},
   "outputs": [
    {
     "data": {
      "text/plain": [
       "110.0"
      ]
     },
     "execution_count": 11,
     "metadata": {},
     "output_type": "execute_result"
    }
   ],
   "source": [
    "1.1e2 # 1.1 * 10 ** 2"
   ]
  },
  {
   "cell_type": "code",
   "execution_count": 12,
   "id": "e2a27479",
   "metadata": {},
   "outputs": [
    {
     "data": {
      "text/plain": [
       "0.08"
      ]
     },
     "execution_count": 12,
     "metadata": {},
     "output_type": "execute_result"
    }
   ],
   "source": [
    "8e-2 # 8 * 10 ** -2"
   ]
  },
  {
   "cell_type": "markdown",
   "id": "b899528d",
   "metadata": {},
   "source": [
    "# complex - complex / complejos (números con una parte real y una imaginaria)\n",
    "\n",
    "complex = x + yj\n",
    "\n",
    "x = parte real\n",
    "\n",
    "yj = parte imaginaria "
   ]
  },
  {
   "cell_type": "code",
   "execution_count": 13,
   "id": "0923ad9d",
   "metadata": {},
   "outputs": [
    {
     "name": "stdout",
     "output_type": "stream",
     "text": [
      "El valor de my_complex es de: (5+8j)\n",
      "El tipo de dato de my_complex es: <class 'complex'>\n"
     ]
    }
   ],
   "source": [
    "my_complex = 5 + 8j\n",
    "print(\"El valor de my_complex es de:\",my_complex)\n",
    "print(\"El tipo de dato de my_complex es:\",type(my_complex))"
   ]
  },
  {
   "cell_type": "markdown",
   "id": "2ecc808e",
   "metadata": {},
   "source": [
    "# bool - Boolean (True/False)/Valores Lógicos (Verdadero/Falso)"
   ]
  },
  {
   "cell_type": "code",
   "execution_count": 6,
   "id": "7be3096f",
   "metadata": {},
   "outputs": [
    {
     "name": "stdout",
     "output_type": "stream",
     "text": [
      "El valor de my_complex es de: False\n",
      "El tipo de dato de my_complex es: <class 'bool'>\n"
     ]
    }
   ],
   "source": [
    "my_boolean =False\n",
    "print(\"El valor de my_complex es de:\",my_boolean)\n",
    "print(\"El tipo de dato de my_complex es:\",type(my_boolean))"
   ]
  },
  {
   "cell_type": "code",
   "execution_count": 7,
   "id": "2f1be5fa",
   "metadata": {},
   "outputs": [
    {
     "name": "stdout",
     "output_type": "stream",
     "text": [
      "El valor de my_complex es de: True\n",
      "El tipo de dato de my_complex es: <class 'bool'>\n"
     ]
    }
   ],
   "source": [
    "my_boolean = True\n",
    "print(\"El valor de my_complex es de:\",my_boolean)\n",
    "print(\"El tipo de dato de my_complex es:\",type(my_boolean))"
   ]
  },
  {
   "cell_type": "code",
   "execution_count": 8,
   "id": "418e1e76",
   "metadata": {},
   "outputs": [],
   "source": [
    "# True = 1 \n",
    "# False = 0"
   ]
  },
  {
   "cell_type": "code",
   "execution_count": 9,
   "id": "c0de2787",
   "metadata": {},
   "outputs": [
    {
     "name": "stdout",
     "output_type": "stream",
     "text": [
      "3\n"
     ]
    }
   ],
   "source": [
    "# 3\n",
    "print(True+True+True)"
   ]
  },
  {
   "cell_type": "code",
   "execution_count": 10,
   "id": "cab368ec",
   "metadata": {},
   "outputs": [
    {
     "name": "stdout",
     "output_type": "stream",
     "text": [
      "0\n"
     ]
    }
   ],
   "source": [
    "# 0\n",
    "print(False+False+False)"
   ]
  },
  {
   "cell_type": "markdown",
   "id": "ab10d454",
   "metadata": {},
   "source": [
    "# str - String / Cadenas, Textos"
   ]
  },
  {
   "cell_type": "code",
   "execution_count": 11,
   "id": "762c7eac",
   "metadata": {},
   "outputs": [
    {
     "name": "stdout",
     "output_type": "stream",
     "text": [
      "El valor de my_string es de: Backend Python\n",
      "El tipo de dato de my_complex es: <class 'str'>\n"
     ]
    }
   ],
   "source": [
    "my_string = \"Backend Python\"\n",
    "print(\"El valor de my_string es de:\",my_string)\n",
    "print(\"El tipo de dato de my_complex es:\",type(my_string))"
   ]
  },
  {
   "cell_type": "code",
   "execution_count": 12,
   "id": "c730431f",
   "metadata": {},
   "outputs": [
    {
     "name": "stdout",
     "output_type": "stream",
     "text": [
      "El valor de my_string es de: Curso de EBAC\n",
      "El tipo de dato de my_complex es: <class 'str'>\n"
     ]
    }
   ],
   "source": [
    "my_string = \"Curso de EBAC\"\n",
    "print(\"El valor de my_string es de:\",my_string)\n",
    "print(\"El tipo de dato de my_complex es:\",type(my_string))"
   ]
  },
  {
   "cell_type": "code",
   "execution_count": 13,
   "id": "544fb89a",
   "metadata": {},
   "outputs": [
    {
     "name": "stdout",
     "output_type": "stream",
     "text": [
      "El valor de my_string es de: Aprendiendo a usar strings/cadenas/textos\n",
      "El tipo de dato de my_complex es: <class 'str'>\n"
     ]
    }
   ],
   "source": [
    "my_string = \"Aprendiendo a usar strings/cadenas/textos\"\n",
    "print(\"El valor de my_string es de:\",my_string)\n",
    "print(\"El tipo de dato de my_complex es:\",type(my_string))"
   ]
  },
  {
   "cell_type": "code",
   "execution_count": 14,
   "id": "e4a6d52c",
   "metadata": {},
   "outputs": [
    {
     "name": "stdout",
     "output_type": "stream",
     "text": [
      "El valor de my_string es de: \n",
      "Es una cadena con múltiples líneas\n",
      "\n",
      "Como puedes ver es genial para textos más largos\n",
      "\n",
      "¿Puedes imaginar cuantas cosas puedes hacer manjeando textos de internet?\n",
      "\n",
      "El tipo de dato de my_complex es: <class 'str'>\n"
     ]
    }
   ],
   "source": [
    "my_string = \"\"\"\n",
    "Es una cadena con múltiples líneas\\n\n",
    "Como puedes ver es genial para textos más largos\\n\n",
    "¿Puedes imaginar cuantas cosas puedes hacer manjeando textos de internet?\n",
    "\"\"\"\n",
    "print(\"El valor de my_string es de:\",my_string)\n",
    "print(\"El tipo de dato de my_complex es:\",type(my_string))"
   ]
  },
  {
   "cell_type": "markdown",
   "id": "18980560",
   "metadata": {},
   "source": [
    "# Variables\n",
    "### ¿Qué es una variable?\n",
    "- Son un espacio temporal para guardar un valor con un nombre en específico \n",
    "- No hay necesidad de declarar el tipo de dato explícitamente \n",
    "- Pyhton es un lenguaje tipado dinámicamente, lo que quiere decir que el tipo de dato se define mientras corre el programa\n",
    "- Las variables en Python funcionan diferente que en otros lenguajes de programación\n",
    "- No necesitamos crear variable, solo asignamos un nombre a un valor usando el operador de asignación\n",
    "\n",
    "### Tipos de variables\n",
    "- Variables globales: aquellas que se utilizarán para todo el programa\n",
    "- Variables locales: aquellas que se van a utilizar en un bloque específico"
   ]
  },
  {
   "cell_type": "markdown",
   "id": "e84c85f7",
   "metadata": {},
   "source": [
    "# Variables Globales\n",
    "- Declaramos variables globales afuera de funciones\n",
    "- El valor de la variable puede ser constante en todo el programa\n",
    "- Cualquier función podrá acceder a estas variables \n",
    "- Podemos decir que tienen un alcance global\n",
    "- Normalmente son usadas para más constantes\n",
    "- Mantienen sus valores a través de la ejecución completa de tu programa\n",
    "- Puede ser accesada por cualquier función"
   ]
  },
  {
   "cell_type": "code",
   "execution_count": 16,
   "id": "2e75fc48",
   "metadata": {},
   "outputs": [],
   "source": [
    "# Variable global\n",
    "my_global_variable = 50\n",
    "\n",
    "def my_function_1():\n",
    "    pass\n",
    "def my_function_2():\n",
    "    pass"
   ]
  },
  {
   "cell_type": "code",
   "execution_count": 17,
   "id": "e60b48e4",
   "metadata": {},
   "outputs": [],
   "source": [
    "# Variable local\n",
    "def my_function_1():\n",
    "    my_local_variable = 5\n",
    "def my_function_2():\n",
    "    my_local_variable = 35"
   ]
  },
  {
   "cell_type": "code",
   "execution_count": 18,
   "id": "d3759890",
   "metadata": {},
   "outputs": [],
   "source": [
    "# Variable global\n",
    "my_global_variable = 50\n",
    "\n",
    "def my_function_1():\n",
    "    print(\"my_function_1 - El valor de my_global_variable es de: \",my_global_variable)\n",
    "def my_function_2():\n",
    "    print(\"my_function_2 - El valor de my_global_variable es de: \",my_global_variable)"
   ]
  },
  {
   "cell_type": "code",
   "execution_count": 20,
   "id": "a314b3b6",
   "metadata": {},
   "outputs": [
    {
     "name": "stdout",
     "output_type": "stream",
     "text": [
      "my_function_1 - El valor de my_global_variable es de:  50\n"
     ]
    }
   ],
   "source": [
    "my_function_1()"
   ]
  },
  {
   "cell_type": "code",
   "execution_count": 21,
   "id": "9dbb30e3",
   "metadata": {},
   "outputs": [
    {
     "name": "stdout",
     "output_type": "stream",
     "text": [
      "my_function_2 - El valor de my_global_variable es de:  50\n"
     ]
    }
   ],
   "source": [
    "my_function_2()"
   ]
  },
  {
   "cell_type": "code",
   "execution_count": 22,
   "id": "069bd7de",
   "metadata": {},
   "outputs": [],
   "source": [
    "# Preferencia al valor local y luego al global\n",
    "my_variable = 50 #Global\n",
    "\n",
    "def my_function_1():\n",
    "    my_variable = 10 #Local\n",
    "    print(\"my_function_1 - El valor de my_variable es de: \",my_variable)\n",
    "def my_function_2():\n",
    "    my_variable = 20 #Local\n",
    "    print(\"my_function_2 - El valor de my_variable es de: \",my_variable)\n",
    "def my_function_3():\n",
    "    print(\"my_function_3 - El valor de my_variable es de: \",my_variable)"
   ]
  },
  {
   "cell_type": "code",
   "execution_count": 23,
   "id": "f5fbde2c",
   "metadata": {},
   "outputs": [
    {
     "name": "stdout",
     "output_type": "stream",
     "text": [
      "my_function_1 - El valor de my_variable es de:  10\n"
     ]
    }
   ],
   "source": [
    "my_function_1()"
   ]
  },
  {
   "cell_type": "code",
   "execution_count": 24,
   "id": "128f8377",
   "metadata": {},
   "outputs": [
    {
     "name": "stdout",
     "output_type": "stream",
     "text": [
      "my_function_2 - El valor de my_variable es de:  20\n"
     ]
    }
   ],
   "source": [
    "my_function_2()"
   ]
  },
  {
   "cell_type": "code",
   "execution_count": 25,
   "id": "d9ee89b7",
   "metadata": {},
   "outputs": [
    {
     "name": "stdout",
     "output_type": "stream",
     "text": [
      "my_function_3 - El valor de my_variable es de:  50\n"
     ]
    }
   ],
   "source": [
    "my_function_3()"
   ]
  },
  {
   "cell_type": "markdown",
   "id": "013fca97",
   "metadata": {},
   "source": [
    "# Variables Locales\n",
    "- Podemos usarlas dentro de una función \n",
    "- Podemos tener una restricción al acceder a una variable local desde otra función\n",
    "- No podemos usarlas durante todo el programa\n",
    "- El alcance y visibilidad se limita al interior de la función \n",
    "- Lo que dure la función será lo que dure el alcance de nuestra variable"
   ]
  },
  {
   "cell_type": "code",
   "execution_count": 26,
   "id": "68210746",
   "metadata": {},
   "outputs": [],
   "source": [
    "# Variable global\n",
    "my_global_variable = 50\n",
    "\n",
    "def my_function_1():\n",
    "    pass\n",
    "def my_function_2():\n",
    "    pass"
   ]
  },
  {
   "cell_type": "code",
   "execution_count": 27,
   "id": "e09b2a93",
   "metadata": {},
   "outputs": [],
   "source": [
    "# Variable local\n",
    "def my_function_1():\n",
    "    my_local_variable = 5\n",
    "def my_function_2():\n",
    "    my_local_variable = 35"
   ]
  },
  {
   "cell_type": "code",
   "execution_count": 28,
   "id": "8fac2831",
   "metadata": {},
   "outputs": [],
   "source": [
    "def my_function_1():\n",
    "    my_variable = 10 #Local\n",
    "    print(\"my_function_1 - El valor de my_variable es de: \",my_variable)\n",
    "def my_function_2():\n",
    "    my_variable = 20 #Local\n",
    "    print(\"my_function_2 - El valor de my_variable es de: \",my_variable)\n",
    "def my_function_3():\n",
    "    print(\"my_function_3 - El valor de my_variable es de: \",my_variable)"
   ]
  },
  {
   "cell_type": "code",
   "execution_count": 29,
   "id": "d5629a28",
   "metadata": {},
   "outputs": [
    {
     "name": "stdout",
     "output_type": "stream",
     "text": [
      "my_function_1 - El valor de my_variable es de:  10\n"
     ]
    }
   ],
   "source": [
    "my_function_1()"
   ]
  },
  {
   "cell_type": "code",
   "execution_count": 30,
   "id": "3bd8ecd3",
   "metadata": {},
   "outputs": [
    {
     "name": "stdout",
     "output_type": "stream",
     "text": [
      "my_function_2 - El valor de my_variable es de:  20\n"
     ]
    }
   ],
   "source": [
    "my_function_2()"
   ]
  },
  {
   "cell_type": "code",
   "execution_count": 1,
   "id": "c19914cb",
   "metadata": {},
   "outputs": [
    {
     "ename": "NameError",
     "evalue": "name 'my_function_3' is not defined",
     "output_type": "error",
     "traceback": [
      "\u001b[1;31m---------------------------------------------------------------------------\u001b[0m",
      "\u001b[1;31mNameError\u001b[0m                                 Traceback (most recent call last)",
      "Input \u001b[1;32mIn [1]\u001b[0m, in \u001b[0;36m<module>\u001b[1;34m\u001b[0m\n\u001b[0;32m      1\u001b[0m \u001b[38;5;66;03m# error\u001b[39;00m\n\u001b[1;32m----> 2\u001b[0m \u001b[43mmy_function_3\u001b[49m()\n",
      "\u001b[1;31mNameError\u001b[0m: name 'my_function_3' is not defined"
     ]
    }
   ],
   "source": [
    "# error\n",
    "my_function_3()"
   ]
  },
  {
   "cell_type": "markdown",
   "id": "f4949c2e",
   "metadata": {},
   "source": [
    "# Palabra reservada \"global\""
   ]
  },
  {
   "cell_type": "code",
   "execution_count": 2,
   "id": "b3a9e515",
   "metadata": {},
   "outputs": [],
   "source": [
    "def my_function_1():\n",
    "    my_variable = 10 # Local\n",
    "    print(\"my_function_1 - El valor de my_variable es de: \",my_variable)\n",
    "def my_function_2():\n",
    "    global my_variable # Global\n",
    "    my_variable = 20 \n",
    "    print(\"my_function_2 - El valor de my_variable es de: \",my_variable)\n",
    "def my_function_3():\n",
    "    print(\"my_function_3 - El valor de my_variable es de: \",my_variable)"
   ]
  },
  {
   "cell_type": "code",
   "execution_count": 4,
   "id": "68196b61",
   "metadata": {},
   "outputs": [
    {
     "name": "stdout",
     "output_type": "stream",
     "text": [
      "my_function_1 - El valor de my_variable es de:  10\n"
     ]
    }
   ],
   "source": [
    "my_function_1()"
   ]
  },
  {
   "cell_type": "code",
   "execution_count": 5,
   "id": "7276d26e",
   "metadata": {},
   "outputs": [
    {
     "name": "stdout",
     "output_type": "stream",
     "text": [
      "my_function_2 - El valor de my_variable es de:  20\n"
     ]
    }
   ],
   "source": [
    "my_function_2()"
   ]
  },
  {
   "cell_type": "code",
   "execution_count": 6,
   "id": "8698da27",
   "metadata": {},
   "outputs": [
    {
     "name": "stdout",
     "output_type": "stream",
     "text": [
      "my_function_3 - El valor de my_variable es de:  20\n"
     ]
    }
   ],
   "source": [
    "my_function_3()"
   ]
  },
  {
   "cell_type": "markdown",
   "id": "557521bf",
   "metadata": {},
   "source": [
    "# Tipos de enteros\n",
    "- Forma Decimal\n",
    "- Forma Binaria\n",
    "- Forma Octal\n",
    "- Forma Hexadecimal"
   ]
  },
  {
   "cell_type": "markdown",
   "id": "b455675b",
   "metadata": {},
   "source": [
    "# Forma Decimal"
   ]
  },
  {
   "cell_type": "code",
   "execution_count": 7,
   "id": "30f11338",
   "metadata": {},
   "outputs": [
    {
     "name": "stdout",
     "output_type": "stream",
     "text": [
      "El valor de my_decimal_number es:  55\n"
     ]
    }
   ],
   "source": [
    "my_decimal_number = 55\n",
    "print(\"El valor de my_decimal_number es: \",my_decimal_number)"
   ]
  },
  {
   "cell_type": "code",
   "execution_count": 8,
   "id": "ae89283e",
   "metadata": {},
   "outputs": [
    {
     "name": "stdout",
     "output_type": "stream",
     "text": [
      "El valor de my_decimal_number es:  55432165\n"
     ]
    }
   ],
   "source": [
    "my_decimal_number = 55432165\n",
    "print(\"El valor de my_decimal_number es: \",my_decimal_number)"
   ]
  },
  {
   "cell_type": "code",
   "execution_count": 9,
   "id": "2e971d02",
   "metadata": {},
   "outputs": [
    {
     "ename": "SyntaxError",
     "evalue": "invalid decimal literal (2869474495.py, line 1)",
     "output_type": "error",
     "traceback": [
      "\u001b[1;36m  Input \u001b[1;32mIn [9]\u001b[1;36m\u001b[0m\n\u001b[1;33m    my_decimal_number = 55d\u001b[0m\n\u001b[1;37m                         ^\u001b[0m\n\u001b[1;31mSyntaxError\u001b[0m\u001b[1;31m:\u001b[0m invalid decimal literal\n"
     ]
    }
   ],
   "source": [
    "# error\n",
    "my_decimal_number = 55d\n",
    "print(\"El valor de my_decimal_number es: \",my_decimal_number)"
   ]
  },
  {
   "cell_type": "markdown",
   "id": "c3c1285f",
   "metadata": {},
   "source": [
    "# Forma Binaria\n",
    "- Código organizado en bytes\n",
    "- Lenguaje binario\n",
    "- Lenguaje de las máquinas (1 y 0)\n",
    "\n",
    "### Valor base: 2\n",
    "\n",
    "- Solamente acepta 2 dígitos (1 o 0)\n",
    "- Usamos el prefijo '0b' o '0B'\n"
   ]
  },
  {
   "cell_type": "code",
   "execution_count": 13,
   "id": "5fb4a2c3",
   "metadata": {},
   "outputs": [
    {
     "name": "stdout",
     "output_type": "stream",
     "text": [
      "El valor de my_decimal_number es:  11\n"
     ]
    }
   ],
   "source": [
    "my_decimal_number = 11\n",
    "print(\"El valor de my_decimal_number es: \",my_decimal_number)"
   ]
  },
  {
   "cell_type": "code",
   "execution_count": 16,
   "id": "f00a7740",
   "metadata": {},
   "outputs": [
    {
     "name": "stdout",
     "output_type": "stream",
     "text": [
      "El valor de my_binary_number es:  3\n"
     ]
    }
   ],
   "source": [
    "my_binary_number = 0b11 # 1*2**1 + 1*2**0\n",
    "print(\"El valor de my_binary_number es: \",my_binary_number)"
   ]
  },
  {
   "cell_type": "code",
   "execution_count": 15,
   "id": "35d3e968",
   "metadata": {},
   "outputs": [
    {
     "name": "stdout",
     "output_type": "stream",
     "text": [
      "El valor de my_decimal_number es:  111\n"
     ]
    }
   ],
   "source": [
    "my_decimal_number = 111\n",
    "print(\"El valor de my_decimal_number es: \",my_decimal_number)"
   ]
  },
  {
   "cell_type": "code",
   "execution_count": 17,
   "id": "13c04016",
   "metadata": {},
   "outputs": [
    {
     "name": "stdout",
     "output_type": "stream",
     "text": [
      "El valor de my_binary_number es:  7\n"
     ]
    }
   ],
   "source": [
    "my_binary_number = 0B111 # 1*2**2 + 1*2**1 + 1*2**0\n",
    "print(\"El valor de my_binary_number es: \",my_binary_number)"
   ]
  },
  {
   "cell_type": "markdown",
   "id": "ef6ea540",
   "metadata": {},
   "source": [
    "# Forma Octal\n",
    "\n",
    "### Valor base: 8\n",
    "- Solamente acepta dígitos del 0 al 7\n",
    "- Usamos el prefijo '0o' o '0O'"
   ]
  },
  {
   "cell_type": "code",
   "execution_count": 18,
   "id": "ce8532ce",
   "metadata": {},
   "outputs": [
    {
     "name": "stdout",
     "output_type": "stream",
     "text": [
      "El valor de my_decimal_number es:  17\n"
     ]
    }
   ],
   "source": [
    "my_decimal_number = 17\n",
    "print(\"El valor de my_decimal_number es: \",my_decimal_number)"
   ]
  },
  {
   "cell_type": "code",
   "execution_count": 19,
   "id": "803b9421",
   "metadata": {},
   "outputs": [
    {
     "name": "stdout",
     "output_type": "stream",
     "text": [
      "El valor de my_octal_number es:  15\n"
     ]
    }
   ],
   "source": [
    "my_octal_number = 0o17 # 1*8**1 + 7*8**0\n",
    "print(\"El valor de my_octal_number es: \",my_octal_number)"
   ]
  },
  {
   "cell_type": "code",
   "execution_count": 20,
   "id": "1ab76ae2",
   "metadata": {},
   "outputs": [
    {
     "name": "stdout",
     "output_type": "stream",
     "text": [
      "El valor de my_decimal_number es:  153\n"
     ]
    }
   ],
   "source": [
    "my_decimal_number = 153\n",
    "print(\"El valor de my_decimal_number es: \",my_decimal_number)"
   ]
  },
  {
   "cell_type": "code",
   "execution_count": 21,
   "id": "5aeba2c5",
   "metadata": {},
   "outputs": [
    {
     "name": "stdout",
     "output_type": "stream",
     "text": [
      "El valor de my_octal_number es:  107\n"
     ]
    }
   ],
   "source": [
    "my_octal_number = 0O153 # 1*8**2 + 5*8**1 + 3*8**0\n",
    "print(\"El valor de my_octal_number es: \",my_octal_number)"
   ]
  },
  {
   "cell_type": "markdown",
   "id": "c903add5",
   "metadata": {},
   "source": [
    "# Forma Hexadecimal\n",
    "\n",
    "### Valor base: 16\n",
    "- Acepta dígitos del 0 al 9\n",
    "- Acepta letras de la A(a) a la F(f)\n",
    "- Usamos el prefijo '0x' o '0X'\n",
    "- 1\n",
    "- 2\n",
    "- 3\n",
    "- 4\n",
    "- 5\n",
    "- 6\n",
    "- 7\n",
    "- 8\n",
    "- 9\n",
    "- A = 10\n",
    "- B = 11\n",
    "- C = 12\n",
    "- D = 13\n",
    "- E = 14 \n",
    "- F = 15"
   ]
  },
  {
   "cell_type": "code",
   "execution_count": 22,
   "id": "cf8aa545",
   "metadata": {},
   "outputs": [
    {
     "name": "stdout",
     "output_type": "stream",
     "text": [
      "El valor de my_decimal_number es:  17\n"
     ]
    }
   ],
   "source": [
    "my_decimal_number = 17\n",
    "print(\"El valor de my_decimal_number es: \",my_decimal_number)"
   ]
  },
  {
   "cell_type": "code",
   "execution_count": 23,
   "id": "25d1c0ca",
   "metadata": {},
   "outputs": [
    {
     "name": "stdout",
     "output_type": "stream",
     "text": [
      "El valor de my_hex_number es:  23\n"
     ]
    }
   ],
   "source": [
    "my_hex_number = 0x17 # 1*16**1 + 7*16**0\n",
    "print(\"El valor de my_hex_number es: \",my_hex_number)"
   ]
  },
  {
   "cell_type": "code",
   "execution_count": 24,
   "id": "99dbeb38",
   "metadata": {},
   "outputs": [
    {
     "name": "stdout",
     "output_type": "stream",
     "text": [
      "El valor de my_hex_number es:  28\n"
     ]
    }
   ],
   "source": [
    "my_hex_number = 0x1C # 1*16**1 + 12*16**0\n",
    "print(\"El valor de my_hex_number es: \",my_hex_number)"
   ]
  },
  {
   "cell_type": "code",
   "execution_count": null,
   "id": "620643f1",
   "metadata": {},
   "outputs": [],
   "source": []
  }
 ],
 "metadata": {
  "kernelspec": {
   "display_name": "Python 3 (ipykernel)",
   "language": "python",
   "name": "python3"
  },
  "language_info": {
   "codemirror_mode": {
    "name": "ipython",
    "version": 3
   },
   "file_extension": ".py",
   "mimetype": "text/x-python",
   "name": "python",
   "nbconvert_exporter": "python",
   "pygments_lexer": "ipython3",
   "version": "3.10.2"
  }
 },
 "nbformat": 4,
 "nbformat_minor": 5
}
