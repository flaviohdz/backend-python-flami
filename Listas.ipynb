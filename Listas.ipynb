{
 "cells": [
  {
   "cell_type": "markdown",
   "id": "acc1191c",
   "metadata": {},
   "source": [
    "# Diferentes formas de crear listas"
   ]
  },
  {
   "cell_type": "code",
   "execution_count": 1,
   "id": "ca3c7930",
   "metadata": {},
   "outputs": [
    {
     "name": "stdout",
     "output_type": "stream",
     "text": [
      "[3, 3, 3, 3, 3]\n"
     ]
    }
   ],
   "source": [
    "my_list = [3]*5\n",
    "print(my_list)"
   ]
  },
  {
   "cell_type": "code",
   "execution_count": 2,
   "id": "5c345fdd",
   "metadata": {},
   "outputs": [
    {
     "name": "stdout",
     "output_type": "stream",
     "text": [
      "[1, 2, 3, 4, 5]\n"
     ]
    }
   ],
   "source": [
    "my_list = [1,2,3,4,5]\n",
    "print(my_list)"
   ]
  },
  {
   "cell_type": "code",
   "execution_count": 4,
   "id": "461ebf11",
   "metadata": {},
   "outputs": [
    {
     "name": "stdout",
     "output_type": "stream",
     "text": [
      "[0, 1, 2, 3, 4, 5, 6, 7, 8, 9]\n"
     ]
    }
   ],
   "source": [
    "my_list = []\n",
    "for number in range(10):\n",
    "    my_list.append(number)\n",
    "print(my_list)"
   ]
  },
  {
   "cell_type": "code",
   "execution_count": 6,
   "id": "462618db",
   "metadata": {},
   "outputs": [
    {
     "name": "stdout",
     "output_type": "stream",
     "text": [
      "[0, 1, 2, 3, 4, 5, 6, 7, 8, 9]\n"
     ]
    }
   ],
   "source": [
    "my_list = []\n",
    "for number in range(10):\n",
    "    my_list += [number] # my_list = my_list + number\n",
    "print(my_list)"
   ]
  },
  {
   "cell_type": "code",
   "execution_count": 8,
   "id": "2561ee0c",
   "metadata": {},
   "outputs": [
    {
     "name": "stdout",
     "output_type": "stream",
     "text": [
      "[0, 1, 2, 3, 4, 5, 6, 7, 8, 9, 10, 11, 12, 13, 14]\n"
     ]
    }
   ],
   "source": [
    "my_list = [number for number in range(15)]\n",
    "print(my_list)"
   ]
  },
  {
   "cell_type": "markdown",
   "id": "27ac3b89",
   "metadata": {},
   "source": [
    "## Obtener sublistas"
   ]
  },
  {
   "cell_type": "code",
   "execution_count": 17,
   "id": "ed031ad5",
   "metadata": {},
   "outputs": [
    {
     "name": "stdout",
     "output_type": "stream",
     "text": [
      "[5, 6, 7, 8, 9, 10, 11, 12, 13, 14, 15, 16, 17, 18, 19]\n"
     ]
    }
   ],
   "source": [
    "my_list = [number for number in range(5,20)]\n",
    "print(my_list)"
   ]
  },
  {
   "cell_type": "code",
   "execution_count": 18,
   "id": "2dfdd3bc",
   "metadata": {},
   "outputs": [
    {
     "name": "stdout",
     "output_type": "stream",
     "text": [
      "[5, 6, 7, 8]\n"
     ]
    }
   ],
   "source": [
    "my_sublist = my_list[:4]\n",
    "print(my_sublist)"
   ]
  },
  {
   "cell_type": "code",
   "execution_count": 19,
   "id": "f611ab91",
   "metadata": {},
   "outputs": [
    {
     "name": "stdout",
     "output_type": "stream",
     "text": [
      "[8, 9, 10, 11]\n"
     ]
    }
   ],
   "source": [
    "my_sublist = my_list[3:7]\n",
    "print(my_sublist)"
   ]
  },
  {
   "cell_type": "code",
   "execution_count": 20,
   "id": "42b42234",
   "metadata": {},
   "outputs": [
    {
     "name": "stdout",
     "output_type": "stream",
     "text": [
      "[15, 16, 17, 18, 19]\n"
     ]
    }
   ],
   "source": [
    "my_sublist = my_list[10:]\n",
    "print(my_sublist)"
   ]
  },
  {
   "cell_type": "code",
   "execution_count": 21,
   "id": "c7c4294a",
   "metadata": {},
   "outputs": [
    {
     "name": "stdout",
     "output_type": "stream",
     "text": [
      "[]\n"
     ]
    }
   ],
   "source": [
    "my_sublist = my_list[100:]\n",
    "print(my_sublist)"
   ]
  },
  {
   "cell_type": "code",
   "execution_count": 22,
   "id": "d4c8f120",
   "metadata": {},
   "outputs": [
    {
     "data": {
      "text/plain": [
       "15"
      ]
     },
     "execution_count": 22,
     "metadata": {},
     "output_type": "execute_result"
    }
   ],
   "source": [
    "len(my_list)"
   ]
  },
  {
   "cell_type": "markdown",
   "id": "89999088",
   "metadata": {},
   "source": [
    "## Creación de listas usando range y numpy"
   ]
  },
  {
   "cell_type": "code",
   "execution_count": 24,
   "id": "df56ea77",
   "metadata": {},
   "outputs": [
    {
     "name": "stdout",
     "output_type": "stream",
     "text": [
      "[1, 2, 3, 4]\n"
     ]
    }
   ],
   "source": [
    "# range (inicio, fin , paso)\n",
    "my_list = [*range(1,5,1)]\n",
    "print(my_list)"
   ]
  },
  {
   "cell_type": "code",
   "execution_count": 25,
   "id": "86f1fa77",
   "metadata": {},
   "outputs": [
    {
     "name": "stdout",
     "output_type": "stream",
     "text": [
      "[1, 5, 9, 13, 17]\n"
     ]
    }
   ],
   "source": [
    "my_list = [*range(1,20,4)]\n",
    "print(my_list)"
   ]
  },
  {
   "cell_type": "code",
   "execution_count": 26,
   "id": "0228e6c7",
   "metadata": {},
   "outputs": [
    {
     "name": "stdout",
     "output_type": "stream",
     "text": [
      "[1, 5, 9, 13, 17]\n"
     ]
    }
   ],
   "source": [
    "import numpy as np\n",
    "my_list = np.arange(1,20,4).tolist()\n",
    "print(my_list)"
   ]
  },
  {
   "cell_type": "markdown",
   "id": "eb00861b",
   "metadata": {},
   "source": [
    "## Listas anidadas"
   ]
  },
  {
   "cell_type": "code",
   "execution_count": 27,
   "id": "461e55b1",
   "metadata": {},
   "outputs": [
    {
     "name": "stdout",
     "output_type": "stream",
     "text": [
      "[1, 2, 3, 4, 5]\n",
      "4\n"
     ]
    }
   ],
   "source": [
    "my_list = [1,2,3,4,5]\n",
    "print(my_list)\n",
    "print(my_list[3])"
   ]
  },
  {
   "cell_type": "code",
   "execution_count": 29,
   "id": "40cc62d2",
   "metadata": {},
   "outputs": [
    {
     "name": "stdout",
     "output_type": "stream",
     "text": [
      "[[1, 3, 5], [2, 4, 6]]\n",
      "[2, 4, 6]\n",
      "6\n"
     ]
    }
   ],
   "source": [
    "my_list = [[1,3,5],[2,4,6]]\n",
    "print(my_list)\n",
    "print(my_list[1])\n",
    "print(my_list[1][2])"
   ]
  },
  {
   "cell_type": "markdown",
   "id": "a54a9afe",
   "metadata": {},
   "source": [
    "## Ordenando listas"
   ]
  },
  {
   "cell_type": "code",
   "execution_count": 30,
   "id": "e919b174",
   "metadata": {},
   "outputs": [
    {
     "name": "stdout",
     "output_type": "stream",
     "text": [
      "[5, 3, 1, 15, 2, 20]\n",
      "[1, 2, 3, 5, 15, 20]\n"
     ]
    }
   ],
   "source": [
    "my_list = [5,3,1,15,2,20]\n",
    "print(my_list)\n",
    "my_list.sort()\n",
    "print(my_list)"
   ]
  },
  {
   "cell_type": "code",
   "execution_count": 31,
   "id": "3edb9715",
   "metadata": {},
   "outputs": [
    {
     "name": "stdout",
     "output_type": "stream",
     "text": [
      "[5, 3, 1, 15, 2, 20]\n",
      "[20, 15, 5, 3, 2, 1]\n"
     ]
    }
   ],
   "source": [
    "my_list = [5,3,1,15,2,20]\n",
    "print(my_list)\n",
    "my_list.sort(reverse=True)\n",
    "print(my_list)"
   ]
  },
  {
   "cell_type": "code",
   "execution_count": 32,
   "id": "6d3129e7",
   "metadata": {},
   "outputs": [
    {
     "name": "stdout",
     "output_type": "stream",
     "text": [
      "['caballo', 'obeja', 'jirafa', 'ballena']\n",
      "['ballena', 'caballo', 'jirafa', 'obeja']\n"
     ]
    }
   ],
   "source": [
    "my_list = [\"caballo\", \"obeja\", \"jirafa\", \"ballena\"]\n",
    "print(my_list)\n",
    "my_list.sort()\n",
    "print(my_list)"
   ]
  },
  {
   "cell_type": "code",
   "execution_count": 33,
   "id": "e80020cd",
   "metadata": {},
   "outputs": [
    {
     "name": "stdout",
     "output_type": "stream",
     "text": [
      "['caballo', 'obeja', 'jirafa', 'ballena']\n",
      "['obeja', 'jirafa', 'caballo', 'ballena']\n"
     ]
    }
   ],
   "source": [
    "my_list = [\"caballo\", \"obeja\", \"jirafa\", \"ballena\"]\n",
    "print(my_list)\n",
    "my_list.sort(reverse=True)\n",
    "print(my_list)"
   ]
  },
  {
   "cell_type": "markdown",
   "id": "ebecbba6",
   "metadata": {},
   "source": [
    "## Conversión de listas"
   ]
  },
  {
   "cell_type": "markdown",
   "id": "e2bf01a8",
   "metadata": {},
   "source": [
    "### Cadenas a listas"
   ]
  },
  {
   "cell_type": "code",
   "execution_count": 34,
   "id": "7bd50ac8",
   "metadata": {},
   "outputs": [
    {
     "name": "stdout",
     "output_type": "stream",
     "text": [
      "Curso de Backend Python\n",
      "['Curso', 'de', 'Backend', 'Python']\n"
     ]
    }
   ],
   "source": [
    "# Separar palabras\n",
    "my_string = \"Curso de Backend Python\"\n",
    "my_list = my_string.split()\n",
    "print(my_string)\n",
    "print(my_list)"
   ]
  },
  {
   "cell_type": "code",
   "execution_count": 35,
   "id": "d83cc004",
   "metadata": {},
   "outputs": [
    {
     "name": "stdout",
     "output_type": "stream",
     "text": [
      "Curso de Backend Python\n",
      "['C', 'u', 'r', 's', 'o', ' ', 'd', 'e', ' ', 'B', 'a', 'c', 'k', 'e', 'n', 'd', ' ', 'P', 'y', 't', 'h', 'o', 'n']\n"
     ]
    }
   ],
   "source": [
    "# Separar caracteres\n",
    "my_string = \"Curso de Backend Python\"\n",
    "my_list = list(my_string)\n",
    "print(my_string)\n",
    "print(my_list)"
   ]
  },
  {
   "cell_type": "code",
   "execution_count": 36,
   "id": "50970c98",
   "metadata": {},
   "outputs": [
    {
     "name": "stdout",
     "output_type": "stream",
     "text": [
      "Curso de Backend Python\n",
      "[['C'], ['u'], ['r'], ['s'], ['o'], [' '], ['d'], ['e'], [' '], ['B'], ['a'], ['c'], ['k'], ['e'], ['n'], ['d'], [' '], ['P'], ['y'], ['t'], ['h'], ['o'], ['n']]\n"
     ]
    }
   ],
   "source": [
    "# Separar caracteres en una lista de listas \n",
    "my_string = \"Curso de Backend Python\"\n",
    "my_list = list(map(list, my_string))\n",
    "print(my_string)\n",
    "print(my_list)"
   ]
  },
  {
   "cell_type": "markdown",
   "id": "cc36787b",
   "metadata": {},
   "source": [
    "## Listas a Cadenas"
   ]
  },
  {
   "cell_type": "code",
   "execution_count": 37,
   "id": "47eb5777",
   "metadata": {},
   "outputs": [
    {
     "name": "stdout",
     "output_type": "stream",
     "text": [
      "['Curso', 'de', 'Backend', 'Python']\n",
      "Curso de Backend Python\n"
     ]
    }
   ],
   "source": [
    "# usando espacios entre palabras\n",
    "my_list = ['Curso', 'de', 'Backend', 'Python']\n",
    "my_string = \" \".join(my_list)\n",
    "print(my_list)\n",
    "print(my_string)"
   ]
  },
  {
   "cell_type": "code",
   "execution_count": 38,
   "id": "b1271cf6",
   "metadata": {},
   "outputs": [
    {
     "name": "stdout",
     "output_type": "stream",
     "text": [
      "['C', 'u', 'r', 's', 'o', ' ', 'd', 'e', ' ', 'B', 'a', 'c', 'k', 'e', 'n', 'd', ' ', 'P', 'y', 't', 'h', 'o', 'n']\n",
      "Curso de Backend Python\n"
     ]
    }
   ],
   "source": [
    "my_list = ['C', 'u', 'r', 's', 'o', ' ', 'd', 'e', ' ', 'B', 'a', 'c', 'k', 'e', 'n', 'd', ' ', 'P', 'y', 't', 'h', 'o', 'n']\n",
    "my_string = \"\".join(my_list)\n",
    "print(my_list)\n",
    "print(my_string)"
   ]
  },
  {
   "cell_type": "code",
   "execution_count": 40,
   "id": "451276e6",
   "metadata": {},
   "outputs": [
    {
     "name": "stdout",
     "output_type": "stream",
     "text": [
      "[['C'], ['u'], ['r'], ['s'], ['o'], [' '], ['d'], ['e'], [' '], ['B'], ['a'], ['c'], ['k'], ['e'], ['n'], ['d'], [' '], ['P'], ['y'], ['t'], ['h'], ['o'], ['n']]\n",
      "Curso de Backend Python\n"
     ]
    }
   ],
   "source": [
    "my_list = [['C'], ['u'], ['r'], ['s'], ['o'], [' '], ['d'], ['e'], [' '], ['B'], ['a'], ['c'], ['k'], ['e'], ['n'], ['d'], [' '], ['P'], ['y'], ['t'], ['h'], ['o'], ['n']]\n",
    "my_string = \"\".join([\"\".join(element) for element in my_list])\n",
    "print(my_list)\n",
    "print(my_string)"
   ]
  },
  {
   "cell_type": "markdown",
   "id": "b89f0184",
   "metadata": {},
   "source": [
    "## Creación de listas con valores de entrada"
   ]
  },
  {
   "cell_type": "code",
   "execution_count": 41,
   "id": "a9f6aefe",
   "metadata": {},
   "outputs": [
    {
     "name": "stdout",
     "output_type": "stream",
     "text": [
      "Ingresa los valores separados por espacio1 2 3 4 5 6 7 8\n",
      "1 2 3 4 5 6 7 8\n",
      "['1', '2', '3', '4', '5', '6', '7', '8']\n"
     ]
    }
   ],
   "source": [
    "my_string = input(\"Ingresa los valores separados por espacio\")\n",
    "my_list = my_string.split()\n",
    "print(my_string)\n",
    "print(my_list)"
   ]
  },
  {
   "cell_type": "markdown",
   "id": "b251bc31",
   "metadata": {},
   "source": [
    "## Métodos para manipulación de listas"
   ]
  },
  {
   "cell_type": "markdown",
   "id": "5fd61c99",
   "metadata": {},
   "source": [
    "### append\n",
    "\n",
    "Agregar un elemento al final de una lista"
   ]
  },
  {
   "cell_type": "code",
   "execution_count": 42,
   "id": "7e0ef4c3",
   "metadata": {},
   "outputs": [
    {
     "name": "stdout",
     "output_type": "stream",
     "text": [
      "['caballo', 'abeja', 'jirafa', 'ballena']\n",
      "4\n"
     ]
    }
   ],
   "source": [
    "my_list = [\"caballo\", \"abeja\", \"jirafa\", \"ballena\"]\n",
    "print(my_list)\n",
    "print(len(my_list))"
   ]
  },
  {
   "cell_type": "code",
   "execution_count": 43,
   "id": "e4471de1",
   "metadata": {},
   "outputs": [
    {
     "name": "stdout",
     "output_type": "stream",
     "text": [
      "['caballo', 'abeja', 'jirafa', 'ballena', 'delfín']\n",
      "5\n"
     ]
    }
   ],
   "source": [
    "my_list.append(\"delfín\")\n",
    "print(my_list)\n",
    "print(len(my_list))"
   ]
  },
  {
   "cell_type": "code",
   "execution_count": 44,
   "id": "1b30ba89",
   "metadata": {},
   "outputs": [
    {
     "name": "stdout",
     "output_type": "stream",
     "text": [
      "['caballo', 'abeja', 'jirafa', 'ballena', 'delfín', 'gato']\n",
      "6\n"
     ]
    }
   ],
   "source": [
    "my_list.append(\"gato\")\n",
    "print(my_list)\n",
    "print(len(my_list))"
   ]
  },
  {
   "cell_type": "code",
   "execution_count": 45,
   "id": "2a0e1d3f",
   "metadata": {},
   "outputs": [
    {
     "name": "stdout",
     "output_type": "stream",
     "text": [
      "[300, 500, 100, 200]\n",
      "4\n"
     ]
    }
   ],
   "source": [
    "my_list = [300,500,100,200]\n",
    "print(my_list)\n",
    "print(len(my_list))"
   ]
  },
  {
   "cell_type": "code",
   "execution_count": 46,
   "id": "217c6088",
   "metadata": {},
   "outputs": [
    {
     "name": "stdout",
     "output_type": "stream",
     "text": [
      "[300, 500, 100, 200, 111]\n",
      "5\n"
     ]
    }
   ],
   "source": [
    "my_list.append(111)\n",
    "print(my_list)\n",
    "print(len(my_list))"
   ]
  },
  {
   "cell_type": "code",
   "execution_count": 47,
   "id": "73fe9fa9",
   "metadata": {},
   "outputs": [
    {
     "name": "stdout",
     "output_type": "stream",
     "text": [
      "[300, 500, 100, 200, 111, 333]\n",
      "6\n"
     ]
    }
   ],
   "source": [
    "my_list.append(333)\n",
    "print(my_list)\n",
    "print(len(my_list))"
   ]
  },
  {
   "cell_type": "markdown",
   "id": "175dc924",
   "metadata": {},
   "source": [
    "## insert\n",
    "Agregar un valor a una lista en una posición específica\n",
    "\n",
    "insert(índice,valor)"
   ]
  },
  {
   "cell_type": "code",
   "execution_count": 48,
   "id": "58c7225d",
   "metadata": {},
   "outputs": [
    {
     "name": "stdout",
     "output_type": "stream",
     "text": [
      "['caballo', 'abeja', 'jirafa', 'ballena']\n",
      "4\n"
     ]
    }
   ],
   "source": [
    "my_list = [\"caballo\", \"abeja\", \"jirafa\", \"ballena\"]\n",
    "print(my_list)\n",
    "print(len(my_list))"
   ]
  },
  {
   "cell_type": "code",
   "execution_count": 49,
   "id": "61c2d7b8",
   "metadata": {},
   "outputs": [
    {
     "name": "stdout",
     "output_type": "stream",
     "text": [
      "['caballo', 'abeja', 'delfín', 'jirafa', 'ballena']\n",
      "5\n"
     ]
    }
   ],
   "source": [
    "my_list.insert(2, \"delfín\")\n",
    "print(my_list)\n",
    "print(len(my_list))"
   ]
  },
  {
   "cell_type": "code",
   "execution_count": 50,
   "id": "b07c1f56",
   "metadata": {},
   "outputs": [
    {
     "name": "stdout",
     "output_type": "stream",
     "text": [
      "['caballo', 'gato', 'abeja', 'delfín', 'jirafa', 'ballena']\n",
      "6\n"
     ]
    }
   ],
   "source": [
    "my_list.insert(1, \"gato\")\n",
    "print(my_list)\n",
    "print(len(my_list))"
   ]
  },
  {
   "cell_type": "markdown",
   "id": "a8453ac7",
   "metadata": {},
   "source": [
    "## clear\n",
    "Eliminar todos los elementos de la lista"
   ]
  },
  {
   "cell_type": "code",
   "execution_count": 51,
   "id": "b5a9f8e8",
   "metadata": {},
   "outputs": [
    {
     "name": "stdout",
     "output_type": "stream",
     "text": [
      "['caballo', 'abeja', 'jirafa', 'ballena']\n",
      "4\n"
     ]
    }
   ],
   "source": [
    "my_list = [\"caballo\", \"abeja\", \"jirafa\", \"ballena\"]\n",
    "print(my_list)\n",
    "print(len(my_list))"
   ]
  },
  {
   "cell_type": "code",
   "execution_count": 52,
   "id": "7f689213",
   "metadata": {},
   "outputs": [
    {
     "name": "stdout",
     "output_type": "stream",
     "text": [
      "[]\n",
      "0\n"
     ]
    }
   ],
   "source": [
    "my_list.clear()\n",
    "print(my_list)\n",
    "print(len(my_list))"
   ]
  },
  {
   "cell_type": "code",
   "execution_count": 53,
   "id": "96ad3b53",
   "metadata": {},
   "outputs": [
    {
     "name": "stdout",
     "output_type": "stream",
     "text": [
      "[300, 500, 100, 200]\n",
      "4\n"
     ]
    }
   ],
   "source": [
    "my_list = [300,500,100,200]\n",
    "print(my_list)\n",
    "print(len(my_list))"
   ]
  },
  {
   "cell_type": "code",
   "execution_count": 54,
   "id": "683d3bfb",
   "metadata": {},
   "outputs": [
    {
     "name": "stdout",
     "output_type": "stream",
     "text": [
      "[]\n",
      "0\n"
     ]
    }
   ],
   "source": [
    "my_list.clear()\n",
    "print(my_list)\n",
    "print(len(my_list))"
   ]
  },
  {
   "cell_type": "markdown",
   "id": "b779c360",
   "metadata": {},
   "source": [
    "## copy\n",
    "Copiar los elementos de una lista"
   ]
  },
  {
   "cell_type": "code",
   "execution_count": 55,
   "id": "fb715240",
   "metadata": {},
   "outputs": [
    {
     "name": "stdout",
     "output_type": "stream",
     "text": [
      "['caballo', 'abeja', 'jirafa', 'ballena']\n",
      "4\n"
     ]
    }
   ],
   "source": [
    "my_list = [\"caballo\", \"abeja\", \"jirafa\", \"ballena\"]\n",
    "print(my_list)\n",
    "print(len(my_list))"
   ]
  },
  {
   "cell_type": "code",
   "execution_count": 56,
   "id": "1594b3b6",
   "metadata": {},
   "outputs": [
    {
     "name": "stdout",
     "output_type": "stream",
     "text": [
      "['caballo', 'abeja', 'jirafa', 'ballena']\n",
      "4\n"
     ]
    }
   ],
   "source": [
    "my_list_copy = my_list.copy()\n",
    "print(my_list_copy)\n",
    "print(len(my_list_copy))"
   ]
  },
  {
   "cell_type": "code",
   "execution_count": 57,
   "id": "47317bfc",
   "metadata": {},
   "outputs": [
    {
     "name": "stdout",
     "output_type": "stream",
     "text": [
      "[]\n",
      "0\n",
      "['caballo', 'abeja', 'jirafa', 'ballena']\n",
      "4\n"
     ]
    }
   ],
   "source": [
    "my_list_copy.clear()\n",
    "print(my_list_copy)\n",
    "print(len(my_list_copy))\n",
    "print(my_list)\n",
    "print(len(my_list))"
   ]
  },
  {
   "cell_type": "code",
   "execution_count": 59,
   "id": "80f2de85",
   "metadata": {},
   "outputs": [
    {
     "name": "stdout",
     "output_type": "stream",
     "text": [
      "[]\n",
      "0\n",
      "[]\n",
      "0\n"
     ]
    }
   ],
   "source": [
    "my_list_assigned = my_list # borra las 2 pq usan el mismo espacio de memoria por el =\n",
    "my_list_assigned.clear()\n",
    "print(my_list_assigned)\n",
    "print(len(my_list_assigned))\n",
    "print(my_list)\n",
    "print(len(my_list))"
   ]
  },
  {
   "cell_type": "markdown",
   "id": "b677f604",
   "metadata": {},
   "source": [
    "## count\n",
    "Cuenta cuantas veces aparece un elemento en una lista"
   ]
  },
  {
   "cell_type": "code",
   "execution_count": 60,
   "id": "447e2e3d",
   "metadata": {},
   "outputs": [
    {
     "name": "stdout",
     "output_type": "stream",
     "text": [
      "[100, 300, 500, 100, 200, 100, 300]\n"
     ]
    }
   ],
   "source": [
    "my_list = [100,300,500,100,200,100,300]\n",
    "print(my_list)"
   ]
  },
  {
   "cell_type": "code",
   "execution_count": 61,
   "id": "bbbfb638",
   "metadata": {},
   "outputs": [
    {
     "name": "stdout",
     "output_type": "stream",
     "text": [
      "El número 100 aparece 3 veces en la lista \n"
     ]
    }
   ],
   "source": [
    "print(\"El número 100 aparece {} veces en la lista \".format(my_list.count(100)))"
   ]
  },
  {
   "cell_type": "code",
   "execution_count": 62,
   "id": "13c809fc",
   "metadata": {},
   "outputs": [
    {
     "name": "stdout",
     "output_type": "stream",
     "text": [
      "El número 300 aparece 2 veces en la lista \n"
     ]
    }
   ],
   "source": [
    "print(\"El número 300 aparece {} veces en la lista \".format(my_list.count(300)))"
   ]
  },
  {
   "cell_type": "markdown",
   "id": "7e22a7b1",
   "metadata": {},
   "source": [
    "## index\n",
    "Obtiene el primer índice de una lista que hace match con el elemento solicitado"
   ]
  },
  {
   "cell_type": "code",
   "execution_count": 63,
   "id": "43a89227",
   "metadata": {},
   "outputs": [
    {
     "name": "stdout",
     "output_type": "stream",
     "text": [
      "[100, 300, 500, 100, 200, 100, 300]\n"
     ]
    }
   ],
   "source": [
    "my_list = [100,300,500,100,200,100,300]\n",
    "print(my_list)"
   ]
  },
  {
   "cell_type": "code",
   "execution_count": 64,
   "id": "0599859a",
   "metadata": {},
   "outputs": [
    {
     "name": "stdout",
     "output_type": "stream",
     "text": [
      "El índice de la primera aparicion del número 100 es 0 \n"
     ]
    }
   ],
   "source": [
    "print(\"El índice de la primera aparicion del número 100 es {} \".format(my_list.index(100)))"
   ]
  },
  {
   "cell_type": "code",
   "execution_count": 65,
   "id": "15346db3",
   "metadata": {},
   "outputs": [
    {
     "name": "stdout",
     "output_type": "stream",
     "text": [
      "El índice de la primera aparicion del número 500 es 2 \n"
     ]
    }
   ],
   "source": [
    "print(\"El índice de la primera aparicion del número 500 es {} \".format(my_list.index(500)))"
   ]
  },
  {
   "cell_type": "code",
   "execution_count": 66,
   "id": "d2861649",
   "metadata": {},
   "outputs": [
    {
     "name": "stdout",
     "output_type": "stream",
     "text": [
      "El índice de la primera aparicion del número 300 es 1 \n"
     ]
    }
   ],
   "source": [
    "print(\"El índice de la primera aparicion del número 300 es {} \".format(my_list.index(300)))"
   ]
  },
  {
   "cell_type": "markdown",
   "id": "61c31738",
   "metadata": {},
   "source": [
    "## extend\n",
    "Combinar 2 listas"
   ]
  },
  {
   "cell_type": "code",
   "execution_count": 67,
   "id": "f13e8cf2",
   "metadata": {},
   "outputs": [
    {
     "name": "stdout",
     "output_type": "stream",
     "text": [
      "['caballo', 'abeja', 'jirafa', 'ballena']\n",
      "4\n"
     ]
    }
   ],
   "source": [
    "my_list = [\"caballo\", \"abeja\", \"jirafa\", \"ballena\"]\n",
    "print(my_list)\n",
    "print(len(my_list))"
   ]
  },
  {
   "cell_type": "code",
   "execution_count": 68,
   "id": "4d6c83f7",
   "metadata": {},
   "outputs": [
    {
     "name": "stdout",
     "output_type": "stream",
     "text": [
      "['caballo', 'abeja', 'jirafa', 'ballena', 'delfín', 'gato']\n",
      "6\n"
     ]
    }
   ],
   "source": [
    "my_list_2 = [\"delfín\", \"gato\"]\n",
    "my_list.extend(my_list_2)\n",
    "print(my_list)\n",
    "print(len(my_list))"
   ]
  },
  {
   "cell_type": "code",
   "execution_count": 69,
   "id": "7dfdaf8b",
   "metadata": {},
   "outputs": [
    {
     "name": "stdout",
     "output_type": "stream",
     "text": [
      "[300, 500, 100, 200]\n",
      "4\n"
     ]
    }
   ],
   "source": [
    "my_list = [300,500,100,200]\n",
    "print(my_list)\n",
    "print(len(my_list))"
   ]
  },
  {
   "cell_type": "code",
   "execution_count": 70,
   "id": "f0b41824",
   "metadata": {},
   "outputs": [
    {
     "name": "stdout",
     "output_type": "stream",
     "text": [
      "[300, 500, 100, 200, 111, 333]\n",
      "6\n"
     ]
    }
   ],
   "source": [
    "my_list_2 = [111, 333]\n",
    "my_list.extend(my_list_2)\n",
    "print(my_list)\n",
    "print(len(my_list))"
   ]
  },
  {
   "cell_type": "markdown",
   "id": "da5bfc91",
   "metadata": {},
   "source": [
    "## pop\n",
    "Eliminar elementos de una lista basado en los índices"
   ]
  },
  {
   "cell_type": "code",
   "execution_count": 71,
   "id": "304ad766",
   "metadata": {},
   "outputs": [
    {
     "name": "stdout",
     "output_type": "stream",
     "text": [
      "[100, 300, 500, 100, 200, 100, 300]\n",
      "7\n"
     ]
    }
   ],
   "source": [
    "my_list = [100,300,500,100,200,100,300]\n",
    "print(my_list)\n",
    "print(len(my_list))"
   ]
  },
  {
   "cell_type": "code",
   "execution_count": 72,
   "id": "327655cc",
   "metadata": {},
   "outputs": [
    {
     "name": "stdout",
     "output_type": "stream",
     "text": [
      "[100, 300, 500, 100, 200, 100]\n",
      "6\n"
     ]
    }
   ],
   "source": [
    "# elimina índice -1 por default\n",
    "my_list.pop()\n",
    "print(my_list)\n",
    "print(len(my_list))"
   ]
  },
  {
   "cell_type": "code",
   "execution_count": 73,
   "id": "d7db3cf7",
   "metadata": {},
   "outputs": [
    {
     "name": "stdout",
     "output_type": "stream",
     "text": [
      "[100, 300, 100, 200, 100]\n",
      "5\n"
     ]
    }
   ],
   "source": [
    "my_list.pop(2)\n",
    "print(my_list)\n",
    "print(len(my_list))"
   ]
  },
  {
   "cell_type": "markdown",
   "id": "c0be94f5",
   "metadata": {},
   "source": [
    "## remove\n",
    "Elimina la primera aparición de un valor en una lista"
   ]
  },
  {
   "cell_type": "code",
   "execution_count": 74,
   "id": "22e4cc15",
   "metadata": {},
   "outputs": [
    {
     "name": "stdout",
     "output_type": "stream",
     "text": [
      "[100, 300, 500, 100, 200, 100, 300]\n",
      "7\n"
     ]
    }
   ],
   "source": [
    "my_list = [100,300,500,100,200,100,300]\n",
    "print(my_list)\n",
    "print(len(my_list))"
   ]
  },
  {
   "cell_type": "code",
   "execution_count": 75,
   "id": "91c7abec",
   "metadata": {},
   "outputs": [
    {
     "name": "stdout",
     "output_type": "stream",
     "text": [
      "[300, 500, 100, 200, 100, 300]\n",
      "6\n"
     ]
    }
   ],
   "source": [
    "my_list.remove(100)\n",
    "print(my_list)\n",
    "print(len(my_list))"
   ]
  },
  {
   "cell_type": "code",
   "execution_count": 76,
   "id": "73029e69",
   "metadata": {},
   "outputs": [
    {
     "name": "stdout",
     "output_type": "stream",
     "text": [
      "[300, 500, 200, 100, 300]\n",
      "5\n"
     ]
    }
   ],
   "source": [
    "my_list.remove(100)\n",
    "print(my_list)\n",
    "print(len(my_list))"
   ]
  },
  {
   "cell_type": "code",
   "execution_count": 77,
   "id": "6fd1a2db",
   "metadata": {},
   "outputs": [
    {
     "ename": "ValueError",
     "evalue": "list.remove(x): x not in list",
     "output_type": "error",
     "traceback": [
      "\u001b[1;31m---------------------------------------------------------------------------\u001b[0m",
      "\u001b[1;31mValueError\u001b[0m                                Traceback (most recent call last)",
      "Input \u001b[1;32mIn [77]\u001b[0m, in \u001b[0;36m<module>\u001b[1;34m\u001b[0m\n\u001b[0;32m      1\u001b[0m \u001b[38;5;66;03m# error el valor debe estar en la lista\u001b[39;00m\n\u001b[1;32m----> 2\u001b[0m \u001b[43mmy_list\u001b[49m\u001b[38;5;241;43m.\u001b[39;49m\u001b[43mremove\u001b[49m\u001b[43m(\u001b[49m\u001b[38;5;241;43m600\u001b[39;49m\u001b[43m)\u001b[49m\n\u001b[0;32m      3\u001b[0m \u001b[38;5;28mprint\u001b[39m(my_list)\n\u001b[0;32m      4\u001b[0m \u001b[38;5;28mprint\u001b[39m(\u001b[38;5;28mlen\u001b[39m(my_list))\n",
      "\u001b[1;31mValueError\u001b[0m: list.remove(x): x not in list"
     ]
    }
   ],
   "source": [
    "# error el valor debe estar en la lista\n",
    "my_list.remove(600)\n",
    "print(my_list)\n",
    "print(len(my_list))"
   ]
  },
  {
   "cell_type": "markdown",
   "id": "2494f554",
   "metadata": {},
   "source": [
    "## reverse\n",
    "Invierte e l orden de una lista"
   ]
  },
  {
   "cell_type": "code",
   "execution_count": 78,
   "id": "011ed8ef",
   "metadata": {},
   "outputs": [
    {
     "name": "stdout",
     "output_type": "stream",
     "text": [
      "['caballo', 'abeja', 'jirafa', 'ballena']\n",
      "4\n"
     ]
    }
   ],
   "source": [
    "my_list = [\"caballo\", \"abeja\", \"jirafa\", \"ballena\"]\n",
    "print(my_list)\n",
    "print(len(my_list))"
   ]
  },
  {
   "cell_type": "code",
   "execution_count": 79,
   "id": "321dad91",
   "metadata": {},
   "outputs": [
    {
     "name": "stdout",
     "output_type": "stream",
     "text": [
      "['ballena', 'jirafa', 'abeja', 'caballo']\n",
      "4\n"
     ]
    }
   ],
   "source": [
    "my_list.reverse()\n",
    "print(my_list)\n",
    "print(len(my_list))"
   ]
  },
  {
   "cell_type": "markdown",
   "id": "a778e921",
   "metadata": {},
   "source": [
    "## sort \n",
    "Ordena los elementos de una lista"
   ]
  },
  {
   "cell_type": "code",
   "execution_count": 80,
   "id": "a5ed701c",
   "metadata": {},
   "outputs": [
    {
     "name": "stdout",
     "output_type": "stream",
     "text": [
      "[5, 3, 1, 15, 2, 20]\n",
      "[1, 2, 3, 5, 15, 20]\n"
     ]
    }
   ],
   "source": [
    "my_list = [5,3,1,15,2,20]\n",
    "print(my_list)\n",
    "my_list.sort()\n",
    "print(my_list)"
   ]
  },
  {
   "cell_type": "code",
   "execution_count": 81,
   "id": "a95aa999",
   "metadata": {},
   "outputs": [
    {
     "name": "stdout",
     "output_type": "stream",
     "text": [
      "[5, 3, 1, 15, 2, 20]\n",
      "[20, 15, 5, 3, 2, 1]\n"
     ]
    }
   ],
   "source": [
    "my_list = [5,3,1,15,2,20]\n",
    "print(my_list)\n",
    "my_list.sort(reverse=True)\n",
    "print(my_list)"
   ]
  },
  {
   "cell_type": "code",
   "execution_count": 82,
   "id": "b1d8e17e",
   "metadata": {},
   "outputs": [
    {
     "name": "stdout",
     "output_type": "stream",
     "text": [
      "['caballo', 'abeja', 'jirafa', 'ballena']\n",
      "['abeja', 'ballena', 'caballo', 'jirafa']\n"
     ]
    }
   ],
   "source": [
    "my_list = [\"caballo\", \"abeja\", \"jirafa\", \"ballena\"]\n",
    "print(my_list)\n",
    "my_list.sort()\n",
    "print(my_list)"
   ]
  },
  {
   "cell_type": "code",
   "execution_count": 83,
   "id": "ef154929",
   "metadata": {},
   "outputs": [
    {
     "name": "stdout",
     "output_type": "stream",
     "text": [
      "['caballo', 'abeja', 'jirafa', 'ballena']\n",
      "['jirafa', 'caballo', 'ballena', 'abeja']\n"
     ]
    }
   ],
   "source": [
    "my_list = [\"caballo\", \"abeja\", \"jirafa\", \"ballena\"]\n",
    "print(my_list)\n",
    "my_list.sort(reverse=True)\n",
    "print(my_list)"
   ]
  },
  {
   "cell_type": "markdown",
   "id": "20945112",
   "metadata": {},
   "source": [
    "## Obtener un elemento aleatorio de nuestra lista"
   ]
  },
  {
   "cell_type": "code",
   "execution_count": 84,
   "id": "29a06bfe",
   "metadata": {},
   "outputs": [
    {
     "name": "stdout",
     "output_type": "stream",
     "text": [
      "[5, 3, 1, 15, 2, 20]\n"
     ]
    }
   ],
   "source": [
    "my_list = [5,3,1,15,2,20]\n",
    "print(my_list)"
   ]
  },
  {
   "cell_type": "code",
   "execution_count": 85,
   "id": "3da9d723",
   "metadata": {},
   "outputs": [],
   "source": [
    "import random"
   ]
  },
  {
   "cell_type": "code",
   "execution_count": 86,
   "id": "884e6877",
   "metadata": {},
   "outputs": [
    {
     "name": "stdout",
     "output_type": "stream",
     "text": [
      "5\n"
     ]
    }
   ],
   "source": [
    "print(random.choice(my_list))"
   ]
  },
  {
   "cell_type": "code",
   "execution_count": 87,
   "id": "406c6a7e",
   "metadata": {},
   "outputs": [
    {
     "name": "stdout",
     "output_type": "stream",
     "text": [
      "15\n"
     ]
    }
   ],
   "source": [
    "print(random.choice(my_list))"
   ]
  },
  {
   "cell_type": "code",
   "execution_count": 88,
   "id": "51e39721",
   "metadata": {},
   "outputs": [
    {
     "name": "stdout",
     "output_type": "stream",
     "text": [
      "2\n"
     ]
    }
   ],
   "source": [
    "print(random.choice(my_list))"
   ]
  },
  {
   "cell_type": "code",
   "execution_count": 89,
   "id": "cdff3e98",
   "metadata": {},
   "outputs": [
    {
     "name": "stdout",
     "output_type": "stream",
     "text": [
      "15\n"
     ]
    }
   ],
   "source": [
    "print(random.choice(my_list))"
   ]
  },
  {
   "cell_type": "code",
   "execution_count": null,
   "id": "7d1ed2c7",
   "metadata": {},
   "outputs": [],
   "source": []
  }
 ],
 "metadata": {
  "kernelspec": {
   "display_name": "Python 3 (ipykernel)",
   "language": "python",
   "name": "python3"
  },
  "language_info": {
   "codemirror_mode": {
    "name": "ipython",
    "version": 3
   },
   "file_extension": ".py",
   "mimetype": "text/x-python",
   "name": "python",
   "nbconvert_exporter": "python",
   "pygments_lexer": "ipython3",
   "version": "3.10.2"
  }
 },
 "nbformat": 4,
 "nbformat_minor": 5
}
