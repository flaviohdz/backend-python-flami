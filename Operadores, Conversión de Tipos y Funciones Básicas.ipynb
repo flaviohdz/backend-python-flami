{
 "cells": [
  {
   "cell_type": "markdown",
   "id": "e5a85ea7",
   "metadata": {},
   "source": [
    "# Operadores y Tipos de Operadores\n",
    "### ¿Qué son los operadores?\n",
    "- Son un conjunto de símbolos para un lenguaje de programación\n",
    "- Pueden decirle al compilador o al intérprete que ejecute ciertas acciones para producir un resultado final\n",
    "- Pueden ser usados para aplicar operaciones en variables o valores\n",
    "- Pueden ser clasificados según su tipo (aritméticos, relacionales, de asignación, de decremento, lógicos, afiliación y de indentidad)"
   ]
  },
  {
   "cell_type": "markdown",
   "id": "cdc1ed5b",
   "metadata": {},
   "source": [
    "Tipos de operadores \n",
    "- Aritméticos\n",
    "- Relacionales\n",
    "- De Asignación \n",
    "- Lógicos \n",
    "- De afiliación\n",
    "- De Identidad"
   ]
  },
  {
   "cell_type": "markdown",
   "id": "f41c0e31",
   "metadata": {},
   "source": [
    "### Operadores aritméticos\n",
    "- \"+\": suma\n",
    "- \"-\": resta\n",
    "- \"*\": multiplicación\n",
    "- \"/\": división\n",
    "- \"//\": división con redondeo hacia abajo\n",
    "- \"**\": exponente"
   ]
  },
  {
   "cell_type": "code",
   "execution_count": 2,
   "id": "33c79615",
   "metadata": {},
   "outputs": [
    {
     "name": "stdout",
     "output_type": "stream",
     "text": [
      "El resultado de num_1+num_2 es:  800\n"
     ]
    }
   ],
   "source": [
    "# \"+\": suma\n",
    "num_1 = 500\n",
    "num_2 = 300\n",
    "print(\"El resultado de num_1+num_2 es: \",num_1+num_2)"
   ]
  },
  {
   "cell_type": "code",
   "execution_count": 3,
   "id": "491d1f31",
   "metadata": {},
   "outputs": [
    {
     "name": "stdout",
     "output_type": "stream",
     "text": [
      "El resultado de num_1+num_2 es:  1100\n"
     ]
    }
   ],
   "source": [
    "# \"+\": suma\n",
    "num_1 = 200\n",
    "num_2 = 900\n",
    "print(\"El resultado de num_1+num_2 es: \",num_1+num_2)"
   ]
  },
  {
   "cell_type": "code",
   "execution_count": 4,
   "id": "611d448d",
   "metadata": {},
   "outputs": [
    {
     "name": "stdout",
     "output_type": "stream",
     "text": [
      "El resultado de num_1-num_2 es:  200\n"
     ]
    }
   ],
   "source": [
    "# \"-\": resta\n",
    "num_1 = 500\n",
    "num_2 = 300\n",
    "print(\"El resultado de num_1-num_2 es: \",num_1-num_2)"
   ]
  },
  {
   "cell_type": "code",
   "execution_count": 5,
   "id": "fdc394af",
   "metadata": {},
   "outputs": [
    {
     "name": "stdout",
     "output_type": "stream",
     "text": [
      "El resultado de num_1-num_2 es:  -700\n"
     ]
    }
   ],
   "source": [
    "# \"-\": resta\n",
    "num_1 = 200\n",
    "num_2 = 900\n",
    "print(\"El resultado de num_1-num_2 es: \",num_1-num_2)"
   ]
  },
  {
   "cell_type": "code",
   "execution_count": 6,
   "id": "5dee8ef8",
   "metadata": {},
   "outputs": [
    {
     "name": "stdout",
     "output_type": "stream",
     "text": [
      "El resultado de num_1*num_2 es:  150000\n"
     ]
    }
   ],
   "source": [
    "# \"*\": multiplicación\n",
    "num_1 = 500\n",
    "num_2 = 300\n",
    "print(\"El resultado de num_1*num_2 es: \",num_1*num_2)"
   ]
  },
  {
   "cell_type": "code",
   "execution_count": 7,
   "id": "b93d26e9",
   "metadata": {},
   "outputs": [
    {
     "name": "stdout",
     "output_type": "stream",
     "text": [
      "El resultado de num_1*num_2 es:  180000\n"
     ]
    }
   ],
   "source": [
    "# \"*\": multiplicación\n",
    "num_1 = 200\n",
    "num_2 = 900\n",
    "print(\"El resultado de num_1*num_2 es: \",num_1*num_2)"
   ]
  },
  {
   "cell_type": "code",
   "execution_count": 8,
   "id": "302d19b0",
   "metadata": {},
   "outputs": [
    {
     "name": "stdout",
     "output_type": "stream",
     "text": [
      "El resultado de num_1/num_2 es:  1.6666666666666667\n"
     ]
    }
   ],
   "source": [
    "# \"/\": división\n",
    "num_1 = 500\n",
    "num_2 = 300\n",
    "print(\"El resultado de num_1/num_2 es: \",num_1/num_2)"
   ]
  },
  {
   "cell_type": "code",
   "execution_count": 9,
   "id": "c7de5aa7",
   "metadata": {},
   "outputs": [
    {
     "name": "stdout",
     "output_type": "stream",
     "text": [
      "El resultado de num_1/num_2 es:  0.2222222222222222\n"
     ]
    }
   ],
   "source": [
    "# \"/\": división\n",
    "num_1 = 200\n",
    "num_2 = 900\n",
    "print(\"El resultado de num_1/num_2 es: \",num_1/num_2)"
   ]
  },
  {
   "cell_type": "code",
   "execution_count": 10,
   "id": "02f81f38",
   "metadata": {},
   "outputs": [
    {
     "name": "stdout",
     "output_type": "stream",
     "text": [
      "El resultado de num_1//num_2 es:  1\n"
     ]
    }
   ],
   "source": [
    "# \"//\": división con redondeo hacia abajo, la parte entera del resultado\n",
    "num_1 = 500\n",
    "num_2 = 300\n",
    "print(\"El resultado de num_1//num_2 es: \",num_1//num_2)"
   ]
  },
  {
   "cell_type": "code",
   "execution_count": 11,
   "id": "313f7746",
   "metadata": {},
   "outputs": [
    {
     "name": "stdout",
     "output_type": "stream",
     "text": [
      "El resultado de num_1//num_2 es:  0\n"
     ]
    }
   ],
   "source": [
    "# \"//\": división con redondeo hacia abajo, la parte entera del resultado\n",
    "num_1 = 200\n",
    "num_2 = 900\n",
    "print(\"El resultado de num_1//num_2 es: \",num_1//num_2)"
   ]
  },
  {
   "cell_type": "code",
   "execution_count": 12,
   "id": "cfc4270f",
   "metadata": {},
   "outputs": [
    {
     "name": "stdout",
     "output_type": "stream",
     "text": [
      "El resultado de num_1**num_2 es:  32\n"
     ]
    }
   ],
   "source": [
    "# \"**\": exponente (elevar un exponente)\n",
    "num_1 = 2\n",
    "num_2 = 5\n",
    "print(\"El resultado de num_1**num_2 es: \",num_1**num_2) #2*2*2*2*2"
   ]
  },
  {
   "cell_type": "code",
   "execution_count": 13,
   "id": "eecbeee7",
   "metadata": {},
   "outputs": [
    {
     "name": "stdout",
     "output_type": "stream",
     "text": [
      "El resultado de num_1**num_2 es:  27\n"
     ]
    }
   ],
   "source": [
    "# \"**\": exponente (elevar un exponente)\n",
    "num_1 = 3\n",
    "num_2 = 3\n",
    "print(\"El resultado de num_1**num_2 es: \",num_1**num_2) #3*3*3"
   ]
  },
  {
   "cell_type": "markdown",
   "id": "2c7f499a",
   "metadata": {},
   "source": [
    "### Operadores relacionales \n",
    "\n",
    "¿Qué son los operadores relacionales?\n",
    "- Son también conocidos como operadores de comparación\n",
    "- Regresan un valor booleano (Verdadero o Falso)\n",
    "- En Python, son usados para comparar o relacionar los valores\n",
    "- Verdadero/True, es el resultado cuando la condición es exitosa\n",
    "- Falso/False, es el resultado cuando la condición no se cumple \n",
    "- Estos operadores se encargan de las operaciones de comparación"
   ]
  },
  {
   "cell_type": "markdown",
   "id": "d08ddb51",
   "metadata": {},
   "source": [
    "Tipos de operadores relacionales\n",
    "- \"==\": comparar si es igual a\n",
    "- \"!=\": diferente a\n",
    "- \">\": mayor que\n",
    "- \">=\": mayor o igual que\n",
    "- \"<\": menor que\n",
    "- \"<=\": menor o igual que"
   ]
  },
  {
   "cell_type": "code",
   "execution_count": 14,
   "id": "f5855076",
   "metadata": {},
   "outputs": [],
   "source": [
    "# \"==\": igual a "
   ]
  },
  {
   "cell_type": "code",
   "execution_count": 15,
   "id": "28711cb3",
   "metadata": {},
   "outputs": [
    {
     "name": "stdout",
     "output_type": "stream",
     "text": [
      "El resultado de num_1==num_2 es:  False\n"
     ]
    }
   ],
   "source": [
    "num_1 = 540 #asignación\n",
    "num_2 = 420\n",
    "print(\"El resultado de num_1==num_2 es: \",num_1==num_2)"
   ]
  },
  {
   "cell_type": "code",
   "execution_count": 16,
   "id": "4375f508",
   "metadata": {},
   "outputs": [
    {
     "name": "stdout",
     "output_type": "stream",
     "text": [
      "El resultado de num_1==num_2 es:  True\n"
     ]
    }
   ],
   "source": [
    "num_1 = 540 #asignación\n",
    "num_2 = 540\n",
    "print(\"El resultado de num_1==num_2 es: \",num_1==num_2)"
   ]
  },
  {
   "cell_type": "code",
   "execution_count": 18,
   "id": "bf1ea8f5",
   "metadata": {},
   "outputs": [
    {
     "name": "stdout",
     "output_type": "stream",
     "text": [
      "El resultado de str_1==str_2 es:  True\n"
     ]
    }
   ],
   "source": [
    "str_1 = \"Backend Python\" # asignación\n",
    "str_2 = \"Backend Python\"\n",
    "print(\"El resultado de str_1==str_2 es: \",str_1==str_2)"
   ]
  },
  {
   "cell_type": "code",
   "execution_count": 19,
   "id": "1fa17023",
   "metadata": {},
   "outputs": [
    {
     "name": "stdout",
     "output_type": "stream",
     "text": [
      "El resultado de str_1==str_2 es:  False\n"
     ]
    }
   ],
   "source": [
    "str_1 = \"Backend Python\" # asignación\n",
    "str_2 = \"backend python\"\n",
    "print(\"El resultado de str_1==str_2 es: \",str_1==str_2)"
   ]
  },
  {
   "cell_type": "code",
   "execution_count": 20,
   "id": "3ff2c418",
   "metadata": {},
   "outputs": [],
   "source": [
    "# \"!=\": diferente a"
   ]
  },
  {
   "cell_type": "code",
   "execution_count": 21,
   "id": "b2bdca27",
   "metadata": {},
   "outputs": [
    {
     "name": "stdout",
     "output_type": "stream",
     "text": [
      "El resultado de num_1!=num_2 es:  True\n"
     ]
    }
   ],
   "source": [
    "num_1 = 540 #asignación\n",
    "num_2 = 420\n",
    "print(\"El resultado de num_1!=num_2 es: \",num_1!=num_2)"
   ]
  },
  {
   "cell_type": "code",
   "execution_count": 22,
   "id": "e7f5e0cf",
   "metadata": {},
   "outputs": [
    {
     "name": "stdout",
     "output_type": "stream",
     "text": [
      "El resultado de num_1!=num_2 es:  False\n"
     ]
    }
   ],
   "source": [
    "num_1 = 540 #asignación\n",
    "num_2 = 540\n",
    "print(\"El resultado de num_1!=num_2 es: \",num_1!=num_2)"
   ]
  },
  {
   "cell_type": "code",
   "execution_count": 23,
   "id": "556d8e87",
   "metadata": {},
   "outputs": [
    {
     "name": "stdout",
     "output_type": "stream",
     "text": [
      "El resultado de str_1!=str_2 es:  False\n"
     ]
    }
   ],
   "source": [
    "str_1 = \"Backend Python\" # asignación\n",
    "str_2 = \"Backend Python\"\n",
    "print(\"El resultado de str_1!=str_2 es: \",str_1!=str_2)"
   ]
  },
  {
   "cell_type": "code",
   "execution_count": 25,
   "id": "aeebc533",
   "metadata": {},
   "outputs": [
    {
     "name": "stdout",
     "output_type": "stream",
     "text": [
      "El resultado de str_1!=str_2 es:  True\n"
     ]
    }
   ],
   "source": [
    "str_1 = \"Backend Python\" # asignación\n",
    "str_2 = \"backend python\"\n",
    "print(\"El resultado de str_1!=str_2 es: \",str_1!=str_2)"
   ]
  },
  {
   "cell_type": "code",
   "execution_count": 26,
   "id": "4e575a5e",
   "metadata": {},
   "outputs": [],
   "source": [
    "# \">\": mayor que"
   ]
  },
  {
   "cell_type": "code",
   "execution_count": 27,
   "id": "8d89bd77",
   "metadata": {},
   "outputs": [
    {
     "name": "stdout",
     "output_type": "stream",
     "text": [
      "El resultado de num_1>num_2 es:  True\n"
     ]
    }
   ],
   "source": [
    "num_1 = 540 #asignación\n",
    "num_2 = 420\n",
    "print(\"El resultado de num_1>num_2 es: \",num_1>num_2)"
   ]
  },
  {
   "cell_type": "code",
   "execution_count": 28,
   "id": "8f75a44d",
   "metadata": {},
   "outputs": [
    {
     "name": "stdout",
     "output_type": "stream",
     "text": [
      "El resultado de num_1>num_2 es:  False\n"
     ]
    }
   ],
   "source": [
    "num_1 = 540 #asignación\n",
    "num_2 = 540\n",
    "print(\"El resultado de num_1>num_2 es: \",num_1>num_2)"
   ]
  },
  {
   "cell_type": "code",
   "execution_count": 29,
   "id": "6c2425db",
   "metadata": {},
   "outputs": [
    {
     "name": "stdout",
     "output_type": "stream",
     "text": [
      "El resultado de num_1>num_2 es:  False\n"
     ]
    }
   ],
   "source": [
    "num_1 = 540 #asignación\n",
    "num_2 = 920\n",
    "print(\"El resultado de num_1>num_2 es: \",num_1>num_2)"
   ]
  },
  {
   "cell_type": "code",
   "execution_count": 30,
   "id": "e530d4ba",
   "metadata": {},
   "outputs": [],
   "source": [
    "# \">=\": mayor o igual que"
   ]
  },
  {
   "cell_type": "code",
   "execution_count": 31,
   "id": "58dcfe67",
   "metadata": {},
   "outputs": [
    {
     "name": "stdout",
     "output_type": "stream",
     "text": [
      "El resultado de num_1>=num_2 es:  True\n"
     ]
    }
   ],
   "source": [
    "num_1 = 540 #asignación\n",
    "num_2 = 420\n",
    "print(\"El resultado de num_1>=num_2 es: \",num_1>=num_2)"
   ]
  },
  {
   "cell_type": "code",
   "execution_count": 32,
   "id": "e5584415",
   "metadata": {},
   "outputs": [
    {
     "name": "stdout",
     "output_type": "stream",
     "text": [
      "El resultado de num_1>=num_2 es:  True\n"
     ]
    }
   ],
   "source": [
    "num_1 = 540 #asignación\n",
    "num_2 = 540\n",
    "print(\"El resultado de num_1>=num_2 es: \",num_1>=num_2)"
   ]
  },
  {
   "cell_type": "code",
   "execution_count": 33,
   "id": "4528b121",
   "metadata": {},
   "outputs": [
    {
     "name": "stdout",
     "output_type": "stream",
     "text": [
      "El resultado de num_1>=num_2 es:  False\n"
     ]
    }
   ],
   "source": [
    "num_1 = 540 #asignación\n",
    "num_2 = 920\n",
    "print(\"El resultado de num_1>=num_2 es: \",num_1>=num_2)"
   ]
  },
  {
   "cell_type": "code",
   "execution_count": 34,
   "id": "54fdc365",
   "metadata": {},
   "outputs": [],
   "source": [
    "# \"<\": menor que"
   ]
  },
  {
   "cell_type": "code",
   "execution_count": 35,
   "id": "74498b8a",
   "metadata": {},
   "outputs": [
    {
     "name": "stdout",
     "output_type": "stream",
     "text": [
      "El resultado de num_1<num_2 es:  False\n"
     ]
    }
   ],
   "source": [
    "num_1 = 540 #asignación\n",
    "num_2 = 420\n",
    "print(\"El resultado de num_1<num_2 es: \",num_1<num_2)"
   ]
  },
  {
   "cell_type": "code",
   "execution_count": 36,
   "id": "6766be75",
   "metadata": {},
   "outputs": [
    {
     "name": "stdout",
     "output_type": "stream",
     "text": [
      "El resultado de num_1<num_2 es:  False\n"
     ]
    }
   ],
   "source": [
    "num_1 = 540 #asignación\n",
    "num_2 = 540\n",
    "print(\"El resultado de num_1<num_2 es: \",num_1<num_2)"
   ]
  },
  {
   "cell_type": "code",
   "execution_count": 37,
   "id": "174d2b65",
   "metadata": {},
   "outputs": [
    {
     "name": "stdout",
     "output_type": "stream",
     "text": [
      "El resultado de num_1<num_2 es:  True\n"
     ]
    }
   ],
   "source": [
    "num_1 = 540 #asignación\n",
    "num_2 = 920\n",
    "print(\"El resultado de num_1<num_2 es: \",num_1<num_2)"
   ]
  },
  {
   "cell_type": "code",
   "execution_count": 38,
   "id": "6db7b870",
   "metadata": {},
   "outputs": [],
   "source": [
    "# \"<=\": menor o igual que"
   ]
  },
  {
   "cell_type": "code",
   "execution_count": 39,
   "id": "69d2f758",
   "metadata": {},
   "outputs": [
    {
     "name": "stdout",
     "output_type": "stream",
     "text": [
      "El resultado de num_1<=num_2 es:  False\n"
     ]
    }
   ],
   "source": [
    "num_1 = 540 #asignación\n",
    "num_2 = 420\n",
    "print(\"El resultado de num_1<=num_2 es: \",num_1<=num_2)"
   ]
  },
  {
   "cell_type": "code",
   "execution_count": 40,
   "id": "c71f3ec9",
   "metadata": {},
   "outputs": [
    {
     "name": "stdout",
     "output_type": "stream",
     "text": [
      "El resultado de num_1<=num_2 es:  True\n"
     ]
    }
   ],
   "source": [
    "num_1 = 540 #asignación\n",
    "num_2 = 540\n",
    "print(\"El resultado de num_1<=num_2 es: \",num_1<=num_2)"
   ]
  },
  {
   "cell_type": "code",
   "execution_count": 41,
   "id": "00ea61e2",
   "metadata": {},
   "outputs": [
    {
     "name": "stdout",
     "output_type": "stream",
     "text": [
      "El resultado de num_1<=num_2 es:  True\n"
     ]
    }
   ],
   "source": [
    "num_1 = 540 #asignación\n",
    "num_2 = 920\n",
    "print(\"El resultado de num_1<=num_2 es: \",num_1<=num_2)"
   ]
  },
  {
   "cell_type": "markdown",
   "id": "a8656bed",
   "metadata": {},
   "source": [
    "### Operadores de asignación"
   ]
  },
  {
   "cell_type": "markdown",
   "id": "acdd81db",
   "metadata": {},
   "source": [
    "¿Qué son los operadores de asigncaión?\n",
    "- En Python son usados para asignar valores a variables\n",
    "- Incluyen al operador de asignación que es el signo de igual (=)"
   ]
  },
  {
   "cell_type": "markdown",
   "id": "225b2c3f",
   "metadata": {},
   "source": [
    "Tipos de operadores de asignación:\n",
    "- \"=\": Operador de Asignación\n",
    "- \"+=\": Sumar y Asignar\n",
    "- \"-=\": Restar y Asignar\n",
    "- \"*=\": Multiplicar y Asignar\n",
    "- \"/=\": Dividir y Asignar\n",
    "- \"//=\": Dividir con redondeo hacia abajo y asignar\n",
    "- \"%=\": Modulo y Asignar\n",
    "- \"**=\": Exponente y Asignar"
   ]
  },
  {
   "cell_type": "code",
   "execution_count": 45,
   "id": "79998679",
   "metadata": {},
   "outputs": [],
   "source": [
    "# \"=\": Operador de Asignación"
   ]
  },
  {
   "cell_type": "code",
   "execution_count": 43,
   "id": "cc1f8461",
   "metadata": {},
   "outputs": [],
   "source": [
    "num_1 = 20\n",
    "num_2 = 3"
   ]
  },
  {
   "cell_type": "code",
   "execution_count": 44,
   "id": "27355c0e",
   "metadata": {},
   "outputs": [],
   "source": [
    "# \"+=\": Sumar y Asignar"
   ]
  },
  {
   "cell_type": "code",
   "execution_count": 46,
   "id": "d3c7d26e",
   "metadata": {},
   "outputs": [
    {
     "name": "stdout",
     "output_type": "stream",
     "text": [
      "num_1 antes de la operación:  20\n",
      "num_1 después de la operación:  23\n"
     ]
    }
   ],
   "source": [
    "num_1 = 20\n",
    "num_2 = 3\n",
    "print(\"num_1 antes de la operación: \",num_1)\n",
    "num_1 += num_2 # num_1 = num_1 + num_2\n",
    "print(\"num_1 después de la operación: \",num_1)"
   ]
  },
  {
   "cell_type": "code",
   "execution_count": 47,
   "id": "f8d8abb7",
   "metadata": {},
   "outputs": [],
   "source": [
    "# \"-=\": Restar y Asignar"
   ]
  },
  {
   "cell_type": "code",
   "execution_count": 48,
   "id": "fa4dbfa6",
   "metadata": {},
   "outputs": [
    {
     "name": "stdout",
     "output_type": "stream",
     "text": [
      "num_1 antes de la operación:  20\n",
      "num_1 después de la operación:  17\n"
     ]
    }
   ],
   "source": [
    "num_1 = 20\n",
    "num_2 = 3\n",
    "print(\"num_1 antes de la operación: \",num_1)\n",
    "num_1 -= num_2 # num_1 = num_1 - num_2\n",
    "print(\"num_1 después de la operación: \",num_1)"
   ]
  },
  {
   "cell_type": "code",
   "execution_count": 49,
   "id": "3ab5cb07",
   "metadata": {},
   "outputs": [],
   "source": [
    "# \"*=\": Multiplicar y Asignar"
   ]
  },
  {
   "cell_type": "code",
   "execution_count": 50,
   "id": "388e5907",
   "metadata": {},
   "outputs": [
    {
     "name": "stdout",
     "output_type": "stream",
     "text": [
      "num_1 antes de la operación:  20\n",
      "num_1 después de la operación:  60\n"
     ]
    }
   ],
   "source": [
    "num_1 = 20\n",
    "num_2 = 3\n",
    "print(\"num_1 antes de la operación: \",num_1)\n",
    "num_1 *= num_2 # num_1 = num_1 * num_2\n",
    "print(\"num_1 después de la operación: \",num_1)"
   ]
  },
  {
   "cell_type": "code",
   "execution_count": 51,
   "id": "098c06c6",
   "metadata": {},
   "outputs": [],
   "source": [
    "# \"/=\": Dividir y Asignar"
   ]
  },
  {
   "cell_type": "code",
   "execution_count": 52,
   "id": "d662f09e",
   "metadata": {},
   "outputs": [
    {
     "name": "stdout",
     "output_type": "stream",
     "text": [
      "num_1 antes de la operación:  20\n",
      "num_1 después de la operación:  6.666666666666667\n"
     ]
    }
   ],
   "source": [
    "num_1 = 20\n",
    "num_2 = 3\n",
    "print(\"num_1 antes de la operación: \",num_1)\n",
    "num_1 /= num_2 # num_1 = num_1 / num_2\n",
    "print(\"num_1 después de la operación: \",num_1)"
   ]
  },
  {
   "cell_type": "code",
   "execution_count": 53,
   "id": "1e11e113",
   "metadata": {},
   "outputs": [],
   "source": [
    "# \"//=\": Dividir con redondeo hacia abajo y asignar"
   ]
  },
  {
   "cell_type": "code",
   "execution_count": 54,
   "id": "659f7b78",
   "metadata": {},
   "outputs": [
    {
     "name": "stdout",
     "output_type": "stream",
     "text": [
      "num_1 antes de la operación:  20\n",
      "num_1 después de la operación:  6\n"
     ]
    }
   ],
   "source": [
    "num_1 = 20\n",
    "num_2 = 3\n",
    "print(\"num_1 antes de la operación: \",num_1)\n",
    "num_1 //= num_2 # num_1 = num_1 // num_2\n",
    "print(\"num_1 después de la operación: \",num_1)"
   ]
  },
  {
   "cell_type": "code",
   "execution_count": 59,
   "id": "f75d1f9c",
   "metadata": {},
   "outputs": [],
   "source": [
    "# \"%=\": Modulo y Asignar, el número que queda tras dividir, residuo"
   ]
  },
  {
   "cell_type": "code",
   "execution_count": 56,
   "id": "5503fd80",
   "metadata": {},
   "outputs": [
    {
     "name": "stdout",
     "output_type": "stream",
     "text": [
      "num_1 antes de la operación:  20\n",
      "num_1 después de la operación:  2\n"
     ]
    }
   ],
   "source": [
    "num_1 = 20\n",
    "num_2 = 3\n",
    "print(\"num_1 antes de la operación: \",num_1)\n",
    "num_1 %= num_2 # num_1 = num_1 % num_2\n",
    "print(\"num_1 después de la operación: \",num_1)"
   ]
  },
  {
   "cell_type": "code",
   "execution_count": 57,
   "id": "4f797a13",
   "metadata": {},
   "outputs": [],
   "source": [
    "# \"**=\": Exponente y Asignar"
   ]
  },
  {
   "cell_type": "code",
   "execution_count": 58,
   "id": "2ec85a63",
   "metadata": {},
   "outputs": [
    {
     "name": "stdout",
     "output_type": "stream",
     "text": [
      "num_1 antes de la operación:  20\n",
      "num_1 después de la operación:  8000\n"
     ]
    }
   ],
   "source": [
    "num_1 = 20\n",
    "num_2 = 3\n",
    "print(\"num_1 antes de la operación: \",num_1)\n",
    "num_1 **= num_2 # num_1 = num_1 ** num_2\n",
    "print(\"num_1 después de la operación: \",num_1)"
   ]
  },
  {
   "cell_type": "markdown",
   "id": "9f5f61e8",
   "metadata": {},
   "source": [
    "### Operadores Lógicos"
   ]
  },
  {
   "cell_type": "markdown",
   "id": "dbc1145a",
   "metadata": {},
   "source": [
    "¿Qué son los operadores lógicos?\n",
    "- Son usados principalmente para declaraciones condicionales\n",
    "- Son indicadores estructurales\n",
    "- También se les conoces como conectores lógicos\n",
    "- Hay 3 tipos de operadores lógicos:\n",
    "    - AND (y) - regresa True/Verdadero si ambas operaciones son verdaderas\n",
    "    - OR (o) - regresa True/Verdadero si por lo menos 1 de las operaciones es verdadera\n",
    "    - NOT (lo opuesto) - regersa True/Verdadero si la operación es False/Falso"
   ]
  },
  {
   "cell_type": "code",
   "execution_count": 60,
   "id": "84d9c22c",
   "metadata": {},
   "outputs": [],
   "source": [
    "# AND (y)\n",
    "# Todas las condiciones deben ser verdaderas"
   ]
  },
  {
   "cell_type": "code",
   "execution_count": 61,
   "id": "f230c4c4",
   "metadata": {},
   "outputs": [
    {
     "name": "stdout",
     "output_type": "stream",
     "text": [
      "num_1<=num_2 and num_1!=num_2 True\n"
     ]
    }
   ],
   "source": [
    "num_1 = 11\n",
    "num_2 = 55\n",
    "# num_1<=num_2: True/Verdadero\n",
    "# num_1!=num_2: True/Verdadero\n",
    "print(\"num_1<=num_2 and num_1!=num_2\", num_1<=num_2 and num_1!=num_2)"
   ]
  },
  {
   "cell_type": "code",
   "execution_count": 62,
   "id": "a3954919",
   "metadata": {},
   "outputs": [
    {
     "name": "stdout",
     "output_type": "stream",
     "text": [
      "num_1<=num_2 and num_1!=num_2 False\n"
     ]
    }
   ],
   "source": [
    "num_1 = 11\n",
    "num_2 = 11\n",
    "# num_1<=num_2: True/Verdadero\n",
    "# num_1!=num_2: False/Falso\n",
    "print(\"num_1<=num_2 and num_1!=num_2\", num_1<=num_2 and num_1!=num_2)"
   ]
  },
  {
   "cell_type": "code",
   "execution_count": 63,
   "id": "b5d3d9cd",
   "metadata": {},
   "outputs": [
    {
     "name": "stdout",
     "output_type": "stream",
     "text": [
      "num_1<=num_2 and num_1!=num_2 and num_1>10 True\n"
     ]
    }
   ],
   "source": [
    "num_1 = 11\n",
    "num_2 = 55\n",
    "# num_1<=num_2: True/Verdadero\n",
    "# num_1!=num_2: True/Verdadero\n",
    "# num_1>10: True/Verdadero\n",
    "print(\"num_1<=num_2 and num_1!=num_2 and num_1>10\", num_1<=num_2 and num_1!=num_2 and num_1>10)"
   ]
  },
  {
   "cell_type": "code",
   "execution_count": 64,
   "id": "6da77e18",
   "metadata": {},
   "outputs": [
    {
     "name": "stdout",
     "output_type": "stream",
     "text": [
      "num_1<=num_2 and num_1!=num_2 and num_1>10 False\n"
     ]
    }
   ],
   "source": [
    "num_1 = 11\n",
    "num_2 = 11\n",
    "# num_1<=num_2: True/Verdadero\n",
    "# num_1!=num_2: False/Falso\n",
    "# num_1>10: True/Verdadero\n",
    "print(\"num_1<=num_2 and num_1!=num_2 and num_1>10\", num_1<=num_2 and num_1!=num_2 and num_1>10)"
   ]
  },
  {
   "cell_type": "code",
   "execution_count": 65,
   "id": "cc4016e6",
   "metadata": {},
   "outputs": [],
   "source": [
    "# OR (o) - una de las condiciones debe ser verdadera/True"
   ]
  },
  {
   "cell_type": "code",
   "execution_count": 66,
   "id": "deeeb5f8",
   "metadata": {},
   "outputs": [
    {
     "name": "stdout",
     "output_type": "stream",
     "text": [
      "num_1<=num_2 or num_1!=num_2 True\n"
     ]
    }
   ],
   "source": [
    "num_1 = 11\n",
    "num_2 = 55\n",
    "# num_1<=num_2: True/Verdadero\n",
    "# num_1!=num_2: True/Verdadero\n",
    "print(\"num_1<=num_2 or num_1!=num_2\", num_1<=num_2 or num_1!=num_2)"
   ]
  },
  {
   "cell_type": "code",
   "execution_count": 68,
   "id": "446b5d37",
   "metadata": {},
   "outputs": [
    {
     "name": "stdout",
     "output_type": "stream",
     "text": [
      "num_1<=num_2 or num_1!=num_2 True\n"
     ]
    }
   ],
   "source": [
    "num_1 = 11\n",
    "num_2 = 11\n",
    "# num_1<=num_2: True/Verdadero\n",
    "# num_1!=num_2: True/Verdadero\n",
    "print(\"num_1<=num_2 or num_1!=num_2\", num_1<=num_2 or num_1!=num_2)"
   ]
  },
  {
   "cell_type": "code",
   "execution_count": 69,
   "id": "abc2f23c",
   "metadata": {},
   "outputs": [
    {
     "name": "stdout",
     "output_type": "stream",
     "text": [
      "num_1<=num_2 or num_1!=num_2 or num_1>10 True\n"
     ]
    }
   ],
   "source": [
    "num_1 = 11\n",
    "num_2 = 55\n",
    "# num_1<=num_2: True/Verdadero\n",
    "# num_1!=num_2: True/Verdadero\n",
    "# num_1>10: True/Verdadero\n",
    "print(\"num_1<=num_2 or num_1!=num_2 or num_1>10\", num_1<=num_2 or num_1!=num_2 or num_1>10)"
   ]
  },
  {
   "cell_type": "code",
   "execution_count": 70,
   "id": "64ae5807",
   "metadata": {},
   "outputs": [
    {
     "name": "stdout",
     "output_type": "stream",
     "text": [
      "num_1<=num_2 or num_1!=num_2 or num_1>10 True\n"
     ]
    }
   ],
   "source": [
    "num_1 = 11\n",
    "num_2 = 11\n",
    "# num_1<=num_2: True/Verdadero\n",
    "# num_1!=num_2: False/Falso\n",
    "# num_1>10: True/Verdadero\n",
    "print(\"num_1<=num_2 or num_1!=num_2 or num_1>10\", num_1<=num_2 or num_1!=num_2 or num_1>10)"
   ]
  },
  {
   "cell_type": "code",
   "execution_count": 71,
   "id": "a01482b6",
   "metadata": {},
   "outputs": [],
   "source": [
    "# NOT (lo opuesto)\n",
    "# La condición debe ser falsa"
   ]
  },
  {
   "cell_type": "code",
   "execution_count": 72,
   "id": "2c22d18b",
   "metadata": {},
   "outputs": [
    {
     "name": "stdout",
     "output_type": "stream",
     "text": [
      "not num_1<=num_2 False\n"
     ]
    }
   ],
   "source": [
    "num_1 = 11\n",
    "num_2 = 55\n",
    "# num_1<=num_2: True/Verdadero\n",
    "print(\"not num_1<=num_2\", not num_1<=num_2)"
   ]
  },
  {
   "cell_type": "code",
   "execution_count": 73,
   "id": "5d239712",
   "metadata": {},
   "outputs": [
    {
     "name": "stdout",
     "output_type": "stream",
     "text": [
      "not num_1!=num_2 False\n"
     ]
    }
   ],
   "source": [
    "num_1 = 11\n",
    "num_2 = 55\n",
    "# num_1!=num_2: True/Verdadero\n",
    "print(\"not num_1!=num_2\", not num_1!=num_2)"
   ]
  },
  {
   "cell_type": "code",
   "execution_count": 74,
   "id": "cea567e8",
   "metadata": {},
   "outputs": [
    {
     "name": "stdout",
     "output_type": "stream",
     "text": [
      "not num_1>num_2 True\n"
     ]
    }
   ],
   "source": [
    "num_1 = 11\n",
    "num_2 = 55\n",
    "# num_1>num_2: False/Falso\n",
    "print(\"not num_1>num_2\", not num_1>num_2)"
   ]
  },
  {
   "cell_type": "markdown",
   "id": "dcb8088e",
   "metadata": {},
   "source": [
    "### Operadores de Afiliación"
   ]
  },
  {
   "cell_type": "markdown",
   "id": "72426161",
   "metadata": {},
   "source": [
    "¿Qué son los operadores de afiliación?\n",
    "- Son usados para validar elementos en listas, cadenas y dúplas\n",
    "- Validan si una variable esta presente en una secuencia \n",
    "- Regresan un valor booleano con el resultado True/False\n",
    "- Regresa True/Verdadero si el valor esta presentre en la secuencia\n",
    "- Regresa False/Falso si el valor no esta en la secuencia \n",
    "- Hay 2 operadores de afiliación:\n",
    "    - IN - el valor esta en la secuencia \n",
    "    - NOT IN - el valor no esta en la secuencia\n",
    "    "
   ]
  },
  {
   "cell_type": "code",
   "execution_count": 1,
   "id": "ddfbd77b",
   "metadata": {},
   "outputs": [],
   "source": [
    "# IN: ¿El valor esta presente en la secuencia?"
   ]
  },
  {
   "cell_type": "code",
   "execution_count": 2,
   "id": "092ad17b",
   "metadata": {},
   "outputs": [
    {
     "name": "stdout",
     "output_type": "stream",
     "text": [
      "'a' in my_string True\n"
     ]
    }
   ],
   "source": [
    "my_string = \"Backend Python\"\n",
    "print(\"'a' in my_string\", 'a' in my_string)"
   ]
  },
  {
   "cell_type": "code",
   "execution_count": 3,
   "id": "899ca7e8",
   "metadata": {},
   "outputs": [
    {
     "name": "stdout",
     "output_type": "stream",
     "text": [
      "'i' in my_string False\n"
     ]
    }
   ],
   "source": [
    "my_string = \"Backend Python\"\n",
    "print(\"'i' in my_string\", 'i' in my_string)"
   ]
  },
  {
   "cell_type": "code",
   "execution_count": 4,
   "id": "0bd28e8a",
   "metadata": {},
   "outputs": [
    {
     "name": "stdout",
     "output_type": "stream",
     "text": [
      "5 in my_list  False\n"
     ]
    }
   ],
   "source": [
    "my_list = [1, 154, 321, 22, 11]\n",
    "print(\"5 in my_list \",5 in my_list)"
   ]
  },
  {
   "cell_type": "code",
   "execution_count": 7,
   "id": "b8ad899e",
   "metadata": {},
   "outputs": [
    {
     "name": "stdout",
     "output_type": "stream",
     "text": [
      "5 in my_list  True\n"
     ]
    }
   ],
   "source": [
    "my_list = [1, 154, 321, 22, 11, 5, 11, 22, 5, 1]\n",
    "print(\"5 in my_list \",5 in my_list)"
   ]
  },
  {
   "cell_type": "code",
   "execution_count": 8,
   "id": "2d539c5c",
   "metadata": {},
   "outputs": [
    {
     "data": {
      "text/plain": [
       "[1, 154, 321, 22, 11, 5, 11, 22, 5, 1]"
      ]
     },
     "execution_count": 8,
     "metadata": {},
     "output_type": "execute_result"
    }
   ],
   "source": [
    "my_list "
   ]
  },
  {
   "cell_type": "code",
   "execution_count": 11,
   "id": "b678028a",
   "metadata": {},
   "outputs": [
    {
     "name": "stdout",
     "output_type": "stream",
     "text": [
      "5 in my_set  True\n"
     ]
    }
   ],
   "source": [
    "my_set = {1, 154, 321, 22, 11, 5, 33, 4}\n",
    "print(\"5 in my_set \",5 in my_set)"
   ]
  },
  {
   "cell_type": "code",
   "execution_count": 13,
   "id": "cc4b4893",
   "metadata": {},
   "outputs": [
    {
     "data": {
      "text/plain": [
       "{1, 4, 5, 11, 22, 33, 154, 321}"
      ]
     },
     "execution_count": 13,
     "metadata": {},
     "output_type": "execute_result"
    }
   ],
   "source": [
    "my_set"
   ]
  },
  {
   "cell_type": "code",
   "execution_count": 14,
   "id": "65181567",
   "metadata": {},
   "outputs": [],
   "source": [
    "# NOT IN: ¿El valor NO esta presente en la secuencia?"
   ]
  },
  {
   "cell_type": "code",
   "execution_count": 15,
   "id": "ced919c0",
   "metadata": {},
   "outputs": [
    {
     "name": "stdout",
     "output_type": "stream",
     "text": [
      "'a' not in my_string False\n"
     ]
    }
   ],
   "source": [
    "my_string = \"Backend Python\"\n",
    "print(\"'a' not in my_string\", 'a' not in my_string)"
   ]
  },
  {
   "cell_type": "code",
   "execution_count": 16,
   "id": "e3e665a0",
   "metadata": {},
   "outputs": [
    {
     "name": "stdout",
     "output_type": "stream",
     "text": [
      "'i' not in my_string True\n"
     ]
    }
   ],
   "source": [
    "my_string = \"Backend Python\"\n",
    "print(\"'i' not in my_string\", 'i' not in my_string)"
   ]
  },
  {
   "cell_type": "code",
   "execution_count": 17,
   "id": "e59ca079",
   "metadata": {},
   "outputs": [
    {
     "name": "stdout",
     "output_type": "stream",
     "text": [
      "5 not in my_list  False\n"
     ]
    }
   ],
   "source": [
    "my_list = [1, 154, 321, 22, 11, 5, 11, 22, 5, 1]\n",
    "print(\"5 not in my_list \",5 not in my_list)"
   ]
  },
  {
   "cell_type": "code",
   "execution_count": 18,
   "id": "3cbae105",
   "metadata": {},
   "outputs": [
    {
     "name": "stdout",
     "output_type": "stream",
     "text": [
      "5 not in my_set  False\n"
     ]
    }
   ],
   "source": [
    "my_set = {1, 154, 321, 22, 11, 5, 33, 4}\n",
    "print(\"5 not in my_set \",5 not in my_set)"
   ]
  },
  {
   "cell_type": "markdown",
   "id": "8cef1062",
   "metadata": {},
   "source": [
    "### Operadores de Identidad"
   ]
  },
  {
   "cell_type": "markdown",
   "id": "f2d3aa39",
   "metadata": {},
   "source": [
    "¿Qué son los operadores de identidad?\n",
    "- Son usados para comparar la ubicación en memoria de 2 objetos \n",
    "- Se utilizan para validar si los valores comparten el mismo espacio en memoria o no \n",
    "- Regresan True/Verdadero si lo comparten, y False/Falso si no lo comparten\n",
    "- Hay 2 operadores de identidad:\n",
    "    - IS\n",
    "    - IS NOT\n",
    "    "
   ]
  },
  {
   "cell_type": "code",
   "execution_count": null,
   "id": "514b0341",
   "metadata": {},
   "outputs": [],
   "source": [
    "# IS"
   ]
  },
  {
   "cell_type": "code",
   "execution_count": 19,
   "id": "62142905",
   "metadata": {},
   "outputs": [
    {
     "name": "stdout",
     "output_type": "stream",
     "text": [
      "num_1 is num_2 False\n"
     ]
    }
   ],
   "source": [
    "num_1 = 11\n",
    "num_2 = 55\n",
    "print(\"num_1 is num_2\", num_1 is num_2)"
   ]
  },
  {
   "cell_type": "code",
   "execution_count": 20,
   "id": "fed7cdd7",
   "metadata": {},
   "outputs": [
    {
     "name": "stdout",
     "output_type": "stream",
     "text": [
      "num_1 is num_2 True\n"
     ]
    }
   ],
   "source": [
    "num_1 = 77\n",
    "num_2 = 77\n",
    "print(\"num_1 is num_2\", num_1 is num_2)"
   ]
  },
  {
   "cell_type": "code",
   "execution_count": 21,
   "id": "dd0eecb5",
   "metadata": {},
   "outputs": [],
   "source": [
    "# IS NOT"
   ]
  },
  {
   "cell_type": "code",
   "execution_count": 22,
   "id": "409cf0bf",
   "metadata": {},
   "outputs": [
    {
     "name": "stdout",
     "output_type": "stream",
     "text": [
      "num_1 is not num_2 True\n"
     ]
    }
   ],
   "source": [
    "num_1 = 11\n",
    "num_2 = 55\n",
    "print(\"num_1 is not num_2\", num_1 is not num_2)"
   ]
  },
  {
   "cell_type": "code",
   "execution_count": 23,
   "id": "f721a5fd",
   "metadata": {},
   "outputs": [
    {
     "name": "stdout",
     "output_type": "stream",
     "text": [
      "num_1 is not num_2 False\n"
     ]
    }
   ],
   "source": [
    "num_1 = 77\n",
    "num_2 = 77\n",
    "print(\"num_1 is not num_2\", num_1 is not num_2)"
   ]
  },
  {
   "cell_type": "markdown",
   "id": "3bc70457",
   "metadata": {},
   "source": [
    "### Conversión de Tipos"
   ]
  },
  {
   "cell_type": "markdown",
   "id": "52b1a378",
   "metadata": {},
   "source": [
    "¿Qué es la conversión de tipos?\n",
    "- Es el proceso de conversión de un tipo de dato a otro tipo de dato\n",
    "- Es un paso muy importante para combinar múltiples fuentes de datos en un formato específico \n",
    "- Hay de 2 tipos:\n",
    "    - Conversión Implícita: hecha de forma automática por el intérprete de Python\n",
    "    - Conversión Explícita"
   ]
  },
  {
   "cell_type": "code",
   "execution_count": 24,
   "id": "d67ab05e",
   "metadata": {},
   "outputs": [],
   "source": [
    "# Conversión implícita "
   ]
  },
  {
   "cell_type": "code",
   "execution_count": 26,
   "id": "b4cae4f8",
   "metadata": {},
   "outputs": [
    {
     "data": {
      "text/plain": [
       "16.0"
      ]
     },
     "execution_count": 26,
     "metadata": {},
     "output_type": "execute_result"
    }
   ],
   "source": [
    "14+2.0 # pasa de int a float"
   ]
  },
  {
   "cell_type": "code",
   "execution_count": 27,
   "id": "bab01dd6",
   "metadata": {},
   "outputs": [
    {
     "data": {
      "text/plain": [
       "19.0"
      ]
     },
     "execution_count": 27,
     "metadata": {},
     "output_type": "execute_result"
    }
   ],
   "source": [
    "14 + 2.0 + 3"
   ]
  },
  {
   "cell_type": "code",
   "execution_count": 28,
   "id": "36dfe4c3",
   "metadata": {},
   "outputs": [],
   "source": [
    "# Conversión explícita"
   ]
  },
  {
   "cell_type": "code",
   "execution_count": 30,
   "id": "21c6fcf1",
   "metadata": {},
   "outputs": [
    {
     "data": {
      "text/plain": [
       "199"
      ]
     },
     "execution_count": 30,
     "metadata": {},
     "output_type": "execute_result"
    }
   ],
   "source": [
    "int(199.49) #convierte un float a un int"
   ]
  },
  {
   "cell_type": "code",
   "execution_count": 31,
   "id": "323ff352",
   "metadata": {},
   "outputs": [
    {
     "data": {
      "text/plain": [
       "59.0"
      ]
     },
     "execution_count": 31,
     "metadata": {},
     "output_type": "execute_result"
    }
   ],
   "source": [
    "float(59) #convierte de int a float"
   ]
  },
  {
   "cell_type": "code",
   "execution_count": 32,
   "id": "c03aace4",
   "metadata": {},
   "outputs": [
    {
     "data": {
      "text/plain": [
       "(4+0j)"
      ]
     },
     "execution_count": 32,
     "metadata": {},
     "output_type": "execute_result"
    }
   ],
   "source": [
    "complex(4)"
   ]
  },
  {
   "cell_type": "markdown",
   "id": "e41dac3a",
   "metadata": {},
   "source": [
    "### Conversión Int"
   ]
  },
  {
   "cell_type": "code",
   "execution_count": 33,
   "id": "cc9ba435",
   "metadata": {},
   "outputs": [
    {
     "data": {
      "text/plain": [
       "18"
      ]
     },
     "execution_count": 33,
     "metadata": {},
     "output_type": "execute_result"
    }
   ],
   "source": [
    "int(18.09) # float a int"
   ]
  },
  {
   "cell_type": "code",
   "execution_count": 34,
   "id": "a321b510",
   "metadata": {},
   "outputs": [
    {
     "data": {
      "text/plain": [
       "0"
      ]
     },
     "execution_count": 34,
     "metadata": {},
     "output_type": "execute_result"
    }
   ],
   "source": [
    "int(False) # bool a int"
   ]
  },
  {
   "cell_type": "code",
   "execution_count": 35,
   "id": "91c57496",
   "metadata": {},
   "outputs": [
    {
     "data": {
      "text/plain": [
       "1"
      ]
     },
     "execution_count": 35,
     "metadata": {},
     "output_type": "execute_result"
    }
   ],
   "source": [
    "int(True) # bool a int"
   ]
  },
  {
   "cell_type": "code",
   "execution_count": 36,
   "id": "b385ec92",
   "metadata": {},
   "outputs": [
    {
     "ename": "TypeError",
     "evalue": "int() argument must be a string, a bytes-like object or a real number, not 'complex'",
     "output_type": "error",
     "traceback": [
      "\u001b[1;31m---------------------------------------------------------------------------\u001b[0m",
      "\u001b[1;31mTypeError\u001b[0m                                 Traceback (most recent call last)",
      "Input \u001b[1;32mIn [36]\u001b[0m, in \u001b[0;36m<module>\u001b[1;34m\u001b[0m\n\u001b[0;32m      1\u001b[0m \u001b[38;5;66;03m#error\u001b[39;00m\n\u001b[1;32m----> 2\u001b[0m \u001b[38;5;28;43mint\u001b[39;49m\u001b[43m(\u001b[49m\u001b[38;5;241;43m3\u001b[39;49m\u001b[38;5;241;43m+\u001b[39;49m\u001b[38;5;241;43m5\u001b[39;49m\u001b[43mj\u001b[49m\u001b[43m)\u001b[49m\n",
      "\u001b[1;31mTypeError\u001b[0m: int() argument must be a string, a bytes-like object or a real number, not 'complex'"
     ]
    }
   ],
   "source": [
    "#error\n",
    "int(3+5j) # complex a int"
   ]
  },
  {
   "cell_type": "code",
   "execution_count": 37,
   "id": "90aef84d",
   "metadata": {},
   "outputs": [
    {
     "data": {
      "text/plain": [
       "120"
      ]
     },
     "execution_count": 37,
     "metadata": {},
     "output_type": "execute_result"
    }
   ],
   "source": [
    "int(\"120\") # string a int siempre y cuando la cadena sea un numero"
   ]
  },
  {
   "cell_type": "code",
   "execution_count": 38,
   "id": "47d7449d",
   "metadata": {},
   "outputs": [
    {
     "ename": "ValueError",
     "evalue": "invalid literal for int() with base 10: '120.5'",
     "output_type": "error",
     "traceback": [
      "\u001b[1;31m---------------------------------------------------------------------------\u001b[0m",
      "\u001b[1;31mValueError\u001b[0m                                Traceback (most recent call last)",
      "Input \u001b[1;32mIn [38]\u001b[0m, in \u001b[0;36m<module>\u001b[1;34m\u001b[0m\n\u001b[0;32m      1\u001b[0m \u001b[38;5;66;03m# error\u001b[39;00m\n\u001b[1;32m----> 2\u001b[0m \u001b[38;5;28;43mint\u001b[39;49m\u001b[43m(\u001b[49m\u001b[38;5;124;43m\"\u001b[39;49m\u001b[38;5;124;43m120.5\u001b[39;49m\u001b[38;5;124;43m\"\u001b[39;49m\u001b[43m)\u001b[49m\n",
      "\u001b[1;31mValueError\u001b[0m: invalid literal for int() with base 10: '120.5'"
     ]
    }
   ],
   "source": [
    "# error\n",
    "int(\"120.5\") # string a int"
   ]
  },
  {
   "cell_type": "markdown",
   "id": "10788a88",
   "metadata": {},
   "source": [
    "### Conversión float"
   ]
  },
  {
   "cell_type": "code",
   "execution_count": 41,
   "id": "91358aaa",
   "metadata": {},
   "outputs": [
    {
     "data": {
      "text/plain": [
       "23.0"
      ]
     },
     "execution_count": 41,
     "metadata": {},
     "output_type": "execute_result"
    }
   ],
   "source": [
    "float(23) # int a float"
   ]
  },
  {
   "cell_type": "code",
   "execution_count": 40,
   "id": "d05d6529",
   "metadata": {},
   "outputs": [
    {
     "ename": "TypeError",
     "evalue": "float() argument must be a string or a real number, not 'complex'",
     "output_type": "error",
     "traceback": [
      "\u001b[1;31m---------------------------------------------------------------------------\u001b[0m",
      "\u001b[1;31mTypeError\u001b[0m                                 Traceback (most recent call last)",
      "Input \u001b[1;32mIn [40]\u001b[0m, in \u001b[0;36m<module>\u001b[1;34m\u001b[0m\n\u001b[0;32m      1\u001b[0m \u001b[38;5;66;03m#error \u001b[39;00m\n\u001b[1;32m----> 2\u001b[0m \u001b[38;5;28;43mfloat\u001b[39;49m\u001b[43m(\u001b[49m\u001b[38;5;241;43m3\u001b[39;49m\u001b[38;5;241;43m+\u001b[39;49m\u001b[38;5;241;43m5\u001b[39;49m\u001b[43mj\u001b[49m\u001b[43m)\u001b[49m\n",
      "\u001b[1;31mTypeError\u001b[0m: float() argument must be a string or a real number, not 'complex'"
     ]
    }
   ],
   "source": [
    "#error \n",
    "float(3+5j) # complex a float\n"
   ]
  },
  {
   "cell_type": "code",
   "execution_count": 42,
   "id": "120ee671",
   "metadata": {},
   "outputs": [
    {
     "data": {
      "text/plain": [
       "1.0"
      ]
     },
     "execution_count": 42,
     "metadata": {},
     "output_type": "execute_result"
    }
   ],
   "source": [
    "float(True) # bool a float"
   ]
  },
  {
   "cell_type": "code",
   "execution_count": 43,
   "id": "88990b39",
   "metadata": {},
   "outputs": [
    {
     "data": {
      "text/plain": [
       "0.0"
      ]
     },
     "execution_count": 43,
     "metadata": {},
     "output_type": "execute_result"
    }
   ],
   "source": [
    "float(False) # bool a float"
   ]
  },
  {
   "cell_type": "code",
   "execution_count": 44,
   "id": "a09ec697",
   "metadata": {},
   "outputs": [
    {
     "data": {
      "text/plain": [
       "829.99"
      ]
     },
     "execution_count": 44,
     "metadata": {},
     "output_type": "execute_result"
    }
   ],
   "source": [
    "float(\"829.99\") # string a float"
   ]
  },
  {
   "cell_type": "code",
   "execution_count": 45,
   "id": "ec30463a",
   "metadata": {},
   "outputs": [
    {
     "data": {
      "text/plain": [
       "829.0"
      ]
     },
     "execution_count": 45,
     "metadata": {},
     "output_type": "execute_result"
    }
   ],
   "source": [
    "float(\"829\") # string a float"
   ]
  },
  {
   "cell_type": "code",
   "execution_count": 46,
   "id": "5b61e2b3",
   "metadata": {},
   "outputs": [
    {
     "ename": "ValueError",
     "evalue": "could not convert string to float: '829t'",
     "output_type": "error",
     "traceback": [
      "\u001b[1;31m---------------------------------------------------------------------------\u001b[0m",
      "\u001b[1;31mValueError\u001b[0m                                Traceback (most recent call last)",
      "Input \u001b[1;32mIn [46]\u001b[0m, in \u001b[0;36m<module>\u001b[1;34m\u001b[0m\n\u001b[0;32m      1\u001b[0m \u001b[38;5;66;03m# error\u001b[39;00m\n\u001b[1;32m----> 2\u001b[0m \u001b[38;5;28;43mfloat\u001b[39;49m\u001b[43m(\u001b[49m\u001b[38;5;124;43m\"\u001b[39;49m\u001b[38;5;124;43m829t\u001b[39;49m\u001b[38;5;124;43m\"\u001b[39;49m\u001b[43m)\u001b[49m\n",
      "\u001b[1;31mValueError\u001b[0m: could not convert string to float: '829t'"
     ]
    }
   ],
   "source": [
    "# error\n",
    "float(\"829t\") # string a float"
   ]
  },
  {
   "cell_type": "code",
   "execution_count": 47,
   "id": "ae89f6a0",
   "metadata": {},
   "outputs": [
    {
     "ename": "ValueError",
     "evalue": "could not convert string to float: 'True'",
     "output_type": "error",
     "traceback": [
      "\u001b[1;31m---------------------------------------------------------------------------\u001b[0m",
      "\u001b[1;31mValueError\u001b[0m                                Traceback (most recent call last)",
      "Input \u001b[1;32mIn [47]\u001b[0m, in \u001b[0;36m<module>\u001b[1;34m\u001b[0m\n\u001b[0;32m      1\u001b[0m \u001b[38;5;66;03m# error\u001b[39;00m\n\u001b[1;32m----> 2\u001b[0m \u001b[38;5;28;43mfloat\u001b[39;49m\u001b[43m(\u001b[49m\u001b[38;5;124;43m\"\u001b[39;49m\u001b[38;5;124;43mTrue\u001b[39;49m\u001b[38;5;124;43m\"\u001b[39;49m\u001b[43m)\u001b[49m\n",
      "\u001b[1;31mValueError\u001b[0m: could not convert string to float: 'True'"
     ]
    }
   ],
   "source": [
    "# error\n",
    "float(\"True\") # string a float"
   ]
  },
  {
   "cell_type": "markdown",
   "id": "55df501e",
   "metadata": {},
   "source": [
    "### Conversiones Complex"
   ]
  },
  {
   "cell_type": "code",
   "execution_count": 48,
   "id": "cb5f9c11",
   "metadata": {},
   "outputs": [
    {
     "data": {
      "text/plain": [
       "(34+0j)"
      ]
     },
     "execution_count": 48,
     "metadata": {},
     "output_type": "execute_result"
    }
   ],
   "source": [
    "complex(34) # int a complex"
   ]
  },
  {
   "cell_type": "code",
   "execution_count": 49,
   "id": "69442187",
   "metadata": {},
   "outputs": [
    {
     "data": {
      "text/plain": [
       "(40.2+0j)"
      ]
     },
     "execution_count": 49,
     "metadata": {},
     "output_type": "execute_result"
    }
   ],
   "source": [
    "complex(40.2) # float a complex"
   ]
  },
  {
   "cell_type": "code",
   "execution_count": 50,
   "id": "f32e7d6e",
   "metadata": {},
   "outputs": [
    {
     "data": {
      "text/plain": [
       "(1+0j)"
      ]
     },
     "execution_count": 50,
     "metadata": {},
     "output_type": "execute_result"
    }
   ],
   "source": [
    "complex(True) # bool a complex"
   ]
  },
  {
   "cell_type": "code",
   "execution_count": 51,
   "id": "9e8ce31f",
   "metadata": {},
   "outputs": [
    {
     "data": {
      "text/plain": [
       "0j"
      ]
     },
     "execution_count": 51,
     "metadata": {},
     "output_type": "execute_result"
    }
   ],
   "source": [
    "complex(False) # bool a complex"
   ]
  },
  {
   "cell_type": "code",
   "execution_count": 52,
   "id": "6331ff83",
   "metadata": {},
   "outputs": [
    {
     "data": {
      "text/plain": [
       "(24+0j)"
      ]
     },
     "execution_count": 52,
     "metadata": {},
     "output_type": "execute_result"
    }
   ],
   "source": [
    "complex(\"24\") # string a complex"
   ]
  },
  {
   "cell_type": "code",
   "execution_count": 53,
   "id": "fae80761",
   "metadata": {},
   "outputs": [
    {
     "data": {
      "text/plain": [
       "(24.87+0j)"
      ]
     },
     "execution_count": 53,
     "metadata": {},
     "output_type": "execute_result"
    }
   ],
   "source": [
    "complex(\"24.87\") # string a complex"
   ]
  },
  {
   "cell_type": "code",
   "execution_count": 58,
   "id": "eb1a875f",
   "metadata": {},
   "outputs": [
    {
     "ename": "ValueError",
     "evalue": "complex() arg is a malformed string",
     "output_type": "error",
     "traceback": [
      "\u001b[1;31m---------------------------------------------------------------------------\u001b[0m",
      "\u001b[1;31mValueError\u001b[0m                                Traceback (most recent call last)",
      "Input \u001b[1;32mIn [58]\u001b[0m, in \u001b[0;36m<module>\u001b[1;34m\u001b[0m\n\u001b[0;32m      1\u001b[0m \u001b[38;5;66;03m# error \u001b[39;00m\n\u001b[1;32m----> 2\u001b[0m \u001b[38;5;28;43mcomplex\u001b[39;49m\u001b[43m(\u001b[49m\u001b[38;5;124;43m\"\u001b[39;49m\u001b[38;5;124;43mBackend\u001b[39;49m\u001b[38;5;124;43m\"\u001b[39;49m\u001b[43m)\u001b[49m\n",
      "\u001b[1;31mValueError\u001b[0m: complex() arg is a malformed string"
     ]
    }
   ],
   "source": [
    "# error \n",
    "complex(\"Backend\") # string a complex"
   ]
  },
  {
   "cell_type": "code",
   "execution_count": 57,
   "id": "6465346f",
   "metadata": {},
   "outputs": [
    {
     "ename": "ValueError",
     "evalue": "complex() arg is a malformed string",
     "output_type": "error",
     "traceback": [
      "\u001b[1;31m---------------------------------------------------------------------------\u001b[0m",
      "\u001b[1;31mValueError\u001b[0m                                Traceback (most recent call last)",
      "Input \u001b[1;32mIn [57]\u001b[0m, in \u001b[0;36m<module>\u001b[1;34m\u001b[0m\n\u001b[0;32m      1\u001b[0m \u001b[38;5;66;03m# error \u001b[39;00m\n\u001b[1;32m----> 2\u001b[0m \u001b[38;5;28;43mcomplex\u001b[39;49m\u001b[43m(\u001b[49m\u001b[38;5;124;43m\"\u001b[39;49m\u001b[38;5;124;43m10f\u001b[39;49m\u001b[38;5;124;43m\"\u001b[39;49m\u001b[43m)\u001b[49m\n",
      "\u001b[1;31mValueError\u001b[0m: complex() arg is a malformed string"
     ]
    }
   ],
   "source": [
    "# error \n",
    "complex(\"10f\") # string a complex"
   ]
  },
  {
   "cell_type": "code",
   "execution_count": 59,
   "id": "d9d16508",
   "metadata": {},
   "outputs": [
    {
     "data": {
      "text/plain": [
       "10j"
      ]
     },
     "execution_count": 59,
     "metadata": {},
     "output_type": "execute_result"
    }
   ],
   "source": [
    "complex(\"10j\") # string a complex"
   ]
  },
  {
   "cell_type": "markdown",
   "id": "c5ae14da",
   "metadata": {},
   "source": [
    "### Conversiones Bool"
   ]
  },
  {
   "cell_type": "code",
   "execution_count": 60,
   "id": "e19325db",
   "metadata": {},
   "outputs": [
    {
     "data": {
      "text/plain": [
       "True"
      ]
     },
     "execution_count": 60,
     "metadata": {},
     "output_type": "execute_result"
    }
   ],
   "source": [
    "bool(3) # int a bool"
   ]
  },
  {
   "cell_type": "code",
   "execution_count": 61,
   "id": "922123a6",
   "metadata": {},
   "outputs": [
    {
     "data": {
      "text/plain": [
       "False"
      ]
     },
     "execution_count": 61,
     "metadata": {},
     "output_type": "execute_result"
    }
   ],
   "source": [
    "bool(0) # int a bool"
   ]
  },
  {
   "cell_type": "code",
   "execution_count": 62,
   "id": "5379270b",
   "metadata": {},
   "outputs": [
    {
     "data": {
      "text/plain": [
       "True"
      ]
     },
     "execution_count": 62,
     "metadata": {},
     "output_type": "execute_result"
    }
   ],
   "source": [
    "bool(3.5) # float a bool"
   ]
  },
  {
   "cell_type": "code",
   "execution_count": 63,
   "id": "c6084487",
   "metadata": {},
   "outputs": [
    {
     "data": {
      "text/plain": [
       "True"
      ]
     },
     "execution_count": 63,
     "metadata": {},
     "output_type": "execute_result"
    }
   ],
   "source": [
    "bool(-3.5) # float a bool"
   ]
  },
  {
   "cell_type": "code",
   "execution_count": 64,
   "id": "ca1a11f0",
   "metadata": {},
   "outputs": [
    {
     "data": {
      "text/plain": [
       "False"
      ]
     },
     "execution_count": 64,
     "metadata": {},
     "output_type": "execute_result"
    }
   ],
   "source": [
    "bool(0.0) # float a bool"
   ]
  },
  {
   "cell_type": "code",
   "execution_count": 65,
   "id": "042911b4",
   "metadata": {},
   "outputs": [
    {
     "data": {
      "text/plain": [
       "True"
      ]
     },
     "execution_count": 65,
     "metadata": {},
     "output_type": "execute_result"
    }
   ],
   "source": [
    "bool(0+3j) # complex a bool"
   ]
  },
  {
   "cell_type": "code",
   "execution_count": 66,
   "id": "45a144c2",
   "metadata": {},
   "outputs": [
    {
     "data": {
      "text/plain": [
       "False"
      ]
     },
     "execution_count": 66,
     "metadata": {},
     "output_type": "execute_result"
    }
   ],
   "source": [
    "bool(0+0j) # complex a bool"
   ]
  },
  {
   "cell_type": "code",
   "execution_count": 67,
   "id": "bd53085a",
   "metadata": {},
   "outputs": [
    {
     "data": {
      "text/plain": [
       "True"
      ]
     },
     "execution_count": 67,
     "metadata": {},
     "output_type": "execute_result"
    }
   ],
   "source": [
    "bool(\"python\") # string a bool"
   ]
  },
  {
   "cell_type": "code",
   "execution_count": 68,
   "id": "c5b521b7",
   "metadata": {},
   "outputs": [
    {
     "data": {
      "text/plain": [
       "True"
      ]
     },
     "execution_count": 68,
     "metadata": {},
     "output_type": "execute_result"
    }
   ],
   "source": [
    "bool(\" \") # string a bool"
   ]
  },
  {
   "cell_type": "code",
   "execution_count": 69,
   "id": "90b04316",
   "metadata": {},
   "outputs": [
    {
     "data": {
      "text/plain": [
       "False"
      ]
     },
     "execution_count": 69,
     "metadata": {},
     "output_type": "execute_result"
    }
   ],
   "source": [
    "bool(\"\") # string a bool"
   ]
  },
  {
   "cell_type": "code",
   "execution_count": 70,
   "id": "3ed600d8",
   "metadata": {},
   "outputs": [
    {
     "data": {
      "text/plain": [
       "True"
      ]
     },
     "execution_count": 70,
     "metadata": {},
     "output_type": "execute_result"
    }
   ],
   "source": [
    "bool(\"0\") # string a bool"
   ]
  },
  {
   "cell_type": "markdown",
   "id": "14604f08",
   "metadata": {},
   "source": [
    "### Conversiones str"
   ]
  },
  {
   "cell_type": "code",
   "execution_count": 71,
   "id": "aaf2dfee",
   "metadata": {},
   "outputs": [
    {
     "data": {
      "text/plain": [
       "'25'"
      ]
     },
     "execution_count": 71,
     "metadata": {},
     "output_type": "execute_result"
    }
   ],
   "source": [
    "str(25) # int a str"
   ]
  },
  {
   "cell_type": "code",
   "execution_count": 72,
   "id": "c33c80e6",
   "metadata": {},
   "outputs": [
    {
     "data": {
      "text/plain": [
       "'3.5'"
      ]
     },
     "execution_count": 72,
     "metadata": {},
     "output_type": "execute_result"
    }
   ],
   "source": [
    "str(3.5) # float a str"
   ]
  },
  {
   "cell_type": "code",
   "execution_count": 73,
   "id": "df7d3eb9",
   "metadata": {},
   "outputs": [
    {
     "data": {
      "text/plain": [
       "'(7+6j)'"
      ]
     },
     "execution_count": 73,
     "metadata": {},
     "output_type": "execute_result"
    }
   ],
   "source": [
    "str(7+6j) # complex a str"
   ]
  },
  {
   "cell_type": "code",
   "execution_count": 74,
   "id": "05fc9ab3",
   "metadata": {},
   "outputs": [
    {
     "data": {
      "text/plain": [
       "'True'"
      ]
     },
     "execution_count": 74,
     "metadata": {},
     "output_type": "execute_result"
    }
   ],
   "source": [
    "str(True) # bool a str"
   ]
  },
  {
   "cell_type": "markdown",
   "id": "82ba1124",
   "metadata": {},
   "source": [
    "### Funciones Básicas"
   ]
  },
  {
   "cell_type": "markdown",
   "id": "b0e37d3f",
   "metadata": {},
   "source": [
    "#### trunc()"
   ]
  },
  {
   "cell_type": "code",
   "execution_count": 1,
   "id": "9d52d505",
   "metadata": {},
   "outputs": [
    {
     "name": "stdout",
     "output_type": "stream",
     "text": [
      "num_1:  64.99\n",
      "num_2:  64.5\n",
      "num_3:  64.51\n",
      "num_4:  64.000001\n"
     ]
    }
   ],
   "source": [
    "num_1 = 64.99\n",
    "num_2 = 64.5\n",
    "num_3 = 64.51\n",
    "num_4 = 64.000001\n",
    "print(\"num_1: \",num_1)\n",
    "print(\"num_2: \",num_2)\n",
    "print(\"num_3: \",num_3)\n",
    "print(\"num_4: \",num_4)"
   ]
  },
  {
   "cell_type": "code",
   "execution_count": 2,
   "id": "f7d67130",
   "metadata": {},
   "outputs": [
    {
     "name": "stdout",
     "output_type": "stream",
     "text": [
      "trunc(num_1):  64\n",
      "trunc(num_2):  64\n",
      "trunc(num_3):  64\n",
      "trunc(num_4):  64\n"
     ]
    }
   ],
   "source": [
    "from math import trunc\n",
    "num_1 = 64.99\n",
    "num_2 = 64.5\n",
    "num_3 = 64.51\n",
    "num_4 = 64.000001\n",
    "print(\"trunc(num_1): \",trunc(num_1))\n",
    "print(\"trunc(num_2): \",trunc(num_2))\n",
    "print(\"trunc(num_3): \",trunc(num_3))\n",
    "print(\"trunc(num_4): \",trunc(num_4))"
   ]
  },
  {
   "cell_type": "markdown",
   "id": "e40e5130",
   "metadata": {},
   "source": [
    "#### round(), ceil() y floor()"
   ]
  },
  {
   "cell_type": "code",
   "execution_count": 3,
   "id": "f0e2df7f",
   "metadata": {},
   "outputs": [
    {
     "name": "stdout",
     "output_type": "stream",
     "text": [
      "round(num_1):  65\n",
      "round(num_2):  64\n",
      "round(num_3):  65\n",
      "round(num_4):  64\n"
     ]
    }
   ],
   "source": [
    "# round\n",
    "num_1 = 64.99\n",
    "num_2 = 64.5\n",
    "num_3 = 64.51\n",
    "num_4 = 64.000001\n",
    "print(\"round(num_1): \",round(num_1))\n",
    "print(\"round(num_2): \",round(num_2))\n",
    "print(\"round(num_3): \",round(num_3))\n",
    "print(\"round(num_4): \",round(num_4))"
   ]
  },
  {
   "cell_type": "code",
   "execution_count": 4,
   "id": "ebfe10e4",
   "metadata": {},
   "outputs": [
    {
     "name": "stdout",
     "output_type": "stream",
     "text": [
      "ceil(num_1):  65\n",
      "ceil(num_2):  65\n",
      "ceil(num_3):  65\n",
      "ceil(num_4):  65\n"
     ]
    }
   ],
   "source": [
    "# ceil - redondeo hacia arriba\n",
    "from math import ceil\n",
    "num_1 = 64.99\n",
    "num_2 = 64.5\n",
    "num_3 = 64.51\n",
    "num_4 = 64.000001\n",
    "print(\"ceil(num_1): \",ceil(num_1))\n",
    "print(\"ceil(num_2): \",ceil(num_2))\n",
    "print(\"ceil(num_3): \",ceil(num_3))\n",
    "print(\"ceil(num_4): \",ceil(num_4))"
   ]
  },
  {
   "cell_type": "code",
   "execution_count": 5,
   "id": "fabf6e6f",
   "metadata": {},
   "outputs": [
    {
     "name": "stdout",
     "output_type": "stream",
     "text": [
      "floor(num_1):  64\n",
      "floor(num_2):  64\n",
      "floor(num_3):  64\n",
      "floor(num_4):  64\n"
     ]
    }
   ],
   "source": [
    "# floor - redondeo hacia abajo\n",
    "from math import floor\n",
    "num_1 = 64.99\n",
    "num_2 = 64.5\n",
    "num_3 = 64.51\n",
    "num_4 = 64.000001\n",
    "print(\"floor(num_1): \",floor(num_1))\n",
    "print(\"floor(num_2): \",floor(num_2))\n",
    "print(\"floor(num_3): \",floor(num_3))\n",
    "print(\"floor(num_4): \",floor(num_4))"
   ]
  },
  {
   "cell_type": "markdown",
   "id": "963f10c9",
   "metadata": {},
   "source": [
    "### Función %"
   ]
  },
  {
   "cell_type": "code",
   "execution_count": 6,
   "id": "9f395725",
   "metadata": {},
   "outputs": [
    {
     "name": "stdout",
     "output_type": "stream",
     "text": [
      "'%.2f' % num_1:  64.99\n",
      "'%.3f' % num_2:  64.500\n",
      "'%.4f' % num_3:  64.5100\n",
      "'%.5f' % num_4:  64.00000\n"
     ]
    }
   ],
   "source": [
    "num_1 = 64.99\n",
    "num_2 = 64.5\n",
    "num_3 = 64.51\n",
    "num_4 = 64.000001\n",
    "print(\"'%.2f' % num_1: \",'%.2f' % num_1)\n",
    "print(\"'%.3f' % num_2: \",'%.3f' % num_2)\n",
    "print(\"'%.4f' % num_3: \",'%.4f' % num_3)\n",
    "print(\"'%.5f' % num_4: \",'%.5f' % num_4)"
   ]
  },
  {
   "cell_type": "markdown",
   "id": "f8110e0e",
   "metadata": {},
   "source": [
    "#### format()"
   ]
  },
  {
   "cell_type": "code",
   "execution_count": 8,
   "id": "1656d5bf",
   "metadata": {},
   "outputs": [
    {
     "name": "stdout",
     "output_type": "stream",
     "text": [
      "'{:.2f}'.format(num_1):  64.99\n",
      "'{:.3f}'.format(num_2):  64.500\n",
      "'{:.4f}'.format(num_3):  64.5100\n",
      "'{:.5f}'.format(num_4):  64.00000\n"
     ]
    }
   ],
   "source": [
    "num_1 = 64.99\n",
    "num_2 = 64.5\n",
    "num_3 = 64.51\n",
    "num_4 = 64.000001\n",
    "print(\"'{:.2f}'.format(num_1): \",'{:.2f}'.format(num_1))\n",
    "print(\"'{:.3f}'.format(num_2): \",'{:.3f}'.format(num_2))\n",
    "print(\"'{:.4f}'.format(num_3): \",'{:.4f}'.format(num_3))\n",
    "print(\"'{:.5f}'.format(num_4): \",'{:.5f}'.format(num_4))"
   ]
  },
  {
   "cell_type": "code",
   "execution_count": null,
   "id": "f96b3d9d",
   "metadata": {},
   "outputs": [],
   "source": []
  }
 ],
 "metadata": {
  "kernelspec": {
   "display_name": "Python 3 (ipykernel)",
   "language": "python",
   "name": "python3"
  },
  "language_info": {
   "codemirror_mode": {
    "name": "ipython",
    "version": 3
   },
   "file_extension": ".py",
   "mimetype": "text/x-python",
   "name": "python",
   "nbconvert_exporter": "python",
   "pygments_lexer": "ipython3",
   "version": "3.10.2"
  }
 },
 "nbformat": 4,
 "nbformat_minor": 5
}
