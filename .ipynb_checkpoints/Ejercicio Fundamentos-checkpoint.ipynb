{
 "cells": [
  {
   "cell_type": "markdown",
   "id": "59ec377b",
   "metadata": {},
   "source": [
    "# Ejercicio Fundamentos"
   ]
  },
  {
   "cell_type": "code",
   "execution_count": 1,
   "id": "efb1b233",
   "metadata": {},
   "outputs": [],
   "source": [
    "# Crea un Jupyter Notebook para el ejercicio y escribe un programa pidiéndole al usuario un entero, un float y una cadena."
   ]
  },
  {
   "cell_type": "code",
   "execution_count": 7,
   "id": "d07a968b",
   "metadata": {},
   "outputs": [
    {
     "name": "stdout",
     "output_type": "stream",
     "text": [
      "Dame un número entero 50\n",
      "Dame un número con decimal 3.5\n",
      "Dame tu nombre fla\n",
      "Hola, fla el número entero que me diste es: 50 y el número decimal es: 3.5\n",
      "<class 'int'>\n",
      "<class 'float'>\n",
      "<class 'str'>\n"
     ]
    }
   ],
   "source": [
    "a = int(input(\"Dame un número entero \"))\n",
    "b = float(input(\"Dame un número con decimal \"))\n",
    "c = input(\"Dame tu nombre \")\n",
    "print(\"Hola,\", c, \"el número entero que me diste es:\", a, \"y el número decimal es:\", b)\n",
    "print(type(a))\n",
    "print(type(b))\n",
    "print(type(c))"
   ]
  },
  {
   "cell_type": "code",
   "execution_count": 4,
   "id": "e053e1d0",
   "metadata": {},
   "outputs": [
    {
     "name": "stdout",
     "output_type": "stream",
     "text": [
      "Ingresa tu nombre: Flavio\n",
      "Ingresa el semestre en el que te encuentras: 4\n",
      "Ingresa tu promedio del semestre anterior: 9.8\n",
      "Buenas tardes almuno/a: Flavio tu semestre es el 4 y el promedio de tu semestre anterior es de: 9.8\n"
     ]
    }
   ],
   "source": [
    "#Se me ocurrió este ejercicio puesto para usar en una escuela\n",
    "nombre_alumno = input(\"Ingresa tu nombre: \")\n",
    "num_semestre = int(input(\"Ingresa el semestre en el que te encuentras: \"))\n",
    "promedio_alumno = float(input(\"Ingresa tu promedio del semestre anterior: \"))\n",
    "print(\"Buenas tardes almuno/a:\", nombre_alumno, \"tu semestre es el\", num_semestre, \"y el promedio de tu semestre anterior es de:\", promedio_alumno)"
   ]
  },
  {
   "cell_type": "code",
   "execution_count": null,
   "id": "b668343b",
   "metadata": {},
   "outputs": [],
   "source": []
  }
 ],
 "metadata": {
  "kernelspec": {
   "display_name": "Python 3 (ipykernel)",
   "language": "python",
   "name": "python3"
  },
  "language_info": {
   "codemirror_mode": {
    "name": "ipython",
    "version": 3
   },
   "file_extension": ".py",
   "mimetype": "text/x-python",
   "name": "python",
   "nbconvert_exporter": "python",
   "pygments_lexer": "ipython3",
   "version": "3.10.2"
  }
 },
 "nbformat": 4,
 "nbformat_minor": 5
}
