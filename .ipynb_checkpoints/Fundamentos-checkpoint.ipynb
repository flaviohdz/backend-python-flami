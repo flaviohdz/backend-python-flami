{
 "cells": [
  {
   "cell_type": "markdown",
   "id": "435b9115",
   "metadata": {},
   "source": [
    "# Python distingue entre mayúsculas y minúsculas"
   ]
  },
  {
   "cell_type": "code",
   "execution_count": 2,
   "id": "e488ef70",
   "metadata": {},
   "outputs": [
    {
     "name": "stdout",
     "output_type": "stream",
     "text": [
      "el curso es:  backend Python\n"
     ]
    }
   ],
   "source": [
    "A = \"backend Python\"\n",
    "print(\"El curso es:\",A)"
   ]
  },
  {
   "cell_type": "markdown",
   "id": "679f4f63",
   "metadata": {},
   "source": [
    "# Palabras reservadas"
   ]
  },
  {
   "cell_type": "code",
   "execution_count": 3,
   "id": "eb0e67bd",
   "metadata": {},
   "outputs": [
    {
     "name": "stdout",
     "output_type": "stream",
     "text": [
      "\n",
      "Here is a list of the Python keywords.  Enter any keyword to get more help.\n",
      "\n",
      "False               class               from                or\n",
      "None                continue            global              pass\n",
      "True                def                 if                  raise\n",
      "and                 del                 import              return\n",
      "as                  elif                in                  try\n",
      "assert              else                is                  while\n",
      "async               except              lambda              with\n",
      "await               finally             nonlocal            yield\n",
      "break               for                 not                 \n",
      "\n"
     ]
    }
   ],
   "source": [
    "help(\"keywords\")"
   ]
  },
  {
   "cell_type": "markdown",
   "id": "bb748ce8",
   "metadata": {},
   "source": [
    "# Caracteres de escape en python"
   ]
  },
  {
   "cell_type": "code",
   "execution_count": 4,
   "id": "343442a2",
   "metadata": {},
   "outputs": [
    {
     "data": {
      "text/plain": [
       "\"'\""
      ]
     },
     "execution_count": 4,
     "metadata": {},
     "output_type": "execute_result"
    }
   ],
   "source": [
    "'\\'' # Single quote / comilla sencilla"
   ]
  },
  {
   "cell_type": "code",
   "execution_count": 5,
   "id": "d24e7d08",
   "metadata": {},
   "outputs": [
    {
     "data": {
      "text/plain": [
       "'\"'"
      ]
     },
     "execution_count": 5,
     "metadata": {},
     "output_type": "execute_result"
    }
   ],
   "source": [
    "\"\\\"\" #Double quote / comilla doble"
   ]
  },
  {
   "cell_type": "code",
   "execution_count": null,
   "id": "9f321745",
   "metadata": {},
   "outputs": [],
   "source": [
    "'\\n' #New line / salto de línea "
   ]
  },
  {
   "cell_type": "code",
   "execution_count": 6,
   "id": "51736203",
   "metadata": {},
   "outputs": [
    {
     "name": "stdout",
     "output_type": "stream",
     "text": [
      "Backend Python de EBAC\n"
     ]
    }
   ],
   "source": [
    "my_curse = \"Backend Python de EBAC\"\n",
    "print (my_curse)"
   ]
  },
  {
   "cell_type": "code",
   "execution_count": 8,
   "id": "5493fb5f",
   "metadata": {},
   "outputs": [
    {
     "name": "stdout",
     "output_type": "stream",
     "text": [
      "Backend Python\n",
      "de EBAC\n"
     ]
    }
   ],
   "source": [
    "my_curse = \"Backend Python\\nde EBAC\"\n",
    "print (my_curse)"
   ]
  },
  {
   "cell_type": "code",
   "execution_count": 9,
   "id": "8f0d286e",
   "metadata": {},
   "outputs": [
    {
     "name": "stdout",
     "output_type": "stream",
     "text": [
      "Backend\n",
      "Python\n",
      "de\n",
      "EBAC\n"
     ]
    }
   ],
   "source": [
    "my_curse = \"Backend\\nPython\\nde\\nEBAC\"\n",
    "print (my_curse)"
   ]
  },
  {
   "cell_type": "code",
   "execution_count": null,
   "id": "4645b7da",
   "metadata": {},
   "outputs": [],
   "source": [
    "'\\t' #tab"
   ]
  },
  {
   "cell_type": "code",
   "execution_count": 12,
   "id": "fb6f8fce",
   "metadata": {},
   "outputs": [
    {
     "name": "stdout",
     "output_type": "stream",
     "text": [
      "Backend Python de EBAC\n"
     ]
    }
   ],
   "source": [
    "my_curse = \"Backend Python de EBAC\"\n",
    "print (my_curse)"
   ]
  },
  {
   "cell_type": "code",
   "execution_count": 13,
   "id": "65c87d40",
   "metadata": {},
   "outputs": [
    {
     "name": "stdout",
     "output_type": "stream",
     "text": [
      "Backend Python\tde EBAC\n"
     ]
    }
   ],
   "source": [
    "my_curse = \"Backend Python\\tde EBAC\"\n",
    "print (my_curse)"
   ]
  },
  {
   "cell_type": "code",
   "execution_count": 14,
   "id": "4da5d2f3",
   "metadata": {},
   "outputs": [
    {
     "name": "stdout",
     "output_type": "stream",
     "text": [
      "Backend\tPython\tde\tEBAC\n"
     ]
    }
   ],
   "source": [
    "my_curse = \"Backend\\tPython\\tde\\tEBAC\"\n",
    "print (my_curse)"
   ]
  },
  {
   "cell_type": "code",
   "execution_count": 15,
   "id": "32efa877",
   "metadata": {},
   "outputs": [
    {
     "data": {
      "text/plain": [
       "'\\r'"
      ]
     },
     "execution_count": 15,
     "metadata": {},
     "output_type": "execute_result"
    }
   ],
   "source": [
    "'\\r' #Carriage return / retorno de carro"
   ]
  },
  {
   "cell_type": "code",
   "execution_count": 17,
   "id": "5240d5e8",
   "metadata": {},
   "outputs": [
    {
     "name": "stdout",
     "output_type": "stream",
     "text": [
      "Backend Python de EBAC\n"
     ]
    }
   ],
   "source": [
    "my_curse = \"Backend Python de EBAC\"\n",
    "print (my_curse)"
   ]
  },
  {
   "cell_type": "code",
   "execution_count": 18,
   "id": "6c3e6117",
   "metadata": {},
   "outputs": [
    {
     "name": "stdout",
     "output_type": "stream",
     "text": [
      "Backend\r",
      "Python de EBAC\n"
     ]
    }
   ],
   "source": [
    "my_curse = \"Backend\\rPython de EBAC\"\n",
    "print (my_curse)"
   ]
  },
  {
   "cell_type": "code",
   "execution_count": 19,
   "id": "bd6426d2",
   "metadata": {},
   "outputs": [
    {
     "name": "stdout",
     "output_type": "stream",
     "text": [
      "Backend\r",
      "Python\r",
      "de EBAC\n"
     ]
    }
   ],
   "source": [
    "my_curse = \"Backend\\rPython\\rde EBAC\"\n",
    "print (my_curse)"
   ]
  },
  {
   "cell_type": "code",
   "execution_count": null,
   "id": "ad38f99d",
   "metadata": {},
   "outputs": [],
   "source": [
    "'\\b' #Backspace / retorno"
   ]
  },
  {
   "cell_type": "code",
   "execution_count": 20,
   "id": "909a588a",
   "metadata": {},
   "outputs": [
    {
     "name": "stdout",
     "output_type": "stream",
     "text": [
      "Backend Python de EBAC\n"
     ]
    }
   ],
   "source": [
    "my_curse = \"Backend Python de EBAC\"\n",
    "print (my_curse)"
   ]
  },
  {
   "cell_type": "code",
   "execution_count": 22,
   "id": "de3f8487",
   "metadata": {},
   "outputs": [
    {
     "name": "stdout",
     "output_type": "stream",
     "text": [
      "Backend\bPython de EBAC\n"
     ]
    }
   ],
   "source": [
    "my_curse = \"Backend\\bPython de EBAC\"\n",
    "#Va a eliminar la 'd'\n",
    "print (my_curse)"
   ]
  },
  {
   "cell_type": "code",
   "execution_count": 23,
   "id": "2eeb823d",
   "metadata": {},
   "outputs": [
    {
     "name": "stdout",
     "output_type": "stream",
     "text": [
      "Backend\bPython\bde EBAC\n"
     ]
    }
   ],
   "source": [
    "my_curse = \"Backend\\bPython\\bde EBAC\"\n",
    "#Va a eliminar la 'd' y además la 'n'\n",
    "print (my_curse)"
   ]
  },
  {
   "cell_type": "code",
   "execution_count": null,
   "id": "7bc7f98c",
   "metadata": {},
   "outputs": [],
   "source": [
    "'\\ooo' #Octal"
   ]
  },
  {
   "cell_type": "code",
   "execution_count": 24,
   "id": "7fa37835",
   "metadata": {},
   "outputs": [
    {
     "name": "stdout",
     "output_type": "stream",
     "text": [
      "Hola\n"
     ]
    }
   ],
   "source": [
    "hello_spanish_octal = \"\\110\\157\\154\\141\"\n",
    "print(hello_spanish_octal)"
   ]
  },
  {
   "cell_type": "code",
   "execution_count": null,
   "id": "6742c1ea",
   "metadata": {},
   "outputs": [],
   "source": [
    "'\\xhh' #Hexadecimal"
   ]
  },
  {
   "cell_type": "code",
   "execution_count": 25,
   "id": "594211f4",
   "metadata": {},
   "outputs": [
    {
     "name": "stdout",
     "output_type": "stream",
     "text": [
      "Hola\n",
      "buenas\n"
     ]
    }
   ],
   "source": [
    "hello_spanish_hex = \"\\x48\\x6f\\x6c\\x61\\n\\x62\\x75\\x65\\x6e\\x61\\x73\"\n",
    "print(hello_spanish_hex)"
   ]
  },
  {
   "cell_type": "markdown",
   "id": "ec4d3ada",
   "metadata": {},
   "source": [
    "# Función eval()"
   ]
  },
  {
   "cell_type": "code",
   "execution_count": 1,
   "id": "2c17aab9",
   "metadata": {},
   "outputs": [
    {
     "name": "stdout",
     "output_type": "stream",
     "text": [
      "my_number+10000\n"
     ]
    }
   ],
   "source": [
    "my_number = 22\n",
    "print(\"my_number+10000\")"
   ]
  },
  {
   "cell_type": "code",
   "execution_count": 2,
   "id": "050ebcc7",
   "metadata": {},
   "outputs": [
    {
     "name": "stdout",
     "output_type": "stream",
     "text": [
      "10022\n"
     ]
    }
   ],
   "source": [
    "my_number = 22\n",
    "print(eval(\"my_number+10000\"))"
   ]
  },
  {
   "cell_type": "code",
   "execution_count": 3,
   "id": "c0ae58f2",
   "metadata": {},
   "outputs": [
    {
     "name": "stdout",
     "output_type": "stream",
     "text": [
      "ingresa un número:10\n"
     ]
    }
   ],
   "source": [
    "my_input = input(\"ingresa un número:\")"
   ]
  },
  {
   "cell_type": "code",
   "execution_count": 4,
   "id": "2b4f62e8",
   "metadata": {},
   "outputs": [
    {
     "data": {
      "text/plain": [
       "'10'"
      ]
     },
     "execution_count": 4,
     "metadata": {},
     "output_type": "execute_result"
    }
   ],
   "source": [
    "my_input"
   ]
  },
  {
   "cell_type": "code",
   "execution_count": 5,
   "id": "a64195ec",
   "metadata": {},
   "outputs": [
    {
     "data": {
      "text/plain": [
       "10"
      ]
     },
     "execution_count": 5,
     "metadata": {},
     "output_type": "execute_result"
    }
   ],
   "source": [
    "eval(my_input)"
   ]
  },
  {
   "cell_type": "code",
   "execution_count": 6,
   "id": "c58e6e84",
   "metadata": {},
   "outputs": [
    {
     "name": "stdout",
     "output_type": "stream",
     "text": [
      "ingresa un número:10\n",
      "10\n",
      "<class 'str'>\n"
     ]
    }
   ],
   "source": [
    "my_input = input(\"ingresa un número:\")\n",
    "print(my_input)\n",
    "print(type(my_input))\n",
    "#String / cadena"
   ]
  },
  {
   "cell_type": "code",
   "execution_count": 9,
   "id": "547296e1",
   "metadata": {},
   "outputs": [
    {
     "name": "stdout",
     "output_type": "stream",
     "text": [
      "ingresa un número:10\n",
      "10\n",
      "<class 'int'>\n"
     ]
    }
   ],
   "source": [
    "my_input = eval(input(\"ingresa un número:\"))\n",
    "print(my_input)\n",
    "print(type(my_input))\n",
    "# Int / entero"
   ]
  },
  {
   "cell_type": "markdown",
   "id": "ca4afa30",
   "metadata": {},
   "source": [
    "# Función range() y xrange()"
   ]
  },
  {
   "cell_type": "markdown",
   "id": "02a113bd",
   "metadata": {},
   "source": [
    "### range(start,stop,step)"
   ]
  },
  {
   "cell_type": "code",
   "execution_count": 10,
   "id": "a2bb5176",
   "metadata": {},
   "outputs": [],
   "source": [
    "x = range(10)"
   ]
  },
  {
   "cell_type": "code",
   "execution_count": 11,
   "id": "d790efc8",
   "metadata": {},
   "outputs": [
    {
     "data": {
      "text/plain": [
       "range(0, 10)"
      ]
     },
     "execution_count": 11,
     "metadata": {},
     "output_type": "execute_result"
    }
   ],
   "source": [
    "x"
   ]
  },
  {
   "cell_type": "code",
   "execution_count": 20,
   "id": "0645cfa2",
   "metadata": {},
   "outputs": [
    {
     "name": "stdout",
     "output_type": "stream",
     "text": [
      "0\n",
      "1\n",
      "2\n",
      "3\n",
      "4\n",
      "5\n",
      "6\n",
      "7\n",
      "8\n",
      "9\n"
     ]
    }
   ],
   "source": [
    "for number in x:\n",
    "    print(number)"
   ]
  },
  {
   "cell_type": "code",
   "execution_count": 21,
   "id": "b5c6c68e",
   "metadata": {},
   "outputs": [
    {
     "name": "stdout",
     "output_type": "stream",
     "text": [
      "3\n",
      "4\n",
      "5\n"
     ]
    }
   ],
   "source": [
    "x = range(3,6)\n",
    "for number in x:\n",
    "    print(number)"
   ]
  },
  {
   "cell_type": "code",
   "execution_count": 22,
   "id": "e3a7d698",
   "metadata": {},
   "outputs": [
    {
     "name": "stdout",
     "output_type": "stream",
     "text": [
      "3\n",
      "5\n",
      "7\n",
      "9\n",
      "11\n",
      "13\n",
      "15\n",
      "17\n",
      "19\n"
     ]
    }
   ],
   "source": [
    "x = range(3,20,2)\n",
    "for number in x:\n",
    "    print(number)"
   ]
  },
  {
   "cell_type": "markdown",
   "id": "1aca7d13",
   "metadata": {},
   "source": [
    "# Mutabilidad e inmutabilidad"
   ]
  },
  {
   "cell_type": "code",
   "execution_count": 9,
   "id": "d9b4cae1",
   "metadata": {},
   "outputs": [],
   "source": [
    "tuple1 = (1,2,3,4,5)"
   ]
  },
  {
   "cell_type": "code",
   "execution_count": 3,
   "id": "6fd887b1",
   "metadata": {},
   "outputs": [
    {
     "data": {
      "text/plain": [
       "(1, 2, 3, 4, 5)"
      ]
     },
     "execution_count": 3,
     "metadata": {},
     "output_type": "execute_result"
    }
   ],
   "source": [
    "tuple1"
   ]
  },
  {
   "cell_type": "code",
   "execution_count": 10,
   "id": "5ae0d251",
   "metadata": {},
   "outputs": [
    {
     "ename": "TypeError",
     "evalue": "'tuple' object does not support item assignment",
     "output_type": "error",
     "traceback": [
      "\u001b[1;31m---------------------------------------------------------------------------\u001b[0m",
      "\u001b[1;31mTypeError\u001b[0m                                 Traceback (most recent call last)",
      "Input \u001b[1;32mIn [10]\u001b[0m, in \u001b[0;36m<module>\u001b[1;34m\u001b[0m\n\u001b[0;32m      1\u001b[0m \u001b[38;5;66;03m#Inmutabilidad\u001b[39;00m\n\u001b[1;32m----> 2\u001b[0m tuple1[\u001b[38;5;241m0\u001b[39m] \u001b[38;5;241m=\u001b[39m \u001b[38;5;241m10\u001b[39m\n",
      "\u001b[1;31mTypeError\u001b[0m: 'tuple' object does not support item assignment"
     ]
    }
   ],
   "source": [
    "#Inmutabilidad\n",
    "tuple1[0] = 10"
   ]
  },
  {
   "cell_type": "code",
   "execution_count": 11,
   "id": "a52af48f",
   "metadata": {},
   "outputs": [],
   "source": [
    "my_string = \"Aprendiendo de inmutabilidad\""
   ]
  },
  {
   "cell_type": "code",
   "execution_count": 12,
   "id": "c15e8c57",
   "metadata": {},
   "outputs": [
    {
     "data": {
      "text/plain": [
       "'Aprendiendo de inmutabilidad'"
      ]
     },
     "execution_count": 12,
     "metadata": {},
     "output_type": "execute_result"
    }
   ],
   "source": [
    "my_string"
   ]
  },
  {
   "cell_type": "code",
   "execution_count": 13,
   "id": "66b83e94",
   "metadata": {},
   "outputs": [
    {
     "ename": "TypeError",
     "evalue": "'str' object does not support item assignment",
     "output_type": "error",
     "traceback": [
      "\u001b[1;31m---------------------------------------------------------------------------\u001b[0m",
      "\u001b[1;31mTypeError\u001b[0m                                 Traceback (most recent call last)",
      "Input \u001b[1;32mIn [13]\u001b[0m, in \u001b[0;36m<module>\u001b[1;34m\u001b[0m\n\u001b[1;32m----> 1\u001b[0m my_string[\u001b[38;5;241m0\u001b[39m] \u001b[38;5;241m=\u001b[39m \u001b[38;5;124m\"\u001b[39m\u001b[38;5;124ma\u001b[39m\u001b[38;5;124m\"\u001b[39m\n",
      "\u001b[1;31mTypeError\u001b[0m: 'str' object does not support item assignment"
     ]
    }
   ],
   "source": [
    "my_string[0] = \"a\""
   ]
  },
  {
   "cell_type": "code",
   "execution_count": 17,
   "id": "03e641ef",
   "metadata": {},
   "outputs": [],
   "source": [
    "colors = [\"rojo\", \"azul\", \"verde\", \"negro\"]"
   ]
  },
  {
   "cell_type": "code",
   "execution_count": 18,
   "id": "e9c2499d",
   "metadata": {},
   "outputs": [
    {
     "data": {
      "text/plain": [
       "['rojo', 'azul', 'verde', 'negro']"
      ]
     },
     "execution_count": 18,
     "metadata": {},
     "output_type": "execute_result"
    }
   ],
   "source": [
    "colors"
   ]
  },
  {
   "cell_type": "code",
   "execution_count": 20,
   "id": "6e06d2e0",
   "metadata": {},
   "outputs": [],
   "source": [
    "colors[0] = \"blanco\""
   ]
  },
  {
   "cell_type": "code",
   "execution_count": 21,
   "id": "973cd64e",
   "metadata": {},
   "outputs": [
    {
     "data": {
      "text/plain": [
       "['blanco', 'azul', 'verde', 'negro']"
      ]
     },
     "execution_count": 21,
     "metadata": {},
     "output_type": "execute_result"
    }
   ],
   "source": [
    "colors"
   ]
  },
  {
   "cell_type": "markdown",
   "id": "1ab774a2",
   "metadata": {},
   "source": [
    "# Función print()"
   ]
  },
  {
   "cell_type": "code",
   "execution_count": 22,
   "id": "a08a9fdf",
   "metadata": {},
   "outputs": [],
   "source": [
    "#mostrar un resultado"
   ]
  },
  {
   "cell_type": "code",
   "execution_count": 25,
   "id": "381fcb52",
   "metadata": {},
   "outputs": [
    {
     "name": "stdout",
     "output_type": "stream",
     "text": [
      "El valor de my_variable es de:213\n"
     ]
    }
   ],
   "source": [
    "my_variable = 213\n",
    "print(\"El valor de my_variable es de:\" +  str(my_variable))"
   ]
  },
  {
   "cell_type": "code",
   "execution_count": 26,
   "id": "77db823e",
   "metadata": {},
   "outputs": [
    {
     "name": "stdout",
     "output_type": "stream",
     "text": [
      "El valor de my_variable es de: 213\n"
     ]
    }
   ],
   "source": [
    "my_variable = 213\n",
    "print(\"El valor de my_variable es de:\", my_variable)"
   ]
  },
  {
   "cell_type": "code",
   "execution_count": 28,
   "id": "66d26ce9",
   "metadata": {},
   "outputs": [
    {
     "name": "stdout",
     "output_type": "stream",
     "text": [
      "El resultado de d es: 1702\n"
     ]
    }
   ],
   "source": [
    "a = 199\n",
    "b = 746\n",
    "c = 757\n",
    "d = a+b+c\n",
    "print(\"El resultado de d es:\", d)"
   ]
  },
  {
   "cell_type": "code",
   "execution_count": 29,
   "id": "6ab215a2",
   "metadata": {},
   "outputs": [],
   "source": [
    "import builtins"
   ]
  },
  {
   "cell_type": "code",
   "execution_count": 30,
   "id": "d8658684",
   "metadata": {},
   "outputs": [
    {
     "name": "stdout",
     "output_type": "stream",
     "text": [
      "Help on built-in function print in module builtins:\n",
      "\n",
      "print(...)\n",
      "    print(value, ..., sep=' ', end='\\n', file=sys.stdout, flush=False)\n",
      "    \n",
      "    Prints the values to a stream, or to sys.stdout by default.\n",
      "    Optional keyword arguments:\n",
      "    file:  a file-like object (stream); defaults to the current sys.stdout.\n",
      "    sep:   string inserted between values, default a space.\n",
      "    end:   string appended after the last value, default a newline.\n",
      "    flush: whether to forcibly flush the stream.\n",
      "\n"
     ]
    }
   ],
   "source": [
    "help(builtins.print)"
   ]
  },
  {
   "cell_type": "code",
   "execution_count": 31,
   "id": "99acbd76",
   "metadata": {},
   "outputs": [
    {
     "name": "stdout",
     "output_type": "stream",
     "text": [
      "Help on built-in function print in module builtins:\n",
      "\n",
      "print(...)\n",
      "    print(value, ..., sep=' ', end='\\n', file=sys.stdout, flush=False)\n",
      "    \n",
      "    Prints the values to a stream, or to sys.stdout by default.\n",
      "    Optional keyword arguments:\n",
      "    file:  a file-like object (stream); defaults to the current sys.stdout.\n",
      "    sep:   string inserted between values, default a space.\n",
      "    end:   string appended after the last value, default a newline.\n",
      "    flush: whether to forcibly flush the stream.\n",
      "\n"
     ]
    }
   ],
   "source": [
    "help(print)"
   ]
  },
  {
   "cell_type": "code",
   "execution_count": 32,
   "id": "f63f0530",
   "metadata": {},
   "outputs": [
    {
     "data": {
      "text/plain": [
       "['ArithmeticError',\n",
       " 'AssertionError',\n",
       " 'AttributeError',\n",
       " 'BaseException',\n",
       " 'BlockingIOError',\n",
       " 'BrokenPipeError',\n",
       " 'BufferError',\n",
       " 'BytesWarning',\n",
       " 'ChildProcessError',\n",
       " 'ConnectionAbortedError',\n",
       " 'ConnectionError',\n",
       " 'ConnectionRefusedError',\n",
       " 'ConnectionResetError',\n",
       " 'DeprecationWarning',\n",
       " 'EOFError',\n",
       " 'Ellipsis',\n",
       " 'EncodingWarning',\n",
       " 'EnvironmentError',\n",
       " 'Exception',\n",
       " 'False',\n",
       " 'FileExistsError',\n",
       " 'FileNotFoundError',\n",
       " 'FloatingPointError',\n",
       " 'FutureWarning',\n",
       " 'GeneratorExit',\n",
       " 'IOError',\n",
       " 'ImportError',\n",
       " 'ImportWarning',\n",
       " 'IndentationError',\n",
       " 'IndexError',\n",
       " 'InterruptedError',\n",
       " 'IsADirectoryError',\n",
       " 'KeyError',\n",
       " 'KeyboardInterrupt',\n",
       " 'LookupError',\n",
       " 'MemoryError',\n",
       " 'ModuleNotFoundError',\n",
       " 'NameError',\n",
       " 'None',\n",
       " 'NotADirectoryError',\n",
       " 'NotImplemented',\n",
       " 'NotImplementedError',\n",
       " 'OSError',\n",
       " 'OverflowError',\n",
       " 'PendingDeprecationWarning',\n",
       " 'PermissionError',\n",
       " 'ProcessLookupError',\n",
       " 'RecursionError',\n",
       " 'ReferenceError',\n",
       " 'ResourceWarning',\n",
       " 'RuntimeError',\n",
       " 'RuntimeWarning',\n",
       " 'StopAsyncIteration',\n",
       " 'StopIteration',\n",
       " 'SyntaxError',\n",
       " 'SyntaxWarning',\n",
       " 'SystemError',\n",
       " 'SystemExit',\n",
       " 'TabError',\n",
       " 'TimeoutError',\n",
       " 'True',\n",
       " 'TypeError',\n",
       " 'UnboundLocalError',\n",
       " 'UnicodeDecodeError',\n",
       " 'UnicodeEncodeError',\n",
       " 'UnicodeError',\n",
       " 'UnicodeTranslateError',\n",
       " 'UnicodeWarning',\n",
       " 'UserWarning',\n",
       " 'ValueError',\n",
       " 'Warning',\n",
       " 'WindowsError',\n",
       " 'ZeroDivisionError',\n",
       " '__IPYTHON__',\n",
       " '__build_class__',\n",
       " '__debug__',\n",
       " '__doc__',\n",
       " '__import__',\n",
       " '__loader__',\n",
       " '__name__',\n",
       " '__package__',\n",
       " '__spec__',\n",
       " 'abs',\n",
       " 'aiter',\n",
       " 'all',\n",
       " 'anext',\n",
       " 'any',\n",
       " 'ascii',\n",
       " 'bin',\n",
       " 'bool',\n",
       " 'breakpoint',\n",
       " 'bytearray',\n",
       " 'bytes',\n",
       " 'callable',\n",
       " 'chr',\n",
       " 'classmethod',\n",
       " 'compile',\n",
       " 'complex',\n",
       " 'copyright',\n",
       " 'credits',\n",
       " 'delattr',\n",
       " 'dict',\n",
       " 'dir',\n",
       " 'display',\n",
       " 'divmod',\n",
       " 'enumerate',\n",
       " 'eval',\n",
       " 'exec',\n",
       " 'execfile',\n",
       " 'filter',\n",
       " 'float',\n",
       " 'format',\n",
       " 'frozenset',\n",
       " 'get_ipython',\n",
       " 'getattr',\n",
       " 'globals',\n",
       " 'hasattr',\n",
       " 'hash',\n",
       " 'help',\n",
       " 'hex',\n",
       " 'id',\n",
       " 'input',\n",
       " 'int',\n",
       " 'isinstance',\n",
       " 'issubclass',\n",
       " 'iter',\n",
       " 'len',\n",
       " 'license',\n",
       " 'list',\n",
       " 'locals',\n",
       " 'map',\n",
       " 'max',\n",
       " 'memoryview',\n",
       " 'min',\n",
       " 'next',\n",
       " 'object',\n",
       " 'oct',\n",
       " 'open',\n",
       " 'ord',\n",
       " 'pow',\n",
       " 'print',\n",
       " 'property',\n",
       " 'range',\n",
       " 'repr',\n",
       " 'reversed',\n",
       " 'round',\n",
       " 'runfile',\n",
       " 'set',\n",
       " 'setattr',\n",
       " 'slice',\n",
       " 'sorted',\n",
       " 'staticmethod',\n",
       " 'str',\n",
       " 'sum',\n",
       " 'super',\n",
       " 'tuple',\n",
       " 'type',\n",
       " 'vars',\n",
       " 'zip']"
      ]
     },
     "execution_count": 32,
     "metadata": {},
     "output_type": "execute_result"
    }
   ],
   "source": [
    "dir(builtins)"
   ]
  },
  {
   "cell_type": "markdown",
   "id": "22e501ff",
   "metadata": {},
   "source": [
    "# Función type()"
   ]
  },
  {
   "cell_type": "code",
   "execution_count": 34,
   "id": "ffbbd641",
   "metadata": {},
   "outputs": [
    {
     "name": "stdout",
     "output_type": "stream",
     "text": [
      "570\n"
     ]
    }
   ],
   "source": [
    "my_number = 570\n",
    "print(my_number)"
   ]
  },
  {
   "cell_type": "code",
   "execution_count": 35,
   "id": "630eedb7",
   "metadata": {},
   "outputs": [
    {
     "name": "stdout",
     "output_type": "stream",
     "text": [
      "390\n",
      "<class 'int'>\n"
     ]
    }
   ],
   "source": [
    "# entero / int\n",
    "my_number = 390\n",
    "print(my_number)\n",
    "print(type(my_number))"
   ]
  },
  {
   "cell_type": "code",
   "execution_count": 36,
   "id": "a2da3b70",
   "metadata": {},
   "outputs": [
    {
     "name": "stdout",
     "output_type": "stream",
     "text": [
      "Backend Python\n",
      "<class 'str'>\n"
     ]
    }
   ],
   "source": [
    "#Cadenas / string\n",
    "my_string = \"Backend Python\"\n",
    "print(my_string)\n",
    "print(type(my_string))"
   ]
  },
  {
   "cell_type": "code",
   "execution_count": 37,
   "id": "0e4ddff7",
   "metadata": {},
   "outputs": [
    {
     "name": "stdout",
     "output_type": "stream",
     "text": [
      "3.9\n",
      "<class 'float'>\n"
     ]
    }
   ],
   "source": [
    "# float / flotante\n",
    "my_float = 3.9\n",
    "print(my_float)\n",
    "print(type(my_float))"
   ]
  },
  {
   "cell_type": "code",
   "execution_count": 38,
   "id": "01a05d77",
   "metadata": {},
   "outputs": [
    {
     "name": "stdout",
     "output_type": "stream",
     "text": [
      "\n",
      "<class 'str'>\n"
     ]
    }
   ],
   "source": [
    "#Cadenas / string\n",
    "my_string = \"\"\n",
    "print(my_string)\n",
    "print(type(my_string))"
   ]
  },
  {
   "cell_type": "code",
   "execution_count": 40,
   "id": "5e5613b9",
   "metadata": {},
   "outputs": [
    {
     "name": "stdout",
     "output_type": "stream",
     "text": [
      "True\n",
      "<class 'bool'>\n"
     ]
    }
   ],
   "source": [
    "# Boolean\n",
    "my_bolean = True\n",
    "print(my_bolean)\n",
    "print(type(my_bolean))"
   ]
  },
  {
   "cell_type": "code",
   "execution_count": 41,
   "id": "4cfc8b58",
   "metadata": {},
   "outputs": [
    {
     "name": "stdout",
     "output_type": "stream",
     "text": [
      "False\n",
      "<class 'bool'>\n"
     ]
    }
   ],
   "source": [
    "# Boolean\n",
    "my_bolean = False\n",
    "print(my_bolean)\n",
    "print(type(my_bolean))"
   ]
  },
  {
   "cell_type": "code",
   "execution_count": 42,
   "id": "127c1eff",
   "metadata": {},
   "outputs": [
    {
     "name": "stdout",
     "output_type": "stream",
     "text": [
      "[0, 1, 2, 3, 4]\n",
      "<class 'list'>\n"
     ]
    }
   ],
   "source": [
    "#Listas / list\n",
    "my_list = [0,1,2,3,4]\n",
    "print(my_list)\n",
    "print(type(my_list))"
   ]
  },
  {
   "cell_type": "code",
   "execution_count": 43,
   "id": "89f3ab63",
   "metadata": {},
   "outputs": [
    {
     "name": "stdout",
     "output_type": "stream",
     "text": [
      "(0, 1, 2, 3, 4)\n",
      "<class 'tuple'>\n"
     ]
    }
   ],
   "source": [
    "#Tuplas / tuples\n",
    "my_tuple = (0,1,2,3,4)\n",
    "print(my_tuple)\n",
    "print(type(my_tuple))"
   ]
  },
  {
   "cell_type": "code",
   "execution_count": 44,
   "id": "625b273f",
   "metadata": {},
   "outputs": [
    {
     "name": "stdout",
     "output_type": "stream",
     "text": [
      "{1.4, 2, 'ola'}\n",
      "<class 'set'>\n"
     ]
    }
   ],
   "source": [
    "#Set\n",
    "my_set = {2,\"ola\",1.4}\n",
    "print(my_set)\n",
    "print(type(my_set))"
   ]
  },
  {
   "cell_type": "code",
   "execution_count": 45,
   "id": "287c571a",
   "metadata": {},
   "outputs": [
    {
     "name": "stdout",
     "output_type": "stream",
     "text": [
      "{'a': 20, 'b': 30, 'c': 89}\n",
      "<class 'dict'>\n"
     ]
    }
   ],
   "source": [
    "#Diccionarios / dict\n",
    "my_dictionary = {\"a\":20, \"b\":30, \"c\":89}\n",
    "print(my_dictionary)\n",
    "print(type(my_dictionary))"
   ]
  },
  {
   "cell_type": "markdown",
   "id": "599f1f0e",
   "metadata": {},
   "source": [
    "# Función id()"
   ]
  },
  {
   "cell_type": "markdown",
   "id": "83eb17be",
   "metadata": {},
   "source": [
    "#### Función para obtener la dirección de memoria"
   ]
  },
  {
   "cell_type": "code",
   "execution_count": 46,
   "id": "b2dcc78f",
   "metadata": {},
   "outputs": [
    {
     "name": "stdout",
     "output_type": "stream",
     "text": [
      "Python\n",
      "<class 'str'>\n",
      "2995156568688\n"
     ]
    }
   ],
   "source": [
    "#Cadenas / string\n",
    "my_string = \"Python\"\n",
    "print(my_string)\n",
    "print(type(my_string))\n",
    "print(id(my_string))"
   ]
  },
  {
   "cell_type": "markdown",
   "id": "f6451ab5",
   "metadata": {},
   "source": [
    "# Múltiples valores de entrada"
   ]
  },
  {
   "cell_type": "code",
   "execution_count": 49,
   "id": "0d616431",
   "metadata": {},
   "outputs": [
    {
     "name": "stdout",
     "output_type": "stream",
     "text": [
      "Ingresa el valor de my_number: diez\n",
      "El valor de my_number es de; diez\n"
     ]
    }
   ],
   "source": [
    "my_number = input(\"Ingresa el valor de my_number: \")\n",
    "print(\"El valor de my_number es de;\",my_number)"
   ]
  },
  {
   "cell_type": "code",
   "execution_count": 51,
   "id": "43e196f2",
   "metadata": {},
   "outputs": [
    {
     "name": "stdout",
     "output_type": "stream",
     "text": [
      "Ingresa 3 valores:1 2 3\n",
      "El valor de a es: 1\n",
      "El valor de b es: 2\n",
      "El valor de c es: 3\n"
     ]
    }
   ],
   "source": [
    "a,b,c = input(\"Ingresa 3 valores:\").split()\n",
    "print(\"El valor de a es:\",a)\n",
    "print(\"El valor de b es:\",b)\n",
    "print(\"El valor de c es:\",c)"
   ]
  },
  {
   "cell_type": "code",
   "execution_count": 52,
   "id": "71c819fd",
   "metadata": {},
   "outputs": [
    {
     "name": "stdout",
     "output_type": "stream",
     "text": [
      "Ingresa 3 valores separados por comas:1,2,3\n",
      "El valor de a es: 1\n",
      "El valor de b es: 2\n",
      "El valor de c es: 3\n"
     ]
    }
   ],
   "source": [
    "a,b,c = input(\"Ingresa 3 valores separados por comas:\").split(\",\")\n",
    "print(\"El valor de a es:\",a)\n",
    "print(\"El valor de b es:\",b)\n",
    "print(\"El valor de c es:\",c)"
   ]
  },
  {
   "cell_type": "code",
   "execution_count": null,
   "id": "95123dba",
   "metadata": {},
   "outputs": [],
   "source": []
  }
 ],
 "metadata": {
  "kernelspec": {
   "display_name": "Python 3 (ipykernel)",
   "language": "python",
   "name": "python3"
  },
  "language_info": {
   "codemirror_mode": {
    "name": "ipython",
    "version": 3
   },
   "file_extension": ".py",
   "mimetype": "text/x-python",
   "name": "python",
   "nbconvert_exporter": "python",
   "pygments_lexer": "ipython3",
   "version": "3.10.2"
  }
 },
 "nbformat": 4,
 "nbformat_minor": 5
}
