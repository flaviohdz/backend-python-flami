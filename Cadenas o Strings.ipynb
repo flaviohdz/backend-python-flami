{
 "cells": [
  {
   "cell_type": "markdown",
   "id": "2952ffeb",
   "metadata": {},
   "source": [
    "# Indexación de Cadenas "
   ]
  },
  {
   "cell_type": "markdown",
   "id": "5780e5de",
   "metadata": {},
   "source": [
    "- ¿Qué es un índice?\n",
    "- ¿Por qué es necesario?\n",
    "\n",
    "- Indexación signofica acceder a los elementos\n",
    "- Para acceder a los elementos podemos usar corchetes \"[]\"\n",
    "- El índice o número que pongamos se refiere a la posición dentro de la lista ordenada \n",
    "- La indexación puede usarse para extraer elementos individuales de una estructura de datos\n",
    "- En Python, toda la indexación parte desde el número 0 como primera posición\n",
    "\n",
    "- En Python, tenemos 2 tipos de índices: \n",
    "    - Positivos: comienzan desde 0, estos índices buscan de izquierda a derecha la posición solicitada\n",
    "    - Negativos: comienzan desde -1, estos índices buscan de derecha a izquierda la posición solicitada"
   ]
  },
  {
   "cell_type": "markdown",
   "id": "a6dcee31",
   "metadata": {},
   "source": [
    "# Segmentación de cadenas"
   ]
  },
  {
   "cell_type": "code",
   "execution_count": 1,
   "id": "9cf2874d",
   "metadata": {},
   "outputs": [
    {
     "name": "stdout",
     "output_type": "stream",
     "text": [
      "Curso Backend Python\n",
      "<class 'str'>\n",
      "C\n",
      "Curso\n",
      "Curso\n",
      "Curso Backend Python\n",
      "Backe\n"
     ]
    }
   ],
   "source": [
    "# índices positivos\n",
    "my_string = \"Curso Backend Python\"\n",
    "print(my_string)\n",
    "print(type(my_string))\n",
    "print(my_string[0])\n",
    "print(my_string[0:5]) # 0,1,2,3,4\n",
    "print(my_string[:5]) # 0,1,2,3,4\n",
    "print(my_string[:]) # todos\n",
    "print(my_string[6:11]) # 6,7,8,9,10\n"
   ]
  },
  {
   "cell_type": "code",
   "execution_count": 2,
   "id": "7dfa5386",
   "metadata": {},
   "outputs": [
    {
     "ename": "IndexError",
     "evalue": "string index out of range",
     "output_type": "error",
     "traceback": [
      "\u001b[1;31m---------------------------------------------------------------------------\u001b[0m",
      "\u001b[1;31mIndexError\u001b[0m                                Traceback (most recent call last)",
      "Input \u001b[1;32mIn [2]\u001b[0m, in \u001b[0;36m<module>\u001b[1;34m\u001b[0m\n\u001b[0;32m      1\u001b[0m \u001b[38;5;66;03m# error\u001b[39;00m\n\u001b[0;32m      2\u001b[0m my_string \u001b[38;5;241m=\u001b[39m \u001b[38;5;124m\"\u001b[39m\u001b[38;5;124mCurso Backend Python\u001b[39m\u001b[38;5;124m\"\u001b[39m\n\u001b[1;32m----> 3\u001b[0m \u001b[38;5;28mprint\u001b[39m(\u001b[43mmy_string\u001b[49m\u001b[43m[\u001b[49m\u001b[38;5;241;43m9999\u001b[39;49m\u001b[43m]\u001b[49m)\n",
      "\u001b[1;31mIndexError\u001b[0m: string index out of range"
     ]
    }
   ],
   "source": [
    "# error\n",
    "my_string = \"Curso Backend Python\"\n",
    "print(my_string[9999])"
   ]
  },
  {
   "cell_type": "code",
   "execution_count": 6,
   "id": "09ce9286",
   "metadata": {},
   "outputs": [
    {
     "name": "stdout",
     "output_type": "stream",
     "text": [
      "n\n",
      "n\n",
      "ython\n",
      "Curso Backend P\n"
     ]
    }
   ],
   "source": [
    "# índices negativos\n",
    "my_string = \"Curso Backend Python\"\n",
    "print(my_string[len(my_string)-1])\n",
    "print(my_string[-1])\n",
    "print(my_string[-5:])\n",
    "print(my_string[:-5])"
   ]
  },
  {
   "cell_type": "markdown",
   "id": "9912f09d",
   "metadata": {},
   "source": [
    "# Concatenación de Cadenas"
   ]
  },
  {
   "cell_type": "code",
   "execution_count": 8,
   "id": "92915f4c",
   "metadata": {},
   "outputs": [
    {
     "name": "stdout",
     "output_type": "stream",
     "text": [
      "Curso\n",
      "Backend Python\n",
      "CursoBackend Python\n",
      "Curso Backend Python\n",
      "Curso Backend Python\n"
     ]
    }
   ],
   "source": [
    "my_string_1 = \"Curso\"\n",
    "my_string_2 = \"Backend Python\"\n",
    "print(my_string_1)\n",
    "print(my_string_2)\n",
    "print(my_string_1+my_string_2)\n",
    "print(my_string_1+\" \"+my_string_2)\n",
    "print(\"{} {}\".format(my_string_1,my_string_2))"
   ]
  },
  {
   "cell_type": "code",
   "execution_count": 11,
   "id": "3cc93697",
   "metadata": {},
   "outputs": [
    {
     "name": "stdout",
     "output_type": "stream",
     "text": [
      "1020\n",
      "1020\n",
      "30\n",
      "30\n"
     ]
    }
   ],
   "source": [
    "my_string_1 = \"10\"\n",
    "my_string_2 = \"20\"\n",
    "print(my_string_1+my_string_2)\n",
    "print(eval(my_string_1+my_string_2))\n",
    "print(eval(\"{}+{}\".format(my_string_1,my_string_2)))\n",
    "print(int(my_string_1)+int(my_string_2))"
   ]
  },
  {
   "cell_type": "code",
   "execution_count": 12,
   "id": "c3c0675a",
   "metadata": {},
   "outputs": [
    {
     "ename": "TypeError",
     "evalue": "unsupported operand type(s) for +: 'int' and 'str'",
     "output_type": "error",
     "traceback": [
      "\u001b[1;31m---------------------------------------------------------------------------\u001b[0m",
      "\u001b[1;31mTypeError\u001b[0m                                 Traceback (most recent call last)",
      "Input \u001b[1;32mIn [12]\u001b[0m, in \u001b[0;36m<module>\u001b[1;34m\u001b[0m\n\u001b[0;32m      1\u001b[0m \u001b[38;5;66;03m# error\u001b[39;00m\n\u001b[1;32m----> 2\u001b[0m \u001b[38;5;241;43m10\u001b[39;49m\u001b[43m \u001b[49m\u001b[38;5;241;43m+\u001b[39;49m\u001b[43m \u001b[49m\u001b[38;5;124;43m\"\u001b[39;49m\u001b[38;5;124;43m10\u001b[39;49m\u001b[38;5;124;43m\"\u001b[39;49m\n",
      "\u001b[1;31mTypeError\u001b[0m: unsupported operand type(s) for +: 'int' and 'str'"
     ]
    }
   ],
   "source": [
    "# error\n",
    "10 + \"10\""
   ]
  },
  {
   "cell_type": "markdown",
   "id": "ff893d68",
   "metadata": {},
   "source": [
    "## Multiplicación de cadenas"
   ]
  },
  {
   "cell_type": "code",
   "execution_count": 13,
   "id": "1f33056a",
   "metadata": {},
   "outputs": [
    {
     "name": "stdout",
     "output_type": "stream",
     "text": [
      "cargando...cargando...cargando...cargando...cargando...\n"
     ]
    }
   ],
   "source": [
    "my_string = \"cargando...\"\n",
    "print(my_string * 5)"
   ]
  },
  {
   "cell_type": "code",
   "execution_count": 14,
   "id": "76c1ab71",
   "metadata": {},
   "outputs": [
    {
     "name": "stdout",
     "output_type": "stream",
     "text": [
      "cargando...\n",
      "cargando...\n",
      "cargando...\n",
      "cargando...\n",
      "cargando...\n",
      "\n"
     ]
    }
   ],
   "source": [
    "my_string = \"cargando...\\n\"\n",
    "print(my_string * 5)"
   ]
  },
  {
   "cell_type": "code",
   "execution_count": 15,
   "id": "261ee808",
   "metadata": {},
   "outputs": [
    {
     "name": "stdout",
     "output_type": "stream",
     "text": [
      "cargando...\n",
      "cargando...\n",
      "cargando...\n",
      "cargando...\n",
      "cargando...\n",
      "cargando...\n",
      "cargando...\n",
      "cargando...\n",
      "cargando...\n",
      "cargando...\n",
      "\n"
     ]
    }
   ],
   "source": [
    "my_string = \"cargando...\\n\"\n",
    "print(my_string * 10)"
   ]
  },
  {
   "cell_type": "code",
   "execution_count": 16,
   "id": "4e6615f1",
   "metadata": {},
   "outputs": [
    {
     "name": "stdout",
     "output_type": "stream",
     "text": [
      "\n"
     ]
    }
   ],
   "source": [
    "# vacio\n",
    "my_string = \"cargando...\\n\"\n",
    "print(my_string * 0)"
   ]
  },
  {
   "cell_type": "code",
   "execution_count": 17,
   "id": "b41acd27",
   "metadata": {},
   "outputs": [
    {
     "name": "stdout",
     "output_type": "stream",
     "text": [
      "\n"
     ]
    }
   ],
   "source": [
    "# vacio\n",
    "my_string = \"cargando...\\n\"\n",
    "print(-6 * my_string)"
   ]
  },
  {
   "cell_type": "code",
   "execution_count": 18,
   "id": "680e8a5a",
   "metadata": {},
   "outputs": [
    {
     "ename": "TypeError",
     "evalue": "can't multiply sequence by non-int of type 'float'",
     "output_type": "error",
     "traceback": [
      "\u001b[1;31m---------------------------------------------------------------------------\u001b[0m",
      "\u001b[1;31mTypeError\u001b[0m                                 Traceback (most recent call last)",
      "Input \u001b[1;32mIn [18]\u001b[0m, in \u001b[0;36m<module>\u001b[1;34m\u001b[0m\n\u001b[0;32m      1\u001b[0m \u001b[38;5;66;03m# error\u001b[39;00m\n\u001b[0;32m      2\u001b[0m my_string \u001b[38;5;241m=\u001b[39m \u001b[38;5;124m\"\u001b[39m\u001b[38;5;124mcargando...\u001b[39m\u001b[38;5;130;01m\\n\u001b[39;00m\u001b[38;5;124m\"\u001b[39m\n\u001b[1;32m----> 3\u001b[0m \u001b[38;5;28mprint\u001b[39m(\u001b[43mmy_string\u001b[49m\u001b[43m \u001b[49m\u001b[38;5;241;43m*\u001b[39;49m\u001b[43m \u001b[49m\u001b[38;5;241;43m5.0\u001b[39;49m)\n",
      "\u001b[1;31mTypeError\u001b[0m: can't multiply sequence by non-int of type 'float'"
     ]
    }
   ],
   "source": [
    "# error\n",
    "my_string = \"cargando...\\n\"\n",
    "print(my_string * 5.0)"
   ]
  },
  {
   "cell_type": "markdown",
   "id": "2b3f4784",
   "metadata": {},
   "source": [
    "# Comparación de cadenas"
   ]
  },
  {
   "cell_type": "code",
   "execution_count": 19,
   "id": "85614f1e",
   "metadata": {},
   "outputs": [
    {
     "name": "stdout",
     "output_type": "stream",
     "text": [
      "False\n"
     ]
    }
   ],
   "source": [
    "my_string_1 = \"Prueba\"\n",
    "my_string_2 = \"prueba\"\n",
    "print(my_string_1 == my_string_2)"
   ]
  },
  {
   "cell_type": "code",
   "execution_count": 20,
   "id": "c58897e5",
   "metadata": {},
   "outputs": [
    {
     "name": "stdout",
     "output_type": "stream",
     "text": [
      "True\n"
     ]
    }
   ],
   "source": [
    "my_string_1 = \"Prueba\"\n",
    "my_string_2 = \"prueba\"\n",
    "print(my_string_1 != my_string_2)"
   ]
  },
  {
   "cell_type": "code",
   "execution_count": 21,
   "id": "192a5b8d",
   "metadata": {},
   "outputs": [
    {
     "name": "stdout",
     "output_type": "stream",
     "text": [
      "True\n"
     ]
    }
   ],
   "source": [
    "my_string_1 = \"Prueba\"\n",
    "my_string_2 = \"Prueba\"\n",
    "print(my_string_1 == my_string_2)"
   ]
  },
  {
   "cell_type": "code",
   "execution_count": 22,
   "id": "2b4d81d3",
   "metadata": {},
   "outputs": [
    {
     "name": "stdout",
     "output_type": "stream",
     "text": [
      "False\n"
     ]
    }
   ],
   "source": [
    "my_string_1 = \"Prueba\"\n",
    "my_string_2 = \"Prueba\"\n",
    "print(my_string_1 != my_string_2)"
   ]
  },
  {
   "cell_type": "markdown",
   "id": "b46124a9",
   "metadata": {},
   "source": [
    "# Funciones de cadenas"
   ]
  },
  {
   "cell_type": "markdown",
   "id": "ba392587",
   "metadata": {},
   "source": [
    "### split\n",
    "Divide la cadena basándose en el separador especificado "
   ]
  },
  {
   "cell_type": "code",
   "execution_count": 1,
   "id": "8e172c17",
   "metadata": {},
   "outputs": [
    {
     "name": "stdout",
     "output_type": "stream",
     "text": [
      "['El', 'curso', 'de', 'Backedn', 'Python', 'de', 'EBAC', 'te', 'lleva', 'de', 'la', 'mano', 'para', 'que', 'aprendas', 'a', 'programar']\n"
     ]
    }
   ],
   "source": [
    "my_string = \"El curso de Backedn Python de EBAC te lleva de la mano para que aprendas a programar\"\n",
    "\n",
    "split_result = my_string.split(\" \")\n",
    "\n",
    "print(split_result)"
   ]
  },
  {
   "cell_type": "code",
   "execution_count": 2,
   "id": "0567a857",
   "metadata": {},
   "outputs": [
    {
     "name": "stdout",
     "output_type": "stream",
     "text": [
      "user123\n",
      "gmail.com\n"
     ]
    }
   ],
   "source": [
    "my_string = \"user123@gmail.com\"\n",
    "\n",
    "username, domain = my_string.split(\"@\")\n",
    "\n",
    "print(username)\n",
    "print(domain)"
   ]
  },
  {
   "cell_type": "code",
   "execution_count": 3,
   "id": "6f79899e",
   "metadata": {},
   "outputs": [
    {
     "name": "stdout",
     "output_type": "stream",
     "text": [
      "date:  2022-09-28 \n",
      "log_level:  error\n",
      "message:   Este es un mensaje de error\n",
      "date:  2022-09-27 \n",
      "log_level:  warning\n",
      "message:   Este es un mensaje de advertencia \n",
      "date:  2022-09-27 \n",
      "log_level:  info\n",
      "message:   Este es un mensaje informativo\n"
     ]
    }
   ],
   "source": [
    "my_string = \"\"\"2022-09-28 |error| Este es un mensaje de error\n",
    "2022-09-27 |warning| Este es un mensaje de advertencia \n",
    "2022-09-27 |info| Este es un mensaje informativo\"\"\"\n",
    "\n",
    "logs = my_string.split(\"\\n\")\n",
    "for log in logs:\n",
    "    date, log_level, message = log.split(\"|\")\n",
    "    print(\"date: \",date)\n",
    "    print(\"log_level: \",log_level)\n",
    "    print(\"message: \",message)"
   ]
  },
  {
   "cell_type": "markdown",
   "id": "d5c69167",
   "metadata": {},
   "source": [
    "### index / find\n",
    "Busca la primer posición de la subcadena en la cadena solicitada"
   ]
  },
  {
   "cell_type": "code",
   "execution_count": 5,
   "id": "9343f5d6",
   "metadata": {},
   "outputs": [
    {
     "name": "stdout",
     "output_type": "stream",
     "text": [
      "La primera posición de 'Python' en mi string es:  20\n",
      "La primera posición de 'Python' en mi string es:  20\n"
     ]
    }
   ],
   "source": [
    "my_string = \"El curso de Backend Python de EBAC te lleva de la mano para que aprendas a programar\"\n",
    "\n",
    "print(\"La primera posición de 'Python' en mi string es: \",my_string.index(\"Python\"))\n",
    "print(\"La primera posición de 'Python' en mi string es: \",my_string.find(\"Python\"))"
   ]
  },
  {
   "cell_type": "code",
   "execution_count": 6,
   "id": "d340dc5f",
   "metadata": {},
   "outputs": [
    {
     "name": "stdout",
     "output_type": "stream",
     "text": [
      "La primera posición de 'Backend' en mi string es:  12\n",
      "La primera posición de 'Backend' en mi string es:  12\n"
     ]
    }
   ],
   "source": [
    "my_string = \"El curso de Backend Python de EBAC te lleva de la mano para que aprendas a programar\"\n",
    "\n",
    "print(\"La primera posición de 'Backend' en mi string es: \",my_string.index(\"Backend\"))\n",
    "print(\"La primera posición de 'Backend' en mi string es: \",my_string.find(\"Backend\"))"
   ]
  },
  {
   "cell_type": "code",
   "execution_count": 7,
   "id": "7d949ffa",
   "metadata": {},
   "outputs": [
    {
     "name": "stdout",
     "output_type": "stream",
     "text": [
      "La primera posición de 'E' en mi string es:  0\n",
      "La primera posición de 'E' en mi string es:  0\n"
     ]
    }
   ],
   "source": [
    "my_string = \"El curso de Backend Python de EBAC te lleva de la mano para que aprendas a programar\"\n",
    "\n",
    "print(\"La primera posición de 'E' en mi string es: \",my_string.index(\"E\"))\n",
    "print(\"La primera posición de 'E' en mi string es: \",my_string.find(\"E\"))"
   ]
  },
  {
   "cell_type": "markdown",
   "id": "b576f01f",
   "metadata": {},
   "source": [
    "### count\n",
    "Cuenta el número de apariciones de la subcadena en la cadena solicitada"
   ]
  },
  {
   "cell_type": "code",
   "execution_count": 8,
   "id": "a333f8ac",
   "metadata": {},
   "outputs": [
    {
     "name": "stdout",
     "output_type": "stream",
     "text": [
      "La cantidad de 'E' en my_string es:  2\n"
     ]
    }
   ],
   "source": [
    "my_string = \"El curso de Backend Python de EBAC te lleva de la mano para que aprendas a programar\"\n",
    "\n",
    "print(\"La cantidad de 'E' en my_string es: \",my_string.count(\"E\"))"
   ]
  },
  {
   "cell_type": "code",
   "execution_count": 9,
   "id": "87b8da9e",
   "metadata": {},
   "outputs": [
    {
     "name": "stdout",
     "output_type": "stream",
     "text": [
      "La cantidad de 'de' en my_string es:  3\n"
     ]
    }
   ],
   "source": [
    "my_string = \"El curso de Backend Python de EBAC te lleva de la mano para que aprendas a programar\"\n",
    "\n",
    "print(\"La cantidad de 'de' en my_string es: \",my_string.count(\"de\"))"
   ]
  },
  {
   "cell_type": "markdown",
   "id": "79f3a142",
   "metadata": {},
   "source": [
    "### len\n",
    "Cuenta la longitud, o cuántos caracteres hay"
   ]
  },
  {
   "cell_type": "code",
   "execution_count": 10,
   "id": "fb97e06d",
   "metadata": {},
   "outputs": [
    {
     "name": "stdout",
     "output_type": "stream",
     "text": [
      "La cantidad de caracteres en my_string es:  84\n"
     ]
    }
   ],
   "source": [
    "my_string = \"El curso de Backend Python de EBAC te lleva de la mano para que aprendas a programar\"\n",
    "\n",
    "print(\"La cantidad de caracteres en my_string es: \",len(my_string))"
   ]
  },
  {
   "cell_type": "code",
   "execution_count": 11,
   "id": "b214c17d",
   "metadata": {},
   "outputs": [
    {
     "name": "stdout",
     "output_type": "stream",
     "text": [
      "La cantidad de caracteres en my_string es:  14\n"
     ]
    }
   ],
   "source": [
    "my_string = \"Backend Python\"\n",
    "\n",
    "print(\"La cantidad de caracteres en my_string es: \",len(my_string))"
   ]
  },
  {
   "cell_type": "markdown",
   "id": "068bc1ec",
   "metadata": {},
   "source": [
    "### strip\n",
    "Remueve espacios"
   ]
  },
  {
   "cell_type": "code",
   "execution_count": 12,
   "id": "2c69a3c6",
   "metadata": {},
   "outputs": [
    {
     "name": "stdout",
     "output_type": "stream",
     "text": [
      "[    Backend Python    ]\n",
      "[Backend Python]\n"
     ]
    }
   ],
   "source": [
    "my_string = \"    Backend Python    \"\n",
    "\n",
    "print(\"[{}]\".format(my_string))\n",
    "print(\"[{}]\".format(my_string.strip()))"
   ]
  },
  {
   "cell_type": "code",
   "execution_count": 13,
   "id": "bac9ca58",
   "metadata": {},
   "outputs": [
    {
     "name": "stdout",
     "output_type": "stream",
     "text": [
      "[    \n",
      "\n",
      "\t\r",
      "Backend Python\n",
      "\n",
      "\t\r",
      "    ]\n",
      "[Backend Python]\n"
     ]
    }
   ],
   "source": [
    "my_string = \"    \\n\\n\\t\\rBackend Python\\n\\n\\t\\r    \"\n",
    "\n",
    "print(\"[{}]\".format(my_string))\n",
    "print(\"[{}]\".format(my_string.strip()))"
   ]
  },
  {
   "cell_type": "code",
   "execution_count": 14,
   "id": "a210f37e",
   "metadata": {},
   "outputs": [
    {
     "name": "stdout",
     "output_type": "stream",
     "text": [
      "[Backend Python]\n",
      "[Backend Pytho]\n"
     ]
    }
   ],
   "source": [
    "my_string = \"Backend Python\"\n",
    "\n",
    "print(\"[{}]\".format(my_string))\n",
    "print(\"[{}]\".format(my_string.strip(\"n\")))"
   ]
  },
  {
   "cell_type": "markdown",
   "id": "f7f7157d",
   "metadata": {},
   "source": [
    "### isdecimal / isnumeric / isdigit\n",
    "Analiza si la cadena contiene solamente números/enteros"
   ]
  },
  {
   "cell_type": "code",
   "execution_count": 15,
   "id": "7c1ed25d",
   "metadata": {},
   "outputs": [
    {
     "name": "stdout",
     "output_type": "stream",
     "text": [
      "True\n",
      "True\n",
      "True\n"
     ]
    }
   ],
   "source": [
    "my_string = \"123495789302\"\n",
    "print(my_string.isdecimal())\n",
    "print(my_string.isnumeric())\n",
    "print(my_string.isdigit())"
   ]
  },
  {
   "cell_type": "code",
   "execution_count": 16,
   "id": "2e029469",
   "metadata": {},
   "outputs": [
    {
     "name": "stdout",
     "output_type": "stream",
     "text": [
      "False\n",
      "False\n",
      "False\n"
     ]
    }
   ],
   "source": [
    "my_string = \"12349.5789302\"\n",
    "print(my_string.isdecimal())\n",
    "print(my_string.isnumeric())\n",
    "print(my_string.isdigit())"
   ]
  },
  {
   "cell_type": "code",
   "execution_count": 17,
   "id": "89aed846",
   "metadata": {},
   "outputs": [
    {
     "name": "stdout",
     "output_type": "stream",
     "text": [
      "False\n",
      "False\n",
      "False\n"
     ]
    }
   ],
   "source": [
    "my_string = \"1234957 89302\"\n",
    "print(my_string.isdecimal())\n",
    "print(my_string.isnumeric())\n",
    "print(my_string.isdigit())"
   ]
  },
  {
   "cell_type": "markdown",
   "id": "0d84bfb8",
   "metadata": {},
   "source": [
    "### isalnum\n",
    "Analiza si todos los caracteres son alfanuméricos (letras o números)"
   ]
  },
  {
   "cell_type": "code",
   "execution_count": 18,
   "id": "567ba842",
   "metadata": {},
   "outputs": [
    {
     "name": "stdout",
     "output_type": "stream",
     "text": [
      "True\n"
     ]
    }
   ],
   "source": [
    "my_string = \"123495789302\"\n",
    "print(my_string.isalnum())"
   ]
  },
  {
   "cell_type": "code",
   "execution_count": 19,
   "id": "c64d7be8",
   "metadata": {},
   "outputs": [
    {
     "name": "stdout",
     "output_type": "stream",
     "text": [
      "False\n"
     ]
    }
   ],
   "source": [
    "my_string = \"123495.789302\"\n",
    "print(my_string.isalnum())"
   ]
  },
  {
   "cell_type": "code",
   "execution_count": 20,
   "id": "e5f5fc3e",
   "metadata": {},
   "outputs": [
    {
     "name": "stdout",
     "output_type": "stream",
     "text": [
      "True\n"
     ]
    }
   ],
   "source": [
    "my_string = \"123495789302test\"\n",
    "print(my_string.isalnum())"
   ]
  },
  {
   "cell_type": "markdown",
   "id": "604b4916",
   "metadata": {},
   "source": [
    "### isupper\n",
    "Analiza si todas las letras presentes en la cadena son mayúsculas"
   ]
  },
  {
   "cell_type": "code",
   "execution_count": 22,
   "id": "0280d249",
   "metadata": {},
   "outputs": [
    {
     "name": "stdout",
     "output_type": "stream",
     "text": [
      "False\n"
     ]
    }
   ],
   "source": [
    "my_string = \"test\"\n",
    "print(my_string.isupper())"
   ]
  },
  {
   "cell_type": "code",
   "execution_count": 23,
   "id": "c2b20866",
   "metadata": {},
   "outputs": [
    {
     "name": "stdout",
     "output_type": "stream",
     "text": [
      "True\n"
     ]
    }
   ],
   "source": [
    "my_string = \"TEST\"\n",
    "print(my_string.isupper())"
   ]
  },
  {
   "cell_type": "code",
   "execution_count": 24,
   "id": "eb4a3d2a",
   "metadata": {},
   "outputs": [
    {
     "name": "stdout",
     "output_type": "stream",
     "text": [
      "False\n"
     ]
    }
   ],
   "source": [
    "my_string = \"Test\"\n",
    "print(my_string.isupper())"
   ]
  },
  {
   "cell_type": "code",
   "execution_count": 25,
   "id": "0c14f42f",
   "metadata": {},
   "outputs": [
    {
     "name": "stdout",
     "output_type": "stream",
     "text": [
      "True\n"
     ]
    }
   ],
   "source": [
    "my_string = \"TEST12345\"\n",
    "print(my_string.isupper())"
   ]
  },
  {
   "cell_type": "markdown",
   "id": "4d9a2a50",
   "metadata": {},
   "source": [
    "### islower\n",
    "Analiza si todas las letras presentes en la cadena son minúsculas"
   ]
  },
  {
   "cell_type": "code",
   "execution_count": 26,
   "id": "566ca716",
   "metadata": {},
   "outputs": [
    {
     "name": "stdout",
     "output_type": "stream",
     "text": [
      "True\n"
     ]
    }
   ],
   "source": [
    "my_string = \"test\"\n",
    "print(my_string.islower())"
   ]
  },
  {
   "cell_type": "code",
   "execution_count": 27,
   "id": "f4e5210a",
   "metadata": {},
   "outputs": [
    {
     "name": "stdout",
     "output_type": "stream",
     "text": [
      "False\n"
     ]
    }
   ],
   "source": [
    "my_string = \"TEST\"\n",
    "print(my_string.islower())"
   ]
  },
  {
   "cell_type": "code",
   "execution_count": 28,
   "id": "08761cad",
   "metadata": {},
   "outputs": [
    {
     "name": "stdout",
     "output_type": "stream",
     "text": [
      "False\n"
     ]
    }
   ],
   "source": [
    "my_string = \"Test\"\n",
    "print(my_string.islower())"
   ]
  },
  {
   "cell_type": "code",
   "execution_count": 29,
   "id": "5aa92802",
   "metadata": {},
   "outputs": [
    {
     "name": "stdout",
     "output_type": "stream",
     "text": [
      "False\n"
     ]
    }
   ],
   "source": [
    "my_string = \"TEST12345\"\n",
    "print(my_string.islower())"
   ]
  },
  {
   "cell_type": "code",
   "execution_count": 30,
   "id": "31aa2fd2",
   "metadata": {},
   "outputs": [
    {
     "name": "stdout",
     "output_type": "stream",
     "text": [
      "True\n"
     ]
    }
   ],
   "source": [
    "my_string = \"test12345\"\n",
    "print(my_string.islower())"
   ]
  },
  {
   "cell_type": "markdown",
   "id": "c6969248",
   "metadata": {},
   "source": [
    "### join\n",
    "Crea una cadena de una lista, usando el separador especificado "
   ]
  },
  {
   "cell_type": "code",
   "execution_count": 31,
   "id": "3e6352ac",
   "metadata": {},
   "outputs": [
    {
     "name": "stdout",
     "output_type": "stream",
     "text": [
      "132|22|389\n"
     ]
    }
   ],
   "source": [
    "num_list = [\"132\", \"22\", \"389\"]\n",
    "separator = \"|\"\n",
    "print(separator.join(num_list))"
   ]
  },
  {
   "cell_type": "code",
   "execution_count": 32,
   "id": "ae98eecc",
   "metadata": {},
   "outputs": [
    {
     "name": "stdout",
     "output_type": "stream",
     "text": [
      "132-22-389\n"
     ]
    }
   ],
   "source": [
    "num_list = [\"132\", \"22\", \"389\"]\n",
    "separator = \"-\"\n",
    "print(separator.join(num_list))"
   ]
  },
  {
   "cell_type": "code",
   "execution_count": 33,
   "id": "42672772",
   "metadata": {},
   "outputs": [
    {
     "name": "stdout",
     "output_type": "stream",
     "text": [
      "132,22,389\n"
     ]
    }
   ],
   "source": [
    "num_list = [\"132\", \"22\", \"389\"]\n",
    "separator = \",\"\n",
    "print(separator.join(num_list))"
   ]
  },
  {
   "cell_type": "markdown",
   "id": "e3a7516a",
   "metadata": {},
   "source": [
    "### capitalize\n",
    "Hace mayúscula la primer letra"
   ]
  },
  {
   "cell_type": "code",
   "execution_count": 34,
   "id": "bf2c66aa",
   "metadata": {},
   "outputs": [
    {
     "name": "stdout",
     "output_type": "stream",
     "text": [
      "Backend python\n"
     ]
    }
   ],
   "source": [
    "my_string = \"backend python\"\n",
    "print(my_string.capitalize())"
   ]
  },
  {
   "cell_type": "code",
   "execution_count": 35,
   "id": "d63923ba",
   "metadata": {},
   "outputs": [
    {
     "name": "stdout",
     "output_type": "stream",
     "text": [
      "Probando las funciones\n"
     ]
    }
   ],
   "source": [
    "my_string = \"probando las funciones\"\n",
    "print(my_string.capitalize())"
   ]
  },
  {
   "cell_type": "code",
   "execution_count": 36,
   "id": "d87c4408",
   "metadata": {},
   "outputs": [
    {
     "name": "stdout",
     "output_type": "stream",
     "text": [
      "Probando las funciones\n"
     ]
    }
   ],
   "source": [
    "my_string = \"Probando las funciones\"\n",
    "print(my_string.capitalize())"
   ]
  },
  {
   "cell_type": "markdown",
   "id": "70f6d975",
   "metadata": {},
   "source": [
    "### format\n",
    "Nos ayuda a configurar valores dentro de una cadena que es nuestro molde"
   ]
  },
  {
   "cell_type": "code",
   "execution_count": 37,
   "id": "89fbfec0",
   "metadata": {},
   "outputs": [
    {
     "name": "stdout",
     "output_type": "stream",
     "text": [
      "44 es el valor\n",
      "22 es el valor\n",
      "7 es el valor\n"
     ]
    }
   ],
   "source": [
    "my_string = \"{} es el valor\"\n",
    "print(my_string.format(\"44\"))\n",
    "print(my_string.format(\"22\"))\n",
    "print(my_string.format(\"7\"))"
   ]
  },
  {
   "cell_type": "code",
   "execution_count": 38,
   "id": "945a8de1",
   "metadata": {},
   "outputs": [
    {
     "name": "stdout",
     "output_type": "stream",
     "text": [
      "año: 1999 hora: 4:20\n",
      "año: 2020 hora: 19:01\n",
      "año: 1860 hora: 12:23\n"
     ]
    }
   ],
   "source": [
    "my_string = \"año: {} hora: {}\"\n",
    "print(my_string.format(\"1999\", \"4:20\"))\n",
    "print(my_string.format(\"2020\", \"19:01\"))\n",
    "print(my_string.format(\"1860\", \"12:23\"))"
   ]
  },
  {
   "cell_type": "code",
   "execution_count": 39,
   "id": "df683dc7",
   "metadata": {},
   "outputs": [
    {
     "name": "stdout",
     "output_type": "stream",
     "text": [
      "hora: 4:20 año: 1999 \n",
      "hora: 19:01 año: 2020 \n",
      "hora: 12:23 año: 1860 \n"
     ]
    }
   ],
   "source": [
    "my_string = \"hora: {1} año: {0} \"\n",
    "print(my_string.format(\"1999\", \"4:20\"))\n",
    "print(my_string.format(\"2020\", \"19:01\"))\n",
    "print(my_string.format(\"1860\", \"12:23\"))"
   ]
  },
  {
   "cell_type": "markdown",
   "id": "fb94bfba",
   "metadata": {},
   "source": [
    "### center\n",
    "Centra el texto dada cierta longitud"
   ]
  },
  {
   "cell_type": "code",
   "execution_count": 40,
   "id": "0735c41a",
   "metadata": {},
   "outputs": [
    {
     "name": "stdout",
     "output_type": "stream",
     "text": [
      "[ Probando funciones ]\n",
      "[      Probando funciones      ]\n",
      "[           Probando funciones           ]\n",
      "[                Probando funciones                ]\n"
     ]
    }
   ],
   "source": [
    "my_string = \"Probando funciones\"\n",
    "print(\"[{}]\".format(my_string.center(20)))\n",
    "print(\"[{}]\".format(my_string.center(30)))\n",
    "print(\"[{}]\".format(my_string.center(40)))\n",
    "print(\"[{}]\".format(my_string.center(50)))"
   ]
  },
  {
   "cell_type": "markdown",
   "id": "758e96a2",
   "metadata": {},
   "source": [
    "### endswith\n",
    "Evalúa si la cadena termina con el caracter o palabra solicitada"
   ]
  },
  {
   "cell_type": "code",
   "execution_count": 41,
   "id": "514d356d",
   "metadata": {},
   "outputs": [
    {
     "name": "stdout",
     "output_type": "stream",
     "text": [
      "True\n"
     ]
    }
   ],
   "source": [
    "my_string = \"Probando funciones\"\n",
    "print(my_string.endswith(\"s\"))"
   ]
  },
  {
   "cell_type": "code",
   "execution_count": 42,
   "id": "5011ec58",
   "metadata": {},
   "outputs": [
    {
     "name": "stdout",
     "output_type": "stream",
     "text": [
      "True\n"
     ]
    }
   ],
   "source": [
    "my_string = \"Probando funciones\"\n",
    "print(my_string.endswith(\"funciones\"))"
   ]
  },
  {
   "cell_type": "code",
   "execution_count": 43,
   "id": "c564232e",
   "metadata": {},
   "outputs": [
    {
     "name": "stdout",
     "output_type": "stream",
     "text": [
      "True\n"
     ]
    }
   ],
   "source": [
    "my_string = \"Probando funciones\"\n",
    "print(my_string.endswith(\"ando funciones\"))"
   ]
  },
  {
   "cell_type": "code",
   "execution_count": 44,
   "id": "bd44ce98",
   "metadata": {},
   "outputs": [
    {
     "name": "stdout",
     "output_type": "stream",
     "text": [
      "False\n"
     ]
    }
   ],
   "source": [
    "my_string = \"Probando funciones\"\n",
    "print(my_string.endswith(\"probando\"))"
   ]
  },
  {
   "cell_type": "markdown",
   "id": "c54563fd",
   "metadata": {},
   "source": [
    "### swapcase\n",
    "Invierte mayúsuculas y minúsculas"
   ]
  },
  {
   "cell_type": "code",
   "execution_count": 45,
   "id": "b29f4f9f",
   "metadata": {},
   "outputs": [
    {
     "name": "stdout",
     "output_type": "stream",
     "text": [
      "pROBANDO FUNCIONES\n"
     ]
    }
   ],
   "source": [
    "my_string = \"Probando funciones\"\n",
    "print(my_string.swapcase())"
   ]
  },
  {
   "cell_type": "code",
   "execution_count": 46,
   "id": "02b7c57d",
   "metadata": {},
   "outputs": [
    {
     "name": "stdout",
     "output_type": "stream",
     "text": [
      "probando FUNCIONES\n"
     ]
    }
   ],
   "source": [
    "my_string = \"PROBANDO funciones\"\n",
    "print(my_string.swapcase())"
   ]
  },
  {
   "cell_type": "code",
   "execution_count": 47,
   "id": "b955938a",
   "metadata": {},
   "outputs": [
    {
     "name": "stdout",
     "output_type": "stream",
     "text": [
      "pROBANDO fUNCIONES\n"
     ]
    }
   ],
   "source": [
    "my_string = \"Probando Funciones\"\n",
    "print(my_string.swapcase())"
   ]
  },
  {
   "cell_type": "markdown",
   "id": "ce6c74b9",
   "metadata": {},
   "source": [
    "### replace\n",
    "Remplaza una subcadena por otra subcadena, dentro de una cadena"
   ]
  },
  {
   "cell_type": "code",
   "execution_count": 48,
   "id": "fc32d596",
   "metadata": {},
   "outputs": [
    {
     "name": "stdout",
     "output_type": "stream",
     "text": [
      "Usando funciones\n"
     ]
    }
   ],
   "source": [
    "my_string = \"Probando funciones\"\n",
    "print(my_string.replace(\"Probando\", \"Usando\"))"
   ]
  },
  {
   "cell_type": "code",
   "execution_count": 49,
   "id": "df652850",
   "metadata": {},
   "outputs": [
    {
     "name": "stdout",
     "output_type": "stream",
     "text": [
      "Probando\n",
      "funciones\n"
     ]
    }
   ],
   "source": [
    "my_string = \"Probando funciones\"\n",
    "print(my_string.replace(\" \", \"\\n\"))"
   ]
  },
  {
   "cell_type": "code",
   "execution_count": 50,
   "id": "a52c2ce9",
   "metadata": {},
   "outputs": [
    {
     "name": "stdout",
     "output_type": "stream",
     "text": [
      "PrObandO funciOnes\n"
     ]
    }
   ],
   "source": [
    "my_string = \"Probando funciones\"\n",
    "print(my_string.replace(\"o\", \"O\"))"
   ]
  },
  {
   "cell_type": "code",
   "execution_count": 51,
   "id": "407f393b",
   "metadata": {},
   "outputs": [
    {
     "name": "stdout",
     "output_type": "stream",
     "text": [
      "Probando funciones\n"
     ]
    }
   ],
   "source": [
    "my_string = \"Probando funciones\"\n",
    "print(my_string.replace(\"y\", \"O\"))"
   ]
  },
  {
   "cell_type": "markdown",
   "id": "2e92c5f1",
   "metadata": {},
   "source": [
    "### Formateo de cadenas y datetime"
   ]
  },
  {
   "cell_type": "code",
   "execution_count": 52,
   "id": "a2d432f7",
   "metadata": {},
   "outputs": [
    {
     "name": "stdout",
     "output_type": "stream",
     "text": [
      "2023-03-08 10:42:36.485980\n"
     ]
    }
   ],
   "source": [
    "from datetime import datetime \n",
    "now = datetime.now()\n",
    "\n",
    "print(now)"
   ]
  },
  {
   "cell_type": "code",
   "execution_count": 53,
   "id": "0716e2c1",
   "metadata": {},
   "outputs": [
    {
     "name": "stdout",
     "output_type": "stream",
     "text": [
      "Año:  2023\n",
      "Mes:  03\n",
      "Día:  08\n",
      "Hora:  10:42:36\n"
     ]
    }
   ],
   "source": [
    "year = now.strftime(\"%Y\")\n",
    "month = now.strftime(\"%m\")\n",
    "day = now.strftime(\"%d\")\n",
    "time = now.strftime(\"%H:%M:%S\")\n",
    "\n",
    "print(\"Año: \", year)\n",
    "print(\"Mes: \", month)\n",
    "print(\"Día: \", day)\n",
    "print(\"Hora: \", time)"
   ]
  },
  {
   "cell_type": "markdown",
   "id": "e70c4de5",
   "metadata": {},
   "source": [
    "### reverse / reversa\n",
    "Invertir una cadena"
   ]
  },
  {
   "cell_type": "code",
   "execution_count": 54,
   "id": "fee0d521",
   "metadata": {},
   "outputs": [
    {
     "name": "stdout",
     "output_type": "stream",
     "text": [
      "senoicnuf odnaborP\n"
     ]
    }
   ],
   "source": [
    "my_string = \"Probando funciones\"\n",
    "print(my_string[::-1])"
   ]
  },
  {
   "cell_type": "code",
   "execution_count": 55,
   "id": "b51bf8f3",
   "metadata": {},
   "outputs": [
    {
     "name": "stdout",
     "output_type": "stream",
     "text": [
      "Probando funciones\n"
     ]
    }
   ],
   "source": [
    "my_string = \"senoicnuf odnaborP\"\n",
    "print(my_string[::-1])"
   ]
  },
  {
   "cell_type": "code",
   "execution_count": null,
   "id": "58f35fbd",
   "metadata": {},
   "outputs": [],
   "source": []
  }
 ],
 "metadata": {
  "kernelspec": {
   "display_name": "Python 3 (ipykernel)",
   "language": "python",
   "name": "python3"
  },
  "language_info": {
   "codemirror_mode": {
    "name": "ipython",
    "version": 3
   },
   "file_extension": ".py",
   "mimetype": "text/x-python",
   "name": "python",
   "nbconvert_exporter": "python",
   "pygments_lexer": "ipython3",
   "version": "3.10.2"
  }
 },
 "nbformat": 4,
 "nbformat_minor": 5
}
