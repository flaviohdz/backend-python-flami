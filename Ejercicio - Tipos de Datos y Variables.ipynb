{
 "cells": [
  {
   "cell_type": "code",
   "execution_count": 9,
   "metadata": {},
   "outputs": [
    {
     "name": "stdout",
     "output_type": "stream",
     "text": [
      "Para decidir una operación utlice: \n",
      " '+' para suma \n",
      " '-' para resta \n",
      " '/' para división \n",
      " '*' para multiplicación \n",
      "El resultado es:  0x2\n"
     ]
    }
   ],
   "source": [
    "# Solicito datos al usuario\n",
    "\n",
    "num1 = input(\"Ingresa un número: \")\n",
    "num2 = input(\"Ingresa un número: \")\n",
    "# Pido una operación\n",
    "print(\"Para decidir una operación utlice: \\n '+' para suma \\n '-' para resta \\n '/' para división \\n '*' para multiplicación \")\n",
    "operator = input(\"¿Que operacion desea realizar?: \")\n",
    "\n",
    "def calculator(num1, operator, num2):\n",
    "    if operator not in ['+', '-', '*', '/']:\n",
    "        return \"Operador inválido. Usa entre '+', '-', '*', o '/'.\"\n",
    "    # Escoge la base del primer valor\n",
    "    if num1.startswith('0b'):\n",
    "        num1 = int(num1, 2)\n",
    "    elif num1.startswith('0x'):\n",
    "        num1 = int(num1, 16)\n",
    "    elif num1.startswith('0o'):\n",
    "        num1 = int(num1, 8)\n",
    "    else:\n",
    "        num1 = int(num1)\n",
    "    # Escoge la base del segundo valor\n",
    "    if num2.startswith('0b'):\n",
    "        num2 = int(num2, 2)\n",
    "    elif num2.startswith('0x'):\n",
    "        num2 = int(num2, 16)\n",
    "    elif num2.startswith('0o'):\n",
    "        num2 = int(num2, 8)\n",
    "    else:\n",
    "        num2 = int(num2)\n",
    "\n",
    "    if operator == '+':\n",
    "        return hex(num1 + num2)\n",
    "    elif operator == '-':\n",
    "        return hex(num1 - num2)\n",
    "    elif operator == '*':\n",
    "        return hex(num1 * num2)\n",
    "    else:\n",
    "        if num2 == 0:\n",
    "            return \"No se puede dividir entre cero.\"\n",
    "        return hex(num1 / num2)\n",
    "print(\"El resultado es: \",calculator(num1, operator, num2))"
   ]
  },
  {
   "cell_type": "code",
   "execution_count": null,
   "metadata": {},
   "outputs": [],
   "source": []
  }
 ],
 "metadata": {
  "kernelspec": {
   "display_name": "Python 3 (ipykernel)",
   "language": "python",
   "name": "python3"
  },
  "language_info": {
   "codemirror_mode": {
    "name": "ipython",
    "version": 3
   },
   "file_extension": ".py",
   "mimetype": "text/x-python",
   "name": "python",
   "nbconvert_exporter": "python",
   "pygments_lexer": "ipython3",
   "version": "3.10.2"
  },
  "vscode": {
   "interpreter": {
    "hash": "d8a6ac2cf07d20788ee3be559b7c570527ae1980040eb9544e2a11bb3a26a390"
   }
  }
 },
 "nbformat": 4,
 "nbformat_minor": 2
}
