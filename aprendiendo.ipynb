{
 "cells": [
  {
   "cell_type": "code",
   "execution_count": null,
   "metadata": {},
   "outputs": [],
   "source": [
    "print(\"i love pizza\")\n",
    "print(\"its really good!\")"
   ]
  },
  {
   "cell_type": "markdown",
   "metadata": {},
   "source": [
    "Variables y cómo funcionan"
   ]
  },
  {
   "cell_type": "code",
   "execution_count": null,
   "metadata": {},
   "outputs": [],
   "source": [
    "# cómo usar los strings\n",
    "first_name = \"flami\"\n",
    "last_name = \"puck\"\n",
    "full_name = first_name + last_name \n",
    "# así se pone comentario \n",
    "print( \"Que onda manito,\",full_name)\n",
    "# print(type(name)) imprime el tipo de variable "
   ]
  },
  {
   "cell_type": "code",
   "execution_count": null,
   "metadata": {},
   "outputs": [],
   "source": [
    "# cómo usar integer\n",
    "age = 21\n",
    "#age = age + 1\n",
    "age += 1\n",
    "print(\"tu edad es de\",age,\"años\")\n",
    "print(type(age))"
   ]
  },
  {
   "cell_type": "code",
   "execution_count": null,
   "metadata": {},
   "outputs": [],
   "source": [
    "#cómo utilizar un float \n",
    "height = 250.5\n",
    "print(\"tu altura es de:\",height,\"cm\")"
   ]
  },
  {
   "cell_type": "code",
   "execution_count": null,
   "metadata": {},
   "outputs": [],
   "source": [
    "#multiple assignment = te permite agregar múltiples variables al mismo tiempo en una sola línea de código\n",
    "name, age, attractive = \"flamis\", 25, True\n",
    "print(\"hola soy\",name,\"tengo\",age,\"años de edad y soy atractivo\",attractive)"
   ]
  },
  {
   "cell_type": "code",
   "execution_count": null,
   "metadata": {},
   "outputs": [],
   "source": [
    "#cómo utlizar de varias maneras el string\n",
    "\n",
    "name = \"flamis\"\n",
    "print(len(name))\n",
    "#imprime el largo del string\n",
    "print(name.find(\"a\"))\n",
    "#encuentra en dónde esta el caracter que necesitamos dentro de la variable dada\n",
    "print(name.capitalize())\n",
    "#te hace el primer caracter mayúscula\n",
    "print(name.upper())\n",
    "#te hace todos los caracteres mayúscula\n",
    "print(name.lower())\n",
    "#te hace todo minúscula \n",
    "print(name.isalpha())\n",
    "#te dice si son caracteres alfabeticos\n",
    "print(name.count(\"a\"))\n",
    "#te cuenta cuantos caracteres del que pides hay en el string\n",
    "print(name.replace(\"i\",\"1\"))\n",
    "#te reemplaza un caracter por otro poniendo primero el que va a reemplazar y luego el que lo reemplaza\n",
    "print(name*7)\n",
    "#te permite repetir las veces que quieras tu string"
   ]
  },
  {
   "cell_type": "code",
   "execution_count": null,
   "metadata": {},
   "outputs": [],
   "source": [
    "#type casting= convertir el tipo de dato de uno a otro\n",
    "\n",
    "x, y, z = 1, 2.5, \"4\"\n",
    "print(\"el valor asignado a x es de\",x,\"el valor asignado a y es de\",y,\"y el valor asigando a z es de\",z)"
   ]
  },
  {
   "cell_type": "code",
   "execution_count": null,
   "metadata": {},
   "outputs": [],
   "source": [
    "#input solicitar datos al usuario\n",
    "\n",
    "name = input(\"what is your name?: \")\n",
    "age = int(input(\"what is your age?: \"))\n",
    "height = float(input(\"hpw tall are you?;\"))\n",
    "age += 1\n",
    "print(\"hello mr:\",name)\n",
    "print(\"you are\",age,\"years old\")\n",
    "print(\"you are\",height,\"cm tall\")"
   ]
  },
  {
   "cell_type": "code",
   "execution_count": null,
   "metadata": {},
   "outputs": [],
   "source": [
    "import math\n",
    "\n",
    "pi = 3.14\n",
    "x,y,z = 1,2,3\n",
    "\n",
    "print(round(pi))\n",
    "#para redondear un número\n",
    "print(math.ceil(pi))\n",
    "#para redondear al número más alto que sigue\n",
    "print(math.floor(pi))\n",
    "#para redondear al número abajo\n",
    "print(abs(pi))\n",
    "#te da el valor absoluto de un número\n",
    "print(pow(pi,3))\n",
    "#eleva un número a la potencia deseada\n",
    "print(math.sqrt(pi))\n",
    "#te da la raíz cuadrada de un número\n",
    "print(max(x,y,z))\n",
    "#encuentra el valor máximo en los valores dados\n",
    "print(min(x,y,z))\n",
    "#encuentra el valor más pequeño de los dados"
   ]
  },
  {
   "cell_type": "code",
   "execution_count": null,
   "metadata": {},
   "outputs": [],
   "source": [
    "#slicing= puedes tomar valores de un string y utilizarlos\n",
    "\n",
    "b = \"Hello, World!\"\n",
    "print(b[2:5])\n",
    "\n",
    "name = \"flamipuck\"\n",
    "print(name[0:3])\n",
    "print(name[:3])\n",
    "print(name[0:9:2])\n",
    "print(name[::-1])\n",
    "\n",
    "website = \"https://youtube.com\"\n",
    "website2 = \"https://google.com\"\n",
    "pieza = slice(8,-4)\n",
    "print(website2[pieza])\n"
   ]
  },
  {
   "cell_type": "code",
   "execution_count": null,
   "metadata": {},
   "outputs": [],
   "source": [
    "age = 21\n",
    "name = \"flamis\"\n",
    "print(\"your age is \"+str(age)+\" and your name is \"+name)"
   ]
  },
  {
   "cell_type": "code",
   "execution_count": null,
   "metadata": {},
   "outputs": [],
   "source": [
    "#if statements= condiciones if, elif y else\n",
    "\n",
    "age = int(input(\"how old are you?; \"))\n",
    "\n",
    "if age >= 18:\n",
    "    print(\"you are an adult!\")\n",
    "elif age == 100:\n",
    "    print(\"you are a century old\")\n",
    "elif age < 0:\n",
    "    print(\"you havent been born yet!\")\n",
    "else:\n",
    "    print(\"you are a child\")"
   ]
  },
  {
   "cell_type": "code",
   "execution_count": null,
   "metadata": {},
   "outputs": [],
   "source": [
    "#logical operators = and, or\n",
    "\n",
    "temp = float(input(\"¿que temperatua hay afuera?: \"))\n",
    "if temp >= 0 and temp <= 30:\n",
    "    print(\"esta chula ve afuera\")\n",
    "elif temp < 0 or temp > 30:\n",
    "    print(\"no salgas pa\")"
   ]
  },
  {
   "cell_type": "code",
   "execution_count": null,
   "metadata": {},
   "outputs": [],
   "source": [
    "#while loop= como usar el while\n",
    "\n",
    "name = \"\"\n",
    "\n",
    "while len(name) == 0:\n",
    "    name = input(\"enter your name\")\n",
    "\n",
    "print(\"hello\",name)"
   ]
  },
  {
   "cell_type": "code",
   "execution_count": null,
   "metadata": {},
   "outputs": [],
   "source": [
    "for i in range(10,20+1,2):\n",
    "    print(i)\n",
    "for i in \"flamis\":\n",
    "    print(i)"
   ]
  },
  {
   "cell_type": "code",
   "execution_count": null,
   "metadata": {},
   "outputs": [],
   "source": [
    "for seconds in range(10,0,-1):\n",
    "    print(seconds)\n",
    "    \n",
    "print(\"ola\")\n"
   ]
  },
  {
   "cell_type": "code",
   "execution_count": 11,
   "metadata": {},
   "outputs": [
    {
     "name": "stdout",
     "output_type": "stream",
     "text": [
      "###\n",
      "###\n",
      "###\n"
     ]
    }
   ],
   "source": [
    "rows = int(input(\"how many rows?\"))\n",
    "column = int(input(\"how many columns?\"))\n",
    "symbol = input(\"enter a symbol to use\")\n",
    "\n",
    "for i in range(rows):\n",
    "    for j in range(column):\n",
    "        print(symbol, end=\"\")\n",
    "    print()"
   ]
  }
 ],
 "metadata": {
  "kernelspec": {
   "display_name": "Python 3.10.2 64-bit",
   "language": "python",
   "name": "python3"
  },
  "language_info": {
   "codemirror_mode": {
    "name": "ipython",
    "version": 3
   },
   "file_extension": ".py",
   "mimetype": "text/x-python",
   "name": "python",
   "nbconvert_exporter": "python",
   "pygments_lexer": "ipython3",
   "version": "3.10.2"
  },
  "orig_nbformat": 4,
  "vscode": {
   "interpreter": {
    "hash": "d8a6ac2cf07d20788ee3be559b7c570527ae1980040eb9544e2a11bb3a26a390"
   }
  }
 },
 "nbformat": 4,
 "nbformat_minor": 2
}
